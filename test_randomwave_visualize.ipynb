{
 "cells": [
  {
   "cell_type": "code",
   "execution_count": 1,
   "id": "58d527d7",
   "metadata": {},
   "outputs": [],
   "source": [
    "import numpy as np\n",
    "import matplotlib.pyplot as plt\n",
    "from mpl_toolkits.mplot3d import Axes3D\n",
    "plt.rcParams[\"font.family\"] = \"Arial\"\n",
    "from skimage import measure\n",
    "import pyvista as pv\n",
    "pv.set_jupyter_backend('trame')\n",
    "from tqdm import tqdm, trange\n",
    "from scipy import interpolate, ndimage, fft\n",
    "from scipy.io import savemat\n",
    "import numba as nb\n",
    "from time import time"
   ]
  },
  {
   "attachments": {},
   "cell_type": "markdown",
   "id": "ccfb6ac0",
   "metadata": {},
   "source": [
    "## Meshgrid"
   ]
  },
  {
   "cell_type": "code",
   "execution_count": 2,
   "id": "b7b278a9",
   "metadata": {},
   "outputs": [],
   "source": [
    "n_grid = 100\n",
    "x = np.linspace(-1,1,n_grid+1)\n",
    "y = np.linspace(-1,1,n_grid+1)\n",
    "z = np.linspace(-1,1,n_grid+1)\n",
    "\n",
    "r_grid = np.meshgrid(x,y,z) \n"
   ]
  },
  {
   "attachments": {},
   "cell_type": "markdown",
   "id": "61d3b4f2",
   "metadata": {},
   "source": [
    "## Random wave"
   ]
  },
  {
   "cell_type": "code",
   "execution_count": 3,
   "id": "d9c5681f",
   "metadata": {},
   "outputs": [],
   "source": [
    "#### Wave vector distribution ####\n",
    "def sample_k(k_mean,k_cov):\n",
    "    return np.random.multivariate_normal(k_mean,k_cov)\n"
   ]
  },
  {
   "cell_type": "code",
   "execution_count": 4,
   "id": "26f1cd3e",
   "metadata": {},
   "outputs": [],
   "source": [
    "#### Superpositioning the random wave ####\n",
    "def sample_wave(r_grid,k_mean,k_cov,n_wave = 100):\n",
    "    rho = np.zeros_like(r_grid[0])\n",
    "    for i in range(n_wave):\n",
    "        phi = np.random.rand()*2*np.pi # random phase\n",
    "        k_sample = sample_k(k_mean,k_cov)\n",
    "        k_dot_r = np.sum([r_grid[x]*k_sample[x] for x in range(3)],axis=0)\n",
    "        rho_i = np.cos(k_dot_r + phi) # cos(k_n.r + phi_n)\n",
    "        rho += rho_i\n",
    "\n",
    "    rho = np.sqrt(2/n_wave)*rho\n",
    "    \n",
    "    return rho\n",
    "\n",
    "def ball():\n",
    "    rho = np.zeros_like(r_grid[0])\n",
    "    radius = np.sqrt(r_grid[0]**2+r_grid[1]**2+r_grid[2]**2)\n",
    "    rho[radius<=0.15]=1\n",
    "\n",
    "    return rho"
   ]
  },
  {
   "attachments": {},
   "cell_type": "markdown",
   "id": "9f7e8578",
   "metadata": {},
   "source": [
    "## Visualization"
   ]
  },
  {
   "cell_type": "code",
   "execution_count": 5,
   "id": "65965e33",
   "metadata": {
    "scrolled": false
   },
   "outputs": [],
   "source": [
    "#### Wave vector distribution ####\n",
    "kz_list = (np.arange(5)+1)*2\n",
    "kxy_list = (np.arange(5)+1)*2\n",
    "kz_grid, kxy_grid = np.meshgrid(kz_list,kxy_list)\n",
    "\n",
    "n_wave = 60\n",
    "alpha = 0 # clipping level\n",
    "\n",
    "for k in zip(kz_grid.flatten(),kxy_grid.flatten()):\n",
    "    print(k)\n",
    "    k_mean = np.array([0,0,20])*np.pi # lamellar perpendicular to z axis \n",
    "    k_var  = (np.array([k[1],k[1],k[0]])*np.pi)**2\n",
    "    k_cov  = np.diagflat(k_var)\n",
    "\n",
    "    ### Clipping random wave ####\n",
    "    rho = sample_wave(r_grid,k_mean,k_cov,n_wave = 60)\n",
    "\n",
    "    # pyvista\n",
    "    # https://stackoverflow.com/questions/6030098\n",
    "    grid = pv.StructuredGrid(r_grid[0], r_grid[1], r_grid[2])\n",
    "    grid[\"vol\"] = rho.flatten('F')\n",
    "    mesh = grid.contour([alpha])\n",
    "\n",
    "    # Visualization\n",
    "    pv.set_plot_theme('document')\n",
    "    pl = pv.Plotter(window_size=[600, 600])\n",
    "    pl.enable_anti_aliasing('msaa')\n",
    "\n",
    "    backface_params = dict(color='#303030',\n",
    "                        ambient=0.2, diffuse=0.8, specular=0.1, specular_power=10,\n",
    "    #                        opacity=0.5\n",
    "                        )\n",
    "    pl.add_mesh(mesh, show_scalar_bar=False, color='#A0A0A0',  \n",
    "                ambient=0.2, diffuse=0.8, specular=0.1, specular_power=10,\n",
    "                backface_params=backface_params, \n",
    "                smooth_shading=True, \n",
    "    #             opacity=0.5\n",
    "                )\n",
    "\n",
    "    # camera setting\n",
    "    pl.camera_position = 'yz'\n",
    "    pl.camera.azimuth = -60.0\n",
    "    pl.camera.elevation = 24.0\n",
    "    pl.camera.reset_clipping_range()\n",
    "\n",
    "    # light setting\n",
    "    light = pv.Light()\n",
    "    light.set_direction_angle(21, -55.0)\n",
    "    light.attenuation_values = (0,0,2)\n",
    "    pl.add_light(light)\n",
    "\n",
    "    filename = './Figures/lamellar_{}-{}.png'.format(k[0],k[1])\n",
    "    pl.show(screenshot=filename)"
   ]
  },
  {
   "cell_type": "code",
   "execution_count": null,
   "id": "39251f70",
   "metadata": {},
   "outputs": [],
   "source": []
  }
 ],
 "metadata": {
  "kernelspec": {
   "display_name": "Python 3",
   "language": "python",
   "name": "python3"
  },
  "language_info": {
   "codemirror_mode": {
    "name": "ipython",
    "version": 3
   },
   "file_extension": ".py",
   "mimetype": "text/x-python",
   "name": "python",
   "nbconvert_exporter": "python",
   "pygments_lexer": "ipython3",
   "version": "3.8.11"
  }
 },
 "nbformat": 4,
 "nbformat_minor": 5
}
