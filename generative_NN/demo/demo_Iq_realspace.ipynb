{
 "cells": [
  {
   "cell_type": "markdown",
   "metadata": {},
   "source": [
    "## Program Code for Calculating I(Qd)"
   ]
  },
  {
   "cell_type": "markdown",
   "metadata": {},
   "source": [
    "### *1. Load module*"
   ]
  },
  {
   "cell_type": "code",
   "execution_count": 1,
   "metadata": {},
   "outputs": [
    {
     "name": "stderr",
     "output_type": "stream",
     "text": [
      "2024-10-15 09:33:14.039511: I tensorflow/core/platform/cpu_feature_guard.cc:193] This TensorFlow binary is optimized with oneAPI Deep Neural Network Library (oneDNN) to use the following CPU instructions in performance-critical operations:  AVX2 AVX512F AVX512_VNNI AVX512_BF16 FMA\n",
      "To enable them in other operations, rebuild TensorFlow with the appropriate compiler flags.\n",
      "2024-10-15 09:33:14.846203: I tensorflow/core/util/util.cc:169] oneDNN custom operations are on. You may see slightly different numerical results due to floating-point round-off errors from different computation orders. To turn them off, set the environment variable `TF_ENABLE_ONEDNN_OPTS=0`.\n",
      "2024-10-15 09:33:15.141398: W tensorflow/stream_executor/platform/default/dso_loader.cc:64] Could not load dynamic library 'libcudart.so.11.0'; dlerror: libcudart.so.11.0: cannot open shared object file: No such file or directory; LD_LIBRARY_PATH: /SNS/software/lib64:/SNS/software/lib:/usr/lib64/gstreamer-0.10:/SNS/software/lib64:/SNS/software/lib:/usr/lib64/gstreamer-0.10:/SNS/software/lib64:/SNS/software/lib:/usr/lib64/gstreamer-0.10:/opt/thinlinc/lib64:/opt/thinlinc/lib\n",
      "2024-10-15 09:33:15.141436: I tensorflow/stream_executor/cuda/cudart_stub.cc:29] Ignore above cudart dlerror if you do not have a GPU set up on your machine.\n",
      "2024-10-15 09:33:15.256744: E tensorflow/stream_executor/cuda/cuda_blas.cc:2981] Unable to register cuBLAS factory: Attempting to register factory for plugin cuBLAS when one has already been registered\n",
      "2024-10-15 09:33:18.080419: W tensorflow/stream_executor/platform/default/dso_loader.cc:64] Could not load dynamic library 'libnvinfer.so.7'; dlerror: libnvinfer.so.7: cannot open shared object file: No such file or directory; LD_LIBRARY_PATH: /SNS/software/lib64:/SNS/software/lib:/usr/lib64/gstreamer-0.10:/SNS/software/lib64:/SNS/software/lib:/usr/lib64/gstreamer-0.10:/SNS/software/lib64:/SNS/software/lib:/usr/lib64/gstreamer-0.10:/opt/thinlinc/lib64:/opt/thinlinc/lib\n",
      "2024-10-15 09:33:18.081183: W tensorflow/stream_executor/platform/default/dso_loader.cc:64] Could not load dynamic library 'libnvinfer_plugin.so.7'; dlerror: libnvinfer_plugin.so.7: cannot open shared object file: No such file or directory; LD_LIBRARY_PATH: /SNS/software/lib64:/SNS/software/lib:/usr/lib64/gstreamer-0.10:/SNS/software/lib64:/SNS/software/lib:/usr/lib64/gstreamer-0.10:/SNS/software/lib64:/SNS/software/lib:/usr/lib64/gstreamer-0.10:/opt/thinlinc/lib64:/opt/thinlinc/lib\n",
      "2024-10-15 09:33:18.081193: W tensorflow/compiler/tf2tensorrt/utils/py_utils.cc:38] TF-TRT Warning: Cannot dlopen some TensorRT libraries. If you would like to use Nvidia GPU with TensorRT, please make sure the missing libraries mentioned above are installed properly.\n"
     ]
    },
    {
     "name": "stdout",
     "output_type": "stream",
     "text": [
      "tensorflow version = 2.10.0\n",
      "[name: \"/device:CPU:0\"\n",
      "device_type: \"CPU\"\n",
      "memory_limit: 268435456\n",
      "locality {\n",
      "}\n",
      "incarnation: 10913243684586510967\n",
      "xla_global_id: -1\n",
      "]\n"
     ]
    },
    {
     "name": "stderr",
     "output_type": "stream",
     "text": [
      "2024-10-15 09:33:24.236217: I tensorflow/core/platform/cpu_feature_guard.cc:193] This TensorFlow binary is optimized with oneAPI Deep Neural Network Library (oneDNN) to use the following CPU instructions in performance-critical operations:  AVX2 AVX512F AVX512_VNNI AVX512_BF16 FMA\n",
      "To enable them in other operations, rebuild TensorFlow with the appropriate compiler flags.\n",
      "2024-10-15 09:33:24.309705: W tensorflow/stream_executor/platform/default/dso_loader.cc:64] Could not load dynamic library 'libcudart.so.11.0'; dlerror: libcudart.so.11.0: cannot open shared object file: No such file or directory; LD_LIBRARY_PATH: /SNS/software/lib64:/SNS/software/lib:/usr/lib64/gstreamer-0.10:/SNS/software/lib64:/SNS/software/lib:/usr/lib64/gstreamer-0.10:/SNS/software/lib64:/SNS/software/lib:/usr/lib64/gstreamer-0.10:/opt/thinlinc/lib64:/opt/thinlinc/lib\n",
      "2024-10-15 09:33:24.310305: W tensorflow/stream_executor/platform/default/dso_loader.cc:64] Could not load dynamic library 'libcublas.so.11'; dlerror: libcublas.so.11: cannot open shared object file: No such file or directory; LD_LIBRARY_PATH: /SNS/software/lib64:/SNS/software/lib:/usr/lib64/gstreamer-0.10:/SNS/software/lib64:/SNS/software/lib:/usr/lib64/gstreamer-0.10:/SNS/software/lib64:/SNS/software/lib:/usr/lib64/gstreamer-0.10:/opt/thinlinc/lib64:/opt/thinlinc/lib\n",
      "2024-10-15 09:33:24.310822: W tensorflow/stream_executor/platform/default/dso_loader.cc:64] Could not load dynamic library 'libcublasLt.so.11'; dlerror: libcublasLt.so.11: cannot open shared object file: No such file or directory; LD_LIBRARY_PATH: /SNS/software/lib64:/SNS/software/lib:/usr/lib64/gstreamer-0.10:/SNS/software/lib64:/SNS/software/lib:/usr/lib64/gstreamer-0.10:/SNS/software/lib64:/SNS/software/lib:/usr/lib64/gstreamer-0.10:/opt/thinlinc/lib64:/opt/thinlinc/lib\n",
      "2024-10-15 09:33:24.311425: W tensorflow/stream_executor/platform/default/dso_loader.cc:64] Could not load dynamic library 'libcufft.so.10'; dlerror: libcufft.so.10: cannot open shared object file: No such file or directory; LD_LIBRARY_PATH: /SNS/software/lib64:/SNS/software/lib:/usr/lib64/gstreamer-0.10:/SNS/software/lib64:/SNS/software/lib:/usr/lib64/gstreamer-0.10:/SNS/software/lib64:/SNS/software/lib:/usr/lib64/gstreamer-0.10:/opt/thinlinc/lib64:/opt/thinlinc/lib\n",
      "2024-10-15 09:33:24.312183: W tensorflow/stream_executor/platform/default/dso_loader.cc:64] Could not load dynamic library 'libcurand.so.10'; dlerror: libcurand.so.10: cannot open shared object file: No such file or directory; LD_LIBRARY_PATH: /SNS/software/lib64:/SNS/software/lib:/usr/lib64/gstreamer-0.10:/SNS/software/lib64:/SNS/software/lib:/usr/lib64/gstreamer-0.10:/SNS/software/lib64:/SNS/software/lib:/usr/lib64/gstreamer-0.10:/opt/thinlinc/lib64:/opt/thinlinc/lib\n",
      "2024-10-15 09:33:24.312721: W tensorflow/stream_executor/platform/default/dso_loader.cc:64] Could not load dynamic library 'libcusolver.so.11'; dlerror: libcusolver.so.11: cannot open shared object file: No such file or directory; LD_LIBRARY_PATH: /SNS/software/lib64:/SNS/software/lib:/usr/lib64/gstreamer-0.10:/SNS/software/lib64:/SNS/software/lib:/usr/lib64/gstreamer-0.10:/SNS/software/lib64:/SNS/software/lib:/usr/lib64/gstreamer-0.10:/opt/thinlinc/lib64:/opt/thinlinc/lib\n",
      "2024-10-15 09:33:24.313173: W tensorflow/stream_executor/platform/default/dso_loader.cc:64] Could not load dynamic library 'libcusparse.so.11'; dlerror: libcusparse.so.11: cannot open shared object file: No such file or directory; LD_LIBRARY_PATH: /SNS/software/lib64:/SNS/software/lib:/usr/lib64/gstreamer-0.10:/SNS/software/lib64:/SNS/software/lib:/usr/lib64/gstreamer-0.10:/SNS/software/lib64:/SNS/software/lib:/usr/lib64/gstreamer-0.10:/opt/thinlinc/lib64:/opt/thinlinc/lib\n",
      "2024-10-15 09:33:24.313769: W tensorflow/stream_executor/platform/default/dso_loader.cc:64] Could not load dynamic library 'libcudnn.so.8'; dlerror: libcudnn.so.8: cannot open shared object file: No such file or directory; LD_LIBRARY_PATH: /SNS/software/lib64:/SNS/software/lib:/usr/lib64/gstreamer-0.10:/SNS/software/lib64:/SNS/software/lib:/usr/lib64/gstreamer-0.10:/SNS/software/lib64:/SNS/software/lib:/usr/lib64/gstreamer-0.10:/opt/thinlinc/lib64:/opt/thinlinc/lib\n",
      "2024-10-15 09:33:24.313780: W tensorflow/core/common_runtime/gpu/gpu_device.cc:1934] Cannot dlopen some GPU libraries. Please make sure the missing libraries mentioned above are installed properly if you would like to use GPU. Follow the guide at https://www.tensorflow.org/install/gpu for how to download and setup the required libraries for your platform.\n",
      "Skipping registering GPU devices...\n",
      "2024-10-15 09:33:24.461572: W tensorflow/core/common_runtime/gpu/gpu_device.cc:1934] Cannot dlopen some GPU libraries. Please make sure the missing libraries mentioned above are installed properly if you would like to use GPU. Follow the guide at https://www.tensorflow.org/install/gpu for how to download and setup the required libraries for your platform.\n",
      "Skipping registering GPU devices...\n"
     ]
    },
    {
     "name": "stdout",
     "output_type": "stream",
     "text": [
      "Model: \"sequential_1\"\n",
      "_________________________________________________________________\n",
      " Layer (type)                Output Shape              Param #   \n",
      "=================================================================\n",
      " dense_de (Dense)            (None, 3024)              12096     \n",
      "                                                                 \n",
      " reshape_1 (Reshape)         (None, 63, 48)            0         \n",
      "                                                                 \n",
      " conv1dtrs_de (Conv1DTranspo  (None, 126, 48)          11568     \n",
      " se)                                                             \n",
      "                                                                 \n",
      " conv1d_transpose (Conv1DTra  (None, 126, 1)           241       \n",
      " nspose)                                                         \n",
      "                                                                 \n",
      " reshape_2 (Reshape)         (None, 126)               0         \n",
      "                                                                 \n",
      "=================================================================\n",
      "Total params: 23,905\n",
      "Trainable params: 23,905\n",
      "Non-trainable params: 0\n",
      "_________________________________________________________________\n",
      "Model: \"sequential_2\"\n",
      "_________________________________________________________________\n",
      " Layer (type)                Output Shape              Param #   \n",
      "=================================================================\n",
      " dense_in (Dense)            (None, 6)                 24        \n",
      "                                                                 \n",
      " dense_in2 (Dense)           (None, 6)                 42        \n",
      "                                                                 \n",
      "=================================================================\n",
      "Total params: 66\n",
      "Trainable params: 66\n",
      "Non-trainable params: 0\n",
      "_________________________________________________________________\n"
     ]
    }
   ],
   "source": [
    "import numpy as np\n",
    "import matplotlib.pyplot as plt\n",
    "\n",
    "from RW_NN_ext import IQ_gen_NN_cpu"
   ]
  },
  {
   "cell_type": "markdown",
   "metadata": {},
   "source": [
    "### *2. Setup input parameters when generating training set*\n",
    "\n",
    "As the NN only generates I(Q) on fixed Q-point, here we defines the original Q points used in generating the training set data."
   ]
  },
  {
   "cell_type": "code",
   "execution_count": 2,
   "metadata": {},
   "outputs": [],
   "source": [
    "box_size = 2\n",
    "n_grid_scale = 256\n",
    "dq = 2*np.pi/box_size\n",
    "qq = np.arange(n_grid_scale/2)*dq\n",
    "qq_data = qq[1:-1]\n",
    "q = qq_data/20/np.pi"
   ]
  },
  {
   "cell_type": "markdown",
   "metadata": {},
   "source": [
    "### *3. Pick up a set of parameters and generate the corresponding I(Q)*\n",
    "\n",
    "Noted that the sigma_k used here is 20 times grater than demonstrated in the paper since the mean wavelength is set to 1/20 the box size to improve sampling."
   ]
  },
  {
   "cell_type": "code",
   "execution_count": 3,
   "metadata": {},
   "outputs": [],
   "source": [
    "params = np.array([0.5, 65, 0]) # [sigma_k (*20), Gamma, alpha]\n",
    "I_q = IQ_gen_NN_cpu(params)"
   ]
  },
  {
   "cell_type": "code",
   "execution_count": 4,
   "metadata": {},
   "outputs": [
    {
     "data": {
      "image/png": "[encoded data removed]",
      "text/plain": [
       "<Figure size 768x768 with 1 Axes>"
      ]
     },
     "metadata": {},
     "output_type": "display_data"
    }
   ],
   "source": [
    "fig = plt.figure(figsize=(4, 4),dpi=192)\n",
    "ax = plt.subplot(1,1,1)\n",
    "\n",
    "ax.plot(q, I_q,'-')\n",
    "ax.set_xlabel('QD')\n",
    "ax.set_ylabel('I(QD)')\n",
    "ax.set_xscale('log')\n",
    "ax.set_yscale('log')\n",
    "plt.tight_layout()"
   ]
  },
  {
   "cell_type": "markdown",
   "metadata": {},
   "source": [
    "## Program Code for Computing the Three-Dimensional Structures in Fig. 1(c)"
   ]
  },
  {
   "cell_type": "markdown",
   "metadata": {},
   "source": [
    "### *1. Load module*\n",
    "\n",
    "The pyvista package is required for 3D visualization."
   ]
  },
  {
   "cell_type": "code",
   "execution_count": 5,
   "metadata": {},
   "outputs": [],
   "source": [
    "import numpy as np\n",
    "import matplotlib.pyplot as plt\n",
    "import os\n",
    "import pyvista as pv"
   ]
  },
  {
   "cell_type": "markdown",
   "metadata": {},
   "source": [
    "### *2. Evaluate randomwave on grid points*"
   ]
  },
  {
   "cell_type": "code",
   "execution_count": 6,
   "metadata": {},
   "outputs": [],
   "source": [
    "## Define the grid\n",
    "n_grid = 128\n",
    "x = np.linspace(-1,1,n_grid+1)\n",
    "y = np.linspace(-1,1,n_grid+1)\n",
    "z = np.linspace(-1,1,n_grid+1)\n",
    "\n",
    "r_grid = np.meshgrid(x,y,z) "
   ]
  },
  {
   "cell_type": "code",
   "execution_count": 7,
   "metadata": {},
   "outputs": [],
   "source": [
    "#### Wave vector distribution ####\n",
    "def sample_k(k_mean,k_cov):\n",
    "    return np.random.multivariate_normal(k_mean,k_cov)\n",
    "\n",
    "#### Superpositioning the random wave ####\n",
    "def rotation_matrix(axis, phi):\n",
    "    \"\"\"\n",
    "    Return the rotation matrix associated with counterclockwise rotation about\n",
    "    the given axis by theta radians.\n",
    "    \"\"\"\n",
    "    axis = np.asarray(axis)\n",
    "    axis = axis / np.sqrt(np.dot(axis, axis))\n",
    "    a = np.cos(phi / 2.0)\n",
    "    b, c, d = -axis * np.sin(phi / 2.0)\n",
    "    aa, bb, cc, dd = a * a, b * b, c * c, d * d\n",
    "    bc, ad, ac, ab, bd, cd = b * c, a * d, a * c, a * b, b * d, c * d\n",
    "    return np.array([[aa + bb - cc - dd, 2 * (bc + ad), 2 * (bd - ac)],\n",
    "                     [2 * (bc - ad), aa + cc - bb - dd, 2 * (cd + ab)],\n",
    "                     [2 * (bd + ac), 2 * (cd - ab), aa + dd - bb - cc]])\n",
    "\n",
    "def sample_wave_MO(r_grid, k_mean, k_cov, n_wave = 100, kappa=1e8):\n",
    "    \"\"\"def sample_wave_MO(r_grid, k_mean, k_cov, n_wave=100, kappa=1e8):\n",
    "    Generates a sample random wave.\n",
    "    Parameters:\n",
    "    r_grid (list of numpy.ndarray): A list of 3D coordinate grids.\n",
    "    k_mean (numpy.ndarray): Mean vector for the wave vector sampling.\n",
    "    k_cov (numpy.ndarray): Covariance matrix for the wave vector sampling.\n",
    "    n_wave (int, optional): Number of waves to sample. Default is 100.\n",
    "    kappa (float, optional): Concentration parameter for the von Mises-Fisher distribution. Default is 1e8.\n",
    "    Returns:\n",
    "    numpy.ndarray: The generated wave sample.\n",
    "    References:\n",
    "    - https://en.wikipedia.org/wiki/Von_Mises%E2%80%93Fisher_distribution\n",
    "    - https://doi.org/10.1080/03610919408813161\"\"\"\n",
    "        \n",
    "    rho = np.zeros_like(r_grid[0])\n",
    "    r_grid = [r.astype(np.float32) for r in r_grid]\n",
    "    for i in range(n_wave):\n",
    "        phi = np.random.rand()*2*np.pi # random phase\n",
    "        k_sample = sample_k(k_mean,k_cov)\n",
    "\n",
    "        # misorientation\n",
    "        sigma = 1e-6\n",
    "        xi = np.random.rand()\n",
    "        theta = np.random.rand()*2*np.pi\n",
    "        W = 1+1/kappa*(np.log(xi*(1-(xi-1)/xi*np.exp(-2*kappa))))\n",
    "        phi = np.arccos(W)\n",
    "        axis = [np.cos(theta),np.sin(theta),0]\n",
    "        R = rotation_matrix(axis,phi)\n",
    "        k_sample_rot = R@k_sample\n",
    "\n",
    "        k_dot_r = np.sum([r_grid[x]*k_sample_rot[x] for x in range(3)],axis=0)\n",
    "        phi_r = np.random.rand()*2*np.pi # random phase\n",
    "        rho_i = np.cos(k_dot_r.astype(np.float32) + phi_r) # cos(k_n.r + phi_n)\n",
    "        rho += rho_i\n",
    "\n",
    "    rho = np.sqrt(2/n_wave)*rho\n",
    "    \n",
    "    return rho\n",
    "\n",
    "def std_phi(kappa):\n",
    "    xi_list = np.linspace(1/10000,1,10000)\n",
    "    W = 1+1/kappa*(np.log(xi_list*(1-(xi_list-1)/xi_list*np.exp(-2*kappa))))\n",
    "    phi = np.arccos(W)\n",
    "    sigma = np.sqrt(np.sum(phi**2*np.sin(phi))/np.sum(np.sin(phi)))/np.pi*180\n",
    "    return sigma"
   ]
  },
  {
   "cell_type": "markdown",
   "metadata": {},
   "source": [
    "### *3. Render 3D plot*\n",
    "\n",
    "The following code should work in linux with proper display configurations. \n",
    "\n",
    "If you are using a headless server, try install xvfb using \n",
    "`sudo apt-get install libgl1-mesa-glx xvfb`\n",
    "\n",
    "and uncomment the line `pv.start_xvfb()`"
   ]
  },
  {
   "cell_type": "code",
   "execution_count": 8,
   "metadata": {},
   "outputs": [],
   "source": [
    "def clip_random_wave(fp_opt, k0, color, scale=10, filename=\"output.png\"):\n",
    "    \"\"\"\n",
    "    Generates a 3D plot saved as an image file.\n",
    "    Parameters:\n",
    "    -----------\n",
    "    fp_opt : dict\n",
    "        Dictionary containing options for the wave sampling. Must include 'sigma_k', 'kappa', and 'alpha'.\n",
    "    k0 : float\n",
    "        Base wave number.\n",
    "    color : str\n",
    "        Color for the backface parameters of the mesh.\n",
    "    scale : int, optional\n",
    "        Scaling factor for the wave number and grid. Default is 10.\n",
    "    filename : str, optional\n",
    "        Name of the output image file. Default is \"output.png\".\n",
    "    Returns:\n",
    "    --------\n",
    "    None\n",
    "        The function saves a 3D plot as an image file and does not return any value.\n",
    "    Notes:\n",
    "    ------\n",
    "    - The function uses `pyvista` for 3D visualization and rendering.\n",
    "    - The function creates a directory './Figures/' if it does not exist to save the output image.\n",
    "    - The function sets specific camera and light settings for the 3D plot.\n",
    "    \"\"\"\n",
    "    ### Clipping random wave ####\n",
    "    k_mean = np.array([0,0,1])*2*np.pi*k0*scale\n",
    "    k_var  = (np.array([0,0,fp_opt['sigma_k']])*2*np.pi*k0*scale)**2 # k_z\n",
    "    k_cov  = np.diagflat(k_var)\n",
    "\n",
    "    rho = sample_wave_MO(r_grid,k_mean/2,k_cov/4,n_wave = 200, kappa = fp_opt['kappa']) # kappa\n",
    "\n",
    "    alpha = fp_opt['alpha'] # alpha\n",
    "\n",
    "    ### pyvista ###\n",
    "\n",
    "    # pv.set_jupyter_backend('none')\n",
    "    # https://stackoverflow.com/questions/6030098\n",
    "    grid = pv.StructuredGrid(r_grid[0]*10*scale, r_grid[1]*10*scale, r_grid[2]*10*scale)\n",
    "    grid[\"vol\"] = rho.flatten('F')\n",
    "    mesh = grid.contour([alpha])\n",
    "\n",
    "    # Visualizatio\n",
    "    # pv.start_xvfb()\n",
    "    pv.set_plot_theme('document')\n",
    "    pl = pv.Plotter(window_size=[600, 600],off_screen=True)\n",
    "    pl.enable_anti_aliasing('msaa')\n",
    "\n",
    "    backface_params = dict(color=color, \n",
    "                        ambient=0.15, diffuse=0.8, specular=0.1, specular_power=10,\n",
    "    #                        opacity=0.5\n",
    "                        )\n",
    "    pl.add_mesh(mesh, show_scalar_bar=False, color='#A0A0A0',  \n",
    "                ambient=0.15, diffuse=0.8, specular=0.1, specular_power=10,\n",
    "                backface_params=backface_params, \n",
    "                smooth_shading=True, \n",
    "    #             opacity=0.5\n",
    "                )\n",
    "    \n",
    "    mesh_cube = pv.Cube(bounds=[-2,2,-2,2,-2,2])\n",
    "    pl.add_mesh(mesh_cube, opacity=0, show_scalar_bar=False)\n",
    "\n",
    "    # camera setting\n",
    "    pl.camera_position = 'yz'\n",
    "    pl.camera.azimuth = -60.0\n",
    "    pl.camera.elevation = 24.0\n",
    "\n",
    "    # light setting\n",
    "    light = pv.Light()\n",
    "    light.set_direction_angle(21, -55.0)\n",
    "    light.attenuation_values = (0,0,2)\n",
    "    pl.add_light(light)\n",
    "    pl.add_bounding_box()\n",
    "    # pl.show_grid()\n",
    "    # pl.add_ruler(pointa=[-scale,-scale,-scale], pointb=[scale,scale,scale])\n",
    "\n",
    "    pl.camera.reset_clipping_range()\n",
    "\n",
    "    path = './Figures/'\n",
    "    isExist = os.path.exists(path)\n",
    "    if not isExist:\n",
    "        # Create a new directory because it does not exist\n",
    "        os.makedirs(path)\n",
    "        print('new directory created')\n",
    "\n",
    "    #pl.show(screenshot=filename,auto_close=True)#,jupyter_backend=\"none\")\n",
    "    pl.screenshot(filename)\n",
    "    pl.close()\n",
    "    print(\"3D plot saved\")"
   ]
  },
  {
   "cell_type": "code",
   "execution_count": null,
   "metadata": {},
   "outputs": [
    {
     "name": "stdout",
     "output_type": "stream",
     "text": [
      "3D plot saved\n"
     ]
    }
   ],
   "source": [
    "# plot 3D figure\n",
    "params = np.array([0.5, 65, 0]) # [sigma_k (*20), Gamma, alpha]\n",
    "params_dict = {'sigma_k': params[0], 'kappa': params[1], 'alpha': params[2]}\n",
    "k0 = 1\n",
    "clip_random_wave(params_dict, k0, \n",
    "                color=\"#303030\", scale=6, filename='output.png')"
   ]
  },
  {
   "cell_type": "code",
   "execution_count": null,
   "metadata": {},
   "outputs": [],
   "source": []
  }
 ],
 "metadata": {
  "kernelspec": {
   "display_name": "analysis",
   "language": "python",
   "name": "python3"
  },
  "language_info": {
   "codemirror_mode": {
    "name": "ipython",
    "version": 3
   },
   "file_extension": ".py",
   "mimetype": "text/x-python",
   "name": "python",
   "nbconvert_exporter": "python",
   "pygments_lexer": "ipython3",
   "version": "3.10.14"
  }
 },
 "nbformat": 4,
 "nbformat_minor": 2
}
