{
 "cells": [
  {
   "cell_type": "code",
   "execution_count": 1,
   "metadata": {},
   "outputs": [],
   "source": [
    "import numpy as np\n",
    "import matplotlib.pyplot as plt\n",
    "from scipy import interpolate, ndimage\n",
    "import pyvista as pv\n",
    "pv.set_jupyter_backend('trame')"
   ]
  },
  {
   "cell_type": "markdown",
   "metadata": {},
   "source": [
    "## Define functions"
   ]
  },
  {
   "cell_type": "markdown",
   "metadata": {},
   "source": [
    "### Generating rw"
   ]
  },
  {
   "cell_type": "code",
   "execution_count": 2,
   "metadata": {},
   "outputs": [],
   "source": [
    "def sample_k(k_mean,k_cov):\n",
    "    return np.random.multivariate_normal(k_mean,k_cov)\n",
    "\n",
    "#### Superpositioning the random wave ####\n",
    "def sample_wave(r_grid,k_mean,k_cov,n_wave = 100):\n",
    "    rho = np.zeros_like(r_grid[0])\n",
    "    r_grid = [r.astype(np.float32) for r in r_grid]\n",
    "    for i in range(n_wave):\n",
    "        phi = np.random.rand()*2*np.pi # random phase\n",
    "        k_sample = sample_k(k_mean,k_cov)\n",
    "        k_dot_r = np.sum([r_grid[x]*k_sample[x] for x in range(3)],axis=0)\n",
    "        rho_i = np.cos(k_dot_r.astype(np.float32) + phi) # cos(k_n.r + phi_n)\n",
    "        rho += rho_i\n",
    "\n",
    "    rho = np.sqrt(2/n_wave)*rho\n",
    "    \n",
    "    return rho\n",
    "\n",
    "# Misoientation\n",
    "def rotation_matrix(axis, phi):\n",
    "    \"\"\"\n",
    "    Return the rotation matrix associated with counterclockwise rotation about\n",
    "    the given axis by theta radians.\n",
    "    \"\"\"\n",
    "    axis = np.asarray(axis)\n",
    "    axis = axis / np.sqrt(np.dot(axis, axis))\n",
    "    a = np.cos(phi / 2.0)\n",
    "    b, c, d = -axis * np.sin(phi / 2.0)\n",
    "    aa, bb, cc, dd = a * a, b * b, c * c, d * d\n",
    "    bc, ad, ac, ab, bd, cd = b * c, a * d, a * c, a * b, b * d, c * d\n",
    "    return np.array([[aa + bb - cc - dd, 2 * (bc + ad), 2 * (bd - ac)],\n",
    "                     [2 * (bc - ad), aa + cc - bb - dd, 2 * (cd + ab)],\n",
    "                     [2 * (bd + ac), 2 * (cd - ab), aa + dd - bb - cc]])\n",
    "\n",
    "def sample_wave_MO(r_grid, k_mean, k_cov, n_wave = 100, kappa=1e8):\n",
    "    rho = np.zeros_like(r_grid[0])\n",
    "    r_grid = [r.astype(np.float32) for r in r_grid]\n",
    "    for i in range(n_wave):\n",
    "        k_sample = sample_k(k_mean,k_cov)\n",
    "\n",
    "        # misorientation\n",
    "        \"\"\"\n",
    "        https://en.wikipedia.org/wiki/Von_Mises%E2%80%93Fisher_distribution\n",
    "        https://doi.org/10.1080/03610919408813161\n",
    "        \"\"\"\n",
    "        sigma = 1e-6\n",
    "        xi = np.random.rand()\n",
    "        theta = np.random.rand()*2*np.pi\n",
    "        W = 1+1/kappa*(np.log(xi*(1-(xi-1)/xi*np.exp(-2*kappa))))\n",
    "        phi = np.arccos(W)\n",
    "        axis = [np.cos(theta),np.sin(theta),0]\n",
    "        R = rotation_matrix(axis,phi)\n",
    "        k_sample_rot = R@k_sample\n",
    "\n",
    "        k_dot_r = np.sum([r_grid[x]*k_sample_rot[x] for x in range(3)],axis=0)\n",
    "        phi_r = np.random.rand()*2*np.pi # random phase\n",
    "        rho_i = np.cos(k_dot_r.astype(np.float32) + phi_r) # cos(k_n.r + phi_n)\n",
    "        rho += rho_i\n",
    "\n",
    "    rho = np.sqrt(2/n_wave)*rho\n",
    "    \n",
    "    return rho\n",
    "\n",
    "def sample_wave_MO_complex(r_grid, k_mean, k_cov, n_wave = 100, kappa=1e8):\n",
    "    rho = np.zeros_like(r_grid[0]).astype('complex64')\n",
    "    r_grid = [r.astype(np.float32) for r in r_grid]\n",
    "    for i in range(n_wave):\n",
    "        k_sample = sample_k(k_mean,k_cov)\n",
    "\n",
    "        # misorientation\n",
    "        \"\"\"\n",
    "        https://en.wikipedia.org/wiki/Von_Mises%E2%80%93Fisher_distribution\n",
    "        https://doi.org/10.1080/03610919408813161\n",
    "        \"\"\"\n",
    "        sigma = 1e-6\n",
    "        xi = np.random.rand()\n",
    "        theta = np.random.rand()*2*np.pi\n",
    "        W = 1+1/kappa*(np.log(xi*(1-(xi-1)/xi*np.exp(-2*kappa))))\n",
    "        phi = np.arccos(W)\n",
    "        axis = [np.cos(theta),np.sin(theta),0]\n",
    "        R = rotation_matrix(axis,phi)\n",
    "        k_sample_rot = R@k_sample\n",
    "\n",
    "        k_dot_r = np.sum([r_grid[x]*k_sample_rot[x] for x in range(3)],axis=0)\n",
    "        phi_r = np.random.rand()*2*np.pi # random phase\n",
    "        rho_i = np.exp(1j*(k_dot_r + phi_r)) # cos(k_n.r + phi_n)\n",
    "        rho += rho_i.astype('complex64')\n",
    "\n",
    "    rho = np.sqrt(2/n_wave)*rho\n",
    "    \n",
    "    return rho"
   ]
  },
  {
   "cell_type": "markdown",
   "metadata": {},
   "source": [
    "## Generate an isotropic randomwave"
   ]
  },
  {
   "cell_type": "code",
   "execution_count": 3,
   "metadata": {},
   "outputs": [],
   "source": [
    "## define parameters\n",
    "sigma_k = 1e-3\n",
    "kappa = 1e-3\n",
    "alpha = 0.0\n",
    "scale = 5 # how many wavelengths per 1 length unit\n",
    "\n",
    "k_mean = np.array([0,0,1])\n",
    "k_var = np.array([0,0,sigma_k**2])\n",
    "k_cov = np.diag(k_var)\n",
    "\n",
    "## define grid\n",
    "n_grid = 128\n",
    "x = np.linspace(-1,1,n_grid+1)\n",
    "y = np.linspace(-1,1,n_grid+1)\n",
    "z = np.linspace(-1,1,n_grid+1)\n",
    "r_grid = np.meshgrid(x,y,z) \n",
    "\n",
    "## miscellation parameters\n",
    "n_wave = 32\n",
    "\n",
    "rho = sample_wave_MO_complex(r_grid,k_mean,k_cov,n_wave = n_wave, kappa = kappa)\n",
    "\n",
    "rho_real = np.real(rho)\n",
    "rho_imag = np.imag(rho)\n",
    "rho_abs = np.abs(rho)"
   ]
  },
  {
   "cell_type": "code",
   "execution_count": 5,
   "metadata": {},
   "outputs": [
    {
     "data": {
      "application/vnd.jupyter.widget-view+json": {
       "model_id": "769535f6d139428d9a3b70975b52eb60",
       "version_major": 2,
       "version_minor": 0
      },
      "text/plain": [
       "Widget(value='<iframe src=\"http://localhost:33191/index.html?ui=P_0x7fb760b086a0_1&reconnect=auto\" class=\"pyvi…"
      ]
     },
     "metadata": {},
     "output_type": "display_data"
    }
   ],
   "source": [
    "## visualization\n",
    "pv.set_plot_theme('document')\n",
    "pl = pv.Plotter(window_size=[600, 600])\n",
    "pl.enable_anti_aliasing('msaa')\n",
    "\n",
    "grid = pv.StructuredGrid(r_grid[0], r_grid[1], r_grid[2])\n",
    "grid[\"vol\"] = rho_real.flatten('F')\n",
    "mesh = grid.contour([alpha])\n",
    "\n",
    "backface_params = dict(color='#303030',\n",
    "                            ambient=0.2, diffuse=0.8, specular=0.1, specular_power=10,\n",
    "                            opacity=1\n",
    "                            )\n",
    "pl.add_mesh(mesh, show_scalar_bar=False, color='#A0A0A0',  \n",
    "            ambient=0.2, diffuse=0.8, specular=0.1, specular_power=10,\n",
    "            backface_params=backface_params, \n",
    "            smooth_shading=True, \n",
    "            opacity=1\n",
    "            )\n",
    "\n",
    "if 1:\n",
    "    # camera setting\n",
    "    pl.enable_parallel_projection()\n",
    "    pl.camera_position = 'yz'\n",
    "    pl.camera.reset_clipping_range()\n",
    "else:\n",
    "    # camera setting\n",
    "    pl.camera_position = 'yz'\n",
    "    pl.camera.azimuth = -60.0\n",
    "    pl.camera.elevation = 24.0\n",
    "    pl.camera.reset_clipping_range()\n",
    "\n",
    "# light setting\n",
    "light = pv.Light()\n",
    "light.set_direction_angle(21, -55.0)\n",
    "light.attenuation_values = (0,0,2)\n",
    "pl.add_light(light)\n",
    "\n",
    "pl.add_bounding_box()\n",
    "pl.show(screenshot='tmp_rw.png')"
   ]
  },
  {
   "cell_type": "code",
   "execution_count": null,
   "metadata": {},
   "outputs": [],
   "source": []
  },
  {
   "cell_type": "code",
   "execution_count": null,
   "metadata": {},
   "outputs": [],
   "source": []
  }
 ],
 "metadata": {
  "kernelspec": {
   "display_name": "torch",
   "language": "python",
   "name": "python3"
  },
  "language_info": {
   "codemirror_mode": {
    "name": "ipython",
    "version": 3
   },
   "file_extension": ".py",
   "mimetype": "text/x-python",
   "name": "python",
   "nbconvert_exporter": "python",
   "pygments_lexer": "ipython3",
   "version": "3.9.7"
  }
 },
 "nbformat": 4,
 "nbformat_minor": 2
}
