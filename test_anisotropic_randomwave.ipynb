{
 "cells": [
  {
   "cell_type": "code",
   "execution_count": 1,
   "id": "58d527d7",
   "metadata": {},
   "outputs": [],
   "source": [
    "import numpy as np\n",
    "import matplotlib.pyplot as plt\n",
    "from mpl_toolkits.mplot3d import Axes3D\n",
    "plt.rcParams[\"font.family\"] = \"Arial\"\n",
    "from skimage import measure\n",
    "import pyvista as pv\n",
    "pv.set_jupyter_backend('trame')\n",
    "from tqdm import tqdm, trange\n",
    "from scipy import interpolate, ndimage, fft\n",
    "from scipy.io import savemat\n",
    "import numba as nb\n",
    "from time import time"
   ]
  },
  {
   "attachments": {},
   "cell_type": "markdown",
   "id": "ccfb6ac0",
   "metadata": {},
   "source": [
    "## Meshgrid"
   ]
  },
  {
   "cell_type": "code",
   "execution_count": 2,
   "id": "b7b278a9",
   "metadata": {},
   "outputs": [],
   "source": [
    "n_grid = 100\n",
    "x = np.linspace(-1,1,n_grid+1)\n",
    "y = np.linspace(-1,1,n_grid+1)\n",
    "z = np.linspace(-1,1,n_grid+1)\n",
    "\n",
    "r_grid = np.meshgrid(x,y,z) \n"
   ]
  },
  {
   "attachments": {},
   "cell_type": "markdown",
   "id": "61d3b4f2",
   "metadata": {},
   "source": [
    "## Random wave"
   ]
  },
  {
   "cell_type": "code",
   "execution_count": 3,
   "id": "d9c5681f",
   "metadata": {},
   "outputs": [],
   "source": [
    "#### Wave vector distribution ####\n",
    "k_mean_z = np.array([0,0,20])*np.pi # lamellar perpendicular to z axis \n",
    "# k_mean_x = np.array([0,0,0])*np.pi # lamellar perpendicular to z axis \n",
    "k_var  = (np.array([4,4,1])*np.pi)**2\n",
    "k_cov  = np.diagflat(k_var)\n",
    "\n",
    "def sample_k(k_mean,k_cov):\n",
    "    return np.random.multivariate_normal(k_mean,k_cov)\n"
   ]
  },
  {
   "cell_type": "code",
   "execution_count": 4,
   "id": "26f1cd3e",
   "metadata": {},
   "outputs": [],
   "source": [
    "#### Superpositioning the random wave ####\n",
    "def sample_wave(r_grid,k_mean,k_cov,n_wave = 100):\n",
    "    rho = np.zeros_like(r_grid[0])\n",
    "    for i in range(n_wave):\n",
    "        phi = np.random.rand()*2*np.pi # random phase\n",
    "        k_sample = sample_k(k_mean,k_cov)\n",
    "        k_dot_r = np.sum([r_grid[x]*k_sample[x] for x in range(3)],axis=0)\n",
    "        rho_i = np.cos(k_dot_r + phi) # cos(k_n.r + phi_n)\n",
    "        rho += rho_i\n",
    "\n",
    "    rho = np.sqrt(2/n_wave)*rho\n",
    "    \n",
    "    return rho\n",
    "\n",
    "def ball():\n",
    "    rho = np.zeros_like(r_grid[0])\n",
    "    radius = np.sqrt(r_grid[0]**2+r_grid[1]**2+r_grid[2]**2)\n",
    "    rho[radius<=0.15]=1\n",
    "\n",
    "    return rho"
   ]
  },
  {
   "attachments": {},
   "cell_type": "markdown",
   "id": "9f7e8578",
   "metadata": {},
   "source": [
    "## Visualization"
   ]
  },
  {
   "cell_type": "code",
   "execution_count": 11,
   "id": "36f312e2",
   "metadata": {},
   "outputs": [],
   "source": [
    "#### Clipping random wave ####\n",
    "alpha = 0 # clipping level\n",
    "rho = sample_wave(r_grid,k_mean_z,k_cov,n_wave = 60)"
   ]
  },
  {
   "cell_type": "code",
   "execution_count": 22,
   "id": "65965e33",
   "metadata": {
    "scrolled": false
   },
   "outputs": [
    {
     "data": {
      "application/vnd.jupyter.widget-view+json": {
       "model_id": "29620a8f3d224cc7a69b88b87acad3b2",
       "version_major": 2,
       "version_minor": 0
      },
      "text/plain": [
       "Widget(value=\"<iframe src='http://localhost:57394/index.html?ui=P_0x26e03f1ae80_14&reconnect=auto' style='widt…"
      ]
     },
     "metadata": {},
     "output_type": "display_data"
    }
   ],
   "source": [
    "# pyvista\n",
    "# https://stackoverflow.com/questions/6030098\n",
    "grid = pv.StructuredGrid(r_grid[0], r_grid[1], r_grid[2])\n",
    "grid[\"vol\"] = rho.flatten('F')\n",
    "mesh = grid.contour([alpha])\n",
    "\n",
    "# Visualization\n",
    "pv.set_plot_theme('document')\n",
    "pl = pv.Plotter(window_size=[600, 600])\n",
    "pl.enable_anti_aliasing('msaa')\n",
    "\n",
    "backface_params = dict(color='#303030',\n",
    "                       ambient=0.2, diffuse=0.8, specular=0.1, specular_power=10,\n",
    "#                        opacity=0.5\n",
    "                      )\n",
    "pl.add_mesh(mesh, show_scalar_bar=False, color='#A0A0A0',  \n",
    "            ambient=0.2, diffuse=0.8, specular=0.1, specular_power=10,\n",
    "            backface_params=backface_params, \n",
    "            smooth_shading=True, \n",
    "#             opacity=0.5\n",
    "            )\n",
    "\n",
    "# camera setting\n",
    "pl.camera_position = 'yz'\n",
    "pl.camera.azimuth = -60.0\n",
    "pl.camera.elevation = 24.0\n",
    "pl.camera.reset_clipping_range()\n",
    "\n",
    "# light setting\n",
    "light = pv.Light()\n",
    "light.set_direction_angle(21, -55.0)\n",
    "light.attenuation_values = (0,0,2)\n",
    "pl.add_light(light)\n",
    "\n",
    "pl.show()"
   ]
  },
  {
   "attachments": {},
   "cell_type": "markdown",
   "id": "d9f7d40e",
   "metadata": {},
   "source": [
    "## Scattering function"
   ]
  },
  {
   "cell_type": "code",
   "execution_count": 41,
   "id": "966d1d7f",
   "metadata": {},
   "outputs": [],
   "source": [
    "def scatter_grid(rho, alpha, qq, scale=1, box_size=2):\n",
    "    \"\"\"\n",
    "    Calculates the scattering function S(Q) for a grid density using Fourier transform.\n",
    "\n",
    "    The function performs the following steps:\n",
    "\n",
    "    1. Upsamples the grid density by a specified scaling factor using ndimage.zoom().\n",
    "    2. Clips the upscaled density values to a binary representation (0 or 1) \n",
    "       based on the threshold alpha.\n",
    "    3. Computes the FFT of the binary grid density.\n",
    "    4. Calculates the scattering function S_q_lmn by squaring the absolute value of the FFT and \n",
    "       normalizing by (N/2)^2, where N is the total number of grid points.\n",
    "    5. Reduces the S_q_lmn\n",
    "    \n",
    "    Args:\n",
    "        rho (ndarray): Grid density.\n",
    "        alpha (float): Threshold value for density clipping.\n",
    "        qq (ndarray): Array of Q values.\n",
    "        scale (int, optional): Scaling factor for upsampling the grid data. Default is 1.\n",
    "        box_size (float, optional): Size of the simulation box. Default is 2.\n",
    "    \n",
    "    Returns:\n",
    "        ndarray: Scattering function S(Q).\n",
    "    \"\"\"\n",
    "    \n",
    "    n_grid_scale = rho.shape[0] * scale  # Number of grid points along each dimension\n",
    "    \n",
    "    N = (n_grid_scale) ** 3  # Number of grid points after scaling\n",
    "    \n",
    "    # Upsampling the grid data with ndimage.zoom()\n",
    "    rho_bi_zoom = ndimage.zoom(rho, scale, order=1)  # Upscale\n",
    "    rho_bi = np.zeros_like(rho_bi_zoom)  # Density = 0 or 1\n",
    "    rho_bi[rho_bi_zoom > alpha] = 1  # Clipped to alpha\n",
    "    \n",
    "    rho_r = rho_bi\n",
    "    N_ones = np.sum(rho_r)  # Number of ones\n",
    "    \n",
    "    rho_q = np.fft.fftn(rho_r)  # FFT of the grid density\n",
    "    S_q_lmn = np.absolute(rho_q) ** 2  # Scattering function in grid points\n",
    "\n",
    "    # Reduce S_q_lmn\n",
    "    grid_coord = np.meshgrid(np.arange(n_grid_scale), np.arange(n_grid_scale), np.arange(n_grid_scale))\n",
    "    dq_grid = 2 * np.pi / box_size  # Q grid spacing\n",
    "    q_grid = np.sqrt(grid_coord[0] ** 2 + grid_coord[1] ** 2 + grid_coord[2] ** 2) * dq_grid  # Abs Q value on each grid point\n",
    "\n",
    "    nq = len(qq)  # Number of grid points\n",
    "    d_bins = qq[1] - qq[0]  # Grid spacing\n",
    "    index_q = np.floor(q_grid/d_bins)  # Index to qq of each grid point\n",
    "\n",
    "    S_q = np.zeros(nq)  # Allocate output S(Q)\n",
    "    n_S_q = np.zeros(nq)  # Allocate n_S(Q)\n",
    "\n",
    "    for iq in range(nq):\n",
    "        if np.sum(index_q == iq) > 0:\n",
    "            S_q[iq] = np.nanmean(S_q_lmn[index_q == iq])\n",
    "    \n",
    "    return S_q / (N_ones) ** 2"
   ]
  },
  {
   "cell_type": "code",
   "execution_count": 42,
   "id": "51fa647c",
   "metadata": {},
   "outputs": [
    {
     "name": "stderr",
     "output_type": "stream",
     "text": [
      "100%|██████████| 20/20 [03:45<00:00, 11.28s/it]\n"
     ]
    }
   ],
   "source": [
    "n_sample = 20\n",
    "S_q_list = []\n",
    "for i in trange(n_sample):\n",
    "    rho = sample_wave(r_grid,k_mean_z,k_cov,n_wave = 30)\n",
    "    # rho = ball()-0.5\n",
    "\n",
    "    box_size = 2\n",
    "    n_grid_scale = 256\n",
    "    scale = n_grid_scale/rho.shape[0]\n",
    "    dq = 2*np.pi/box_size\n",
    "    qq = np.arange(n_grid_scale/2)*dq\n",
    "    \n",
    "    S_q_i = scatter_grid(rho,alpha,qq,scale=scale)\n",
    "    S_q_list.append(S_q_i)\n",
    "    \n",
    "S_q = np.mean(np.array(S_q_list),axis=0)"
   ]
  },
  {
   "cell_type": "code",
   "execution_count": 45,
   "id": "e1924922",
   "metadata": {},
   "outputs": [
    {
     "data": {
      "image/png": "[encoded data removed]",
      "text/plain": [
       "<Figure size 600x600 with 1 Axes>"
      ]
     },
     "metadata": {},
     "output_type": "display_data"
    }
   ],
   "source": [
    "fig = plt.figure(figsize=(6,6))\n",
    "ax = fig.add_subplot(111)\n",
    "\n",
    "ax.plot(qq[:],S_q[:],'.-')\n",
    "# ax.plot([4.493,4.493],[1e-9,1],'-k')\n",
    "# ax.plot([7.725,7.725],[1e-9,1],'-k')\n",
    "ax.set_xlabel('Q')\n",
    "ax.set_ylabel('S(Q)')\n",
    "ax.set_yscale('log')\n",
    "ax.set_xscale('log')\n",
    "# ax.set_xlim([0,100])\n",
    "# ax.set_ylim([1e-6,2e0])\n",
    "plt.show()"
   ]
  },
  {
   "cell_type": "code",
   "execution_count": 44,
   "id": "653310e6",
   "metadata": {},
   "outputs": [],
   "source": [
    "# # matplotlib\n",
    "# # Extract 2D surface mesh from a 3D volume\n",
    "# # https://stackoverflow.com/questions/6030098\n",
    "# verts, faces, _, _  = measure.marching_cubes(rho, alpha, spacing=(2/n_grid,2/n_grid,2/n_grid))\n",
    "\n",
    "# # plotting\n",
    "# fig = plt.figure(figsize=(6,6))\n",
    "# ax = fig.add_subplot(111, projection='3d')\n",
    "# ax.view_init(elev=21, azim=-55)\n",
    "# ax = fig.add_subplot(111, projection='3d')\n",
    "\n",
    "# ax.plot_trisurf(verts[:, 0], verts[:,1], faces, verts[:, 2], lw=1)\n",
    "# ax.set_xlabel('x')\n",
    "# ax.set_ylabel('y')\n",
    "# ax.set_zlabel('z')\n",
    "# plt.show()"
   ]
  }
 ],
 "metadata": {
  "kernelspec": {
   "display_name": "Python 3",
   "language": "python",
   "name": "python3"
  },
  "language_info": {
   "codemirror_mode": {
    "name": "ipython",
    "version": 3
   },
   "file_extension": ".py",
   "mimetype": "text/x-python",
   "name": "python",
   "nbconvert_exporter": "python",
   "pygments_lexer": "ipython3",
   "version": "3.8.11"
  }
 },
 "nbformat": 4,
 "nbformat_minor": 5
}
