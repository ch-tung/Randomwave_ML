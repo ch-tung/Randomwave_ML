{
 "cells": [
  {
   "cell_type": "code",
   "execution_count": 55,
   "metadata": {},
   "outputs": [],
   "source": [
    "import numpy as np\n",
    "import pyvista as pv\n",
    "\n",
    "import matplotlib.pyplot as plt\n",
    "from mpl_toolkits.mplot3d import Axes3D"
   ]
  },
  {
   "cell_type": "code",
   "execution_count": 118,
   "metadata": {},
   "outputs": [],
   "source": [
    "# Define the equations for the surfaces\n",
    "def spherical_cap(theta_cap):\n",
    "    r = 1.0\n",
    "    theta = np.linspace(0, theta_cap, 100)\n",
    "    phi = np.linspace(0, 2 * np.pi, 100)\n",
    "    theta_grid, phi_grid = np.meshgrid(theta, phi)\n",
    "    return r * np.sin(theta_grid) * np.cos(phi_grid), r * np.sin(theta_grid) * np.sin(phi_grid), r * np.cos(theta_grid)\n",
    "\n",
    "def great_circle_xy():\n",
    "    r = 1.005\n",
    "    theta = np.linspace(0, 2 * np.pi, 100)\n",
    "    return r*np.sin(theta), r*np.cos(theta), np.zeros_like(theta)\n",
    "\n",
    "def great_circle_xz():\n",
    "    r = 1.005\n",
    "    theta = np.linspace(0, 2 * np.pi, 100)\n",
    "    return r*np.sin(theta), np.zeros_like(theta), r*np.cos(theta)\n",
    "\n",
    "def great_circle_yz():\n",
    "    r = 1.005\n",
    "    theta = np.linspace(0, 2 * np.pi, 100)\n",
    "    return np.zeros_like(theta), r*np.sin(theta), r*np.cos(theta)"
   ]
  },
  {
   "cell_type": "code",
   "execution_count": 132,
   "metadata": {},
   "outputs": [
    {
     "name": "stderr",
     "output_type": "stream",
     "text": [
      "C:\\Users\\CHTUNG\\AppData\\Roaming\\Python\\Python38\\site-packages\\pyvista\\utilities\\helpers.py:507: UserWarning: Points is not a float type. This can cause issues when transforming or applying filters. Casting to ``np.float32``. Disable this by passing ``force_float=False``.\n",
      "  warnings.warn(\n"
     ]
    },
    {
     "data": {
      "application/vnd.jupyter.widget-view+json": {
       "model_id": "f9709ecedd2d46be888220e615b790ee",
       "version_major": 2,
       "version_minor": 0
      },
      "text/plain": [
       "Widget(value=\"<iframe src='http://localhost:52142/index.html?ui=P_0x23a8f21b190_84&reconnect=auto' style='widt…"
      ]
     },
     "metadata": {},
     "output_type": "display_data"
    }
   ],
   "source": [
    "# Create a PyVista plotter\n",
    "p = pv.Plotter(window_size=[600, 600])\n",
    "p.enable_anti_aliasing('msaa')\n",
    "\n",
    "# Plot the spherical cap in the positive z direction\n",
    "theta_cap = np.pi / 3.6\n",
    "x_cap, y_cap, z_cap = spherical_cap(theta_cap)\n",
    "spherical_cap_pos = pv.PolyData(np.column_stack([x_cap.ravel(), y_cap.ravel(), z_cap.ravel()]))\n",
    "surf_pos = spherical_cap_pos.delaunay_2d()\n",
    "spherical_cap_neg = pv.PolyData(np.column_stack([x_cap.ravel(), y_cap.ravel(), -z_cap.ravel()]))\n",
    "surf_neg = spherical_cap_neg.delaunay_2d()\n",
    "\n",
    "backface_params = dict(color='#7f7f7f')\n",
    "\n",
    "p.add_mesh(surf_pos, show_edges=False, color='#4cbb17', backface_params=backface_params,)\n",
    "p.add_mesh(surf_neg, show_edges=False, color='#4cbb17', backface_params=backface_params,)\n",
    "\n",
    "# plot great circles\n",
    "x_circle, y_circle, z_circle = great_circle_xy()\n",
    "curve = pv.lines_from_points(np.column_stack([x_circle, y_circle, z_circle]))\n",
    "p.add_mesh(curve,color='#000000',line_width=3)\n",
    "x_circle, y_circle, z_circle = great_circle_xz()\n",
    "curve = pv.lines_from_points(np.column_stack([x_circle, y_circle, z_circle]))\n",
    "p.add_mesh(curve,color='#000000',line_width=3)\n",
    "x_circle, y_circle, z_circle = great_circle_yz()\n",
    "curve = pv.lines_from_points(np.column_stack([x_circle, y_circle, z_circle]))\n",
    "p.add_mesh(curve,color='#000000',line_width=3)\n",
    "\n",
    "# plot z axis\n",
    "points = np.array([[0,0,z] for z in np.linspace(-1.5,1.5,3)])\n",
    "curve = pv.lines_from_points(points)\n",
    "p.add_mesh(curve,color='#000000',line_width=3)\n",
    "\n",
    "# plot center\n",
    "p.add_mesh(\n",
    "        pv.PolyData([0,0,0]),\n",
    "        color=\"k\",\n",
    "        point_size=10,\n",
    "        render_points_as_spheres=True,\n",
    "    )\n",
    "\n",
    "# # plot vector\n",
    "# points = [[0,0,0],[0,np.sin(theta_cap),np.cos(theta_cap)]]\n",
    "# curve = pv.lines_from_points(points)\n",
    "# p.add_mesh(curve,color='#000000',line_width=3)\n",
    "\n",
    "\n",
    "# # light setting\n",
    "# light = pv.Light()\n",
    "# light.set_direction_angle(21, -55.0)\n",
    "# light.attenuation_values = (0,0,2)\n",
    "# p.add_light(light)\n",
    "\n",
    "# camera setting\n",
    "p.camera_position = 'yz'\n",
    "p.camera.azimuth = 22.5\n",
    "p.camera.elevation = 14.0\n",
    "p.camera.roll = -85.0\n",
    "p.camera.reset_clipping_range()\n",
    "\n",
    "# Set axes properties and show the plot\n",
    "p.set_background('white')\n",
    "\n",
    "path = './Figures/'\n",
    "import os\n",
    "isExist = os.path.exists(path)\n",
    "if not isExist:\n",
    "    # Create a new directory because it does not exist\n",
    "    os.makedirs(path)\n",
    "    print('new directory created')\n",
    "\n",
    "filename = path+'schematic_RW.png'\n",
    "p.show(screenshot=filename)"
   ]
  },
  {
   "cell_type": "code",
   "execution_count": null,
   "metadata": {},
   "outputs": [],
   "source": []
  }
 ],
 "metadata": {
  "kernelspec": {
   "display_name": "Python 3",
   "language": "python",
   "name": "python3"
  },
  "language_info": {
   "codemirror_mode": {
    "name": "ipython",
    "version": 3
   },
   "file_extension": ".py",
   "mimetype": "text/x-python",
   "name": "python",
   "nbconvert_exporter": "python",
   "pygments_lexer": "ipython3",
   "version": "3.8.11"
  },
  "orig_nbformat": 4
 },
 "nbformat": 4,
 "nbformat_minor": 2
}
