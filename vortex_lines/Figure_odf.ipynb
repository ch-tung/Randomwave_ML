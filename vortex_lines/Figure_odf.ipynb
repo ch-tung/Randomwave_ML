{
 "cells": [
  {
   "cell_type": "code",
   "execution_count": 1,
   "metadata": {},
   "outputs": [],
   "source": [
    "import numpy as np\n",
    "import matplotlib.pyplot as plt\n",
    "from mpl_toolkits.mplot3d import Axes3D\n",
    "plt.rcParams[\"font.family\"] = \"Arial\"\n",
    "# from skimage import measure\n",
    "import pyvista as pv\n",
    "pv.set_jupyter_backend('trame')\n",
    "from tqdm import tqdm, trange\n",
    "from scipy import interpolate, ndimage\n",
    "from scipy.interpolate import splrep, splev\n",
    "from scipy.io import savemat, loadmat\n",
    "from time import time\n",
    "from PIL import Image"
   ]
  },
  {
   "cell_type": "code",
   "execution_count": 2,
   "metadata": {},
   "outputs": [],
   "source": [
    "# random seed\n",
    "# np.random.seed(1145142)"
   ]
  },
  {
   "cell_type": "markdown",
   "metadata": {},
   "source": [
    "## Define function"
   ]
  },
  {
   "cell_type": "code",
   "execution_count": 3,
   "metadata": {},
   "outputs": [],
   "source": [
    "from Vortex import *"
   ]
  },
  {
   "cell_type": "code",
   "execution_count": 4,
   "metadata": {},
   "outputs": [],
   "source": [
    "def generate_rho_phase(r_grid,sigma_k,kappa,alpha):\n",
    "    #### Wave vector distribution ####\n",
    "    scale = 3.6\n",
    "    k_mean_z = np.array([0,0,scale])*2*np.pi # lamellar perpendicular to z axis \n",
    "    # k_mean_x = np.array([0,0,0])*np.pi # lamellar perpendicular to z axis \n",
    "    k_var  = (np.array([0,0,sigma_k*scale])*2*np.pi)**2\n",
    "    k_cov  = np.diagflat(k_var)\n",
    "\n",
    "    rho = sample_wave_MO_complex(r_grid,k_mean_z,k_cov,n_wave = 100, kappa=kappa)\n",
    "\n",
    "    n_grid_scale = 360\n",
    "    scale_zoom = n_grid_scale/rho.shape[0]\n",
    "\n",
    "    def scale_rho(rho, r_grid, scale):\n",
    "        rho = ndimage.zoom(rho, scale, order=1)\n",
    "        r_grid = np.array([ndimage.zoom(r, scale, order=1) for r in r_grid]) \n",
    "        return rho, r_grid\n",
    "\n",
    "    rho, r_grid = scale_rho(rho, r_grid, scale_zoom)\n",
    "\n",
    "    # rho_real = rho.real\n",
    "    # rho_imag = rho.imag\n",
    "    rho_phase = np.angle(rho)\n",
    "\n",
    "    return rho_phase"
   ]
  },
  {
   "cell_type": "code",
   "execution_count": 5,
   "metadata": {},
   "outputs": [
    {
     "name": "stdout",
     "output_type": "stream",
     "text": [
      "\n",
      "parameters = [0.0, 256, 0.00]\n"
     ]
    },
    {
     "name": "stderr",
     "output_type": "stream",
     "text": [
      "100%|██████████| 360/360 [00:02<00:00, 142.24it/s]\n",
      "100%|██████████| 360/360 [00:02<00:00, 128.39it/s]\n",
      "100%|██████████| 360/360 [00:03<00:00, 117.13it/s]\n"
     ]
    },
    {
     "name": "stdout",
     "output_type": "stream",
     "text": [
      "no defect identified\n",
      "sample_size = 0/20000 (+ 0)\n",
      "\n"
     ]
    },
    {
     "name": "stderr",
     "output_type": "stream",
     "text": [
      "100%|██████████| 360/360 [00:02<00:00, 131.45it/s]\n",
      "100%|██████████| 360/360 [00:02<00:00, 127.22it/s]\n",
      "100%|██████████| 360/360 [00:03<00:00, 113.63it/s]\n"
     ]
    },
    {
     "name": "stdout",
     "output_type": "stream",
     "text": [
      "no defect identified\n",
      "sample_size = 0/20000 (+ 0)\n",
      "\n"
     ]
    },
    {
     "name": "stderr",
     "output_type": "stream",
     "text": [
      "100%|██████████| 360/360 [00:02<00:00, 132.57it/s]\n",
      "100%|██████████| 360/360 [00:02<00:00, 134.24it/s]\n",
      "100%|██████████| 360/360 [00:02<00:00, 122.93it/s]\n"
     ]
    },
    {
     "name": "stdout",
     "output_type": "stream",
     "text": [
      "sample_size = 121/20000 (+ 121)\n",
      "\n"
     ]
    },
    {
     "name": "stderr",
     "output_type": "stream",
     "text": [
      "100%|██████████| 360/360 [00:02<00:00, 133.44it/s]\n",
      "100%|██████████| 360/360 [00:02<00:00, 141.45it/s]\n",
      "100%|██████████| 360/360 [00:02<00:00, 120.42it/s]\n"
     ]
    },
    {
     "name": "stdout",
     "output_type": "stream",
     "text": [
      "sample_size = 361/20000 (+ 240)\n",
      "\n"
     ]
    },
    {
     "name": "stderr",
     "output_type": "stream",
     "text": [
      "100%|██████████| 360/360 [00:02<00:00, 146.64it/s]\n",
      "100%|██████████| 360/360 [00:02<00:00, 141.48it/s]\n",
      "100%|██████████| 360/360 [00:02<00:00, 123.10it/s]\n"
     ]
    },
    {
     "name": "stdout",
     "output_type": "stream",
     "text": [
      "no defect identified\n",
      "sample_size = 361/20000 (+ 0)\n",
      "\n"
     ]
    },
    {
     "name": "stderr",
     "output_type": "stream",
     "text": [
      "100%|██████████| 360/360 [00:02<00:00, 137.25it/s]\n",
      "100%|██████████| 360/360 [00:02<00:00, 141.63it/s]\n",
      "100%|██████████| 360/360 [00:02<00:00, 124.73it/s]\n"
     ]
    },
    {
     "name": "stdout",
     "output_type": "stream",
     "text": [
      "sample_size = 605/20000 (+ 244)\n",
      "\n"
     ]
    },
    {
     "name": "stderr",
     "output_type": "stream",
     "text": [
      "100%|██████████| 360/360 [00:02<00:00, 143.76it/s]\n",
      "100%|██████████| 360/360 [00:02<00:00, 141.28it/s]\n",
      "100%|██████████| 360/360 [00:02<00:00, 124.32it/s]\n"
     ]
    },
    {
     "name": "stdout",
     "output_type": "stream",
     "text": [
      "sample_size = 727/20000 (+ 122)\n",
      "\n"
     ]
    },
    {
     "name": "stderr",
     "output_type": "stream",
     "text": [
      "100%|██████████| 360/360 [00:02<00:00, 144.14it/s]\n",
      "100%|██████████| 360/360 [00:02<00:00, 140.60it/s]\n",
      "100%|██████████| 360/360 [00:02<00:00, 122.64it/s]\n"
     ]
    },
    {
     "name": "stdout",
     "output_type": "stream",
     "text": [
      "no defect identified\n",
      "sample_size = 727/20000 (+ 0)\n",
      "\n"
     ]
    },
    {
     "name": "stderr",
     "output_type": "stream",
     "text": [
      "100%|██████████| 360/360 [00:02<00:00, 144.41it/s]\n",
      "100%|██████████| 360/360 [00:02<00:00, 142.70it/s]\n",
      "100%|██████████| 360/360 [00:02<00:00, 126.02it/s]\n"
     ]
    },
    {
     "name": "stdout",
     "output_type": "stream",
     "text": [
      "sample_size = 848/20000 (+ 121)\n",
      "\n"
     ]
    },
    {
     "name": "stderr",
     "output_type": "stream",
     "text": [
      "100%|██████████| 360/360 [00:02<00:00, 146.21it/s]\n",
      "100%|██████████| 360/360 [00:02<00:00, 142.11it/s]\n",
      "100%|██████████| 360/360 [00:02<00:00, 125.56it/s]\n"
     ]
    },
    {
     "name": "stdout",
     "output_type": "stream",
     "text": [
      "sample_size = 969/20000 (+ 121)\n",
      "\n"
     ]
    },
    {
     "name": "stderr",
     "output_type": "stream",
     "text": [
      "100%|██████████| 360/360 [00:02<00:00, 145.15it/s]\n",
      "100%|██████████| 360/360 [00:02<00:00, 143.46it/s]\n",
      "100%|██████████| 360/360 [00:02<00:00, 123.24it/s]\n"
     ]
    },
    {
     "name": "stdout",
     "output_type": "stream",
     "text": [
      "sample_size = 1090/20000 (+ 121)\n",
      "\n"
     ]
    },
    {
     "name": "stderr",
     "output_type": "stream",
     "text": [
      "100%|██████████| 360/360 [00:02<00:00, 142.54it/s]\n",
      "100%|██████████| 360/360 [00:02<00:00, 144.37it/s]\n",
      "100%|██████████| 360/360 [00:02<00:00, 123.88it/s]\n"
     ]
    },
    {
     "name": "stdout",
     "output_type": "stream",
     "text": [
      "sample_size = 1332/20000 (+ 242)\n",
      "\n"
     ]
    },
    {
     "name": "stderr",
     "output_type": "stream",
     "text": [
      "100%|██████████| 360/360 [00:02<00:00, 142.54it/s]\n",
      "100%|██████████| 360/360 [00:02<00:00, 139.37it/s]\n",
      "100%|██████████| 360/360 [00:02<00:00, 122.54it/s]\n"
     ]
    },
    {
     "name": "stdout",
     "output_type": "stream",
     "text": [
      "sample_size = 1573/20000 (+ 241)\n",
      "\n"
     ]
    },
    {
     "name": "stderr",
     "output_type": "stream",
     "text": [
      "100%|██████████| 360/360 [00:02<00:00, 143.32it/s]\n",
      "100%|██████████| 360/360 [00:02<00:00, 133.04it/s]\n",
      "100%|██████████| 360/360 [00:02<00:00, 120.98it/s]\n"
     ]
    },
    {
     "name": "stdout",
     "output_type": "stream",
     "text": [
      "sample_size = 1589/20000 (+ 16)\n",
      "\n"
     ]
    },
    {
     "name": "stderr",
     "output_type": "stream",
     "text": [
      "100%|██████████| 360/360 [00:02<00:00, 144.44it/s]\n",
      "100%|██████████| 360/360 [00:02<00:00, 143.77it/s]\n",
      "100%|██████████| 360/360 [00:02<00:00, 124.81it/s]\n"
     ]
    },
    {
     "name": "stdout",
     "output_type": "stream",
     "text": [
      "no defect identified\n",
      "sample_size = 1589/20000 (+ 0)\n",
      "\n"
     ]
    },
    {
     "name": "stderr",
     "output_type": "stream",
     "text": [
      "100%|██████████| 360/360 [00:02<00:00, 144.49it/s]\n",
      "100%|██████████| 360/360 [00:02<00:00, 138.73it/s]\n",
      "100%|██████████| 360/360 [00:02<00:00, 125.85it/s]\n"
     ]
    },
    {
     "name": "stdout",
     "output_type": "stream",
     "text": [
      "sample_size = 1709/20000 (+ 120)\n",
      "\n"
     ]
    },
    {
     "name": "stderr",
     "output_type": "stream",
     "text": [
      "100%|██████████| 360/360 [00:02<00:00, 141.87it/s]\n",
      "100%|██████████| 360/360 [00:02<00:00, 141.66it/s]\n",
      "100%|██████████| 360/360 [00:02<00:00, 126.04it/s]\n"
     ]
    },
    {
     "name": "stdout",
     "output_type": "stream",
     "text": [
      "no defect identified\n",
      "sample_size = 1709/20000 (+ 0)\n",
      "\n"
     ]
    },
    {
     "name": "stderr",
     "output_type": "stream",
     "text": [
      "100%|██████████| 360/360 [00:02<00:00, 142.53it/s]\n",
      "100%|██████████| 360/360 [00:02<00:00, 141.17it/s]\n",
      "100%|██████████| 360/360 [00:02<00:00, 122.55it/s]\n"
     ]
    },
    {
     "name": "stdout",
     "output_type": "stream",
     "text": [
      "sample_size = 1829/20000 (+ 120)\n",
      "\n"
     ]
    },
    {
     "name": "stderr",
     "output_type": "stream",
     "text": [
      "100%|██████████| 360/360 [00:02<00:00, 141.58it/s]\n",
      "100%|██████████| 360/360 [00:02<00:00, 136.67it/s]\n",
      "100%|██████████| 360/360 [00:02<00:00, 124.43it/s]\n"
     ]
    },
    {
     "name": "stdout",
     "output_type": "stream",
     "text": [
      "sample_size = 2178/20000 (+ 349)\n",
      "\n"
     ]
    },
    {
     "name": "stderr",
     "output_type": "stream",
     "text": [
      "100%|██████████| 360/360 [00:02<00:00, 143.54it/s]\n",
      "100%|██████████| 360/360 [00:02<00:00, 144.64it/s]\n",
      "100%|██████████| 360/360 [00:02<00:00, 126.17it/s]\n"
     ]
    },
    {
     "name": "stdout",
     "output_type": "stream",
     "text": [
      "no defect identified\n",
      "sample_size = 2178/20000 (+ 0)\n",
      "\n"
     ]
    },
    {
     "name": "stderr",
     "output_type": "stream",
     "text": [
      "100%|██████████| 360/360 [00:02<00:00, 136.45it/s]\n",
      "100%|██████████| 360/360 [00:02<00:00, 141.50it/s]\n",
      "100%|██████████| 360/360 [00:02<00:00, 127.02it/s]\n"
     ]
    },
    {
     "name": "stdout",
     "output_type": "stream",
     "text": [
      "sample_size = 2299/20000 (+ 121)\n",
      "\n"
     ]
    },
    {
     "name": "stderr",
     "output_type": "stream",
     "text": [
      "100%|██████████| 360/360 [00:02<00:00, 142.92it/s]\n",
      "100%|██████████| 360/360 [00:02<00:00, 142.24it/s]\n",
      "100%|██████████| 360/360 [00:02<00:00, 123.06it/s]\n"
     ]
    },
    {
     "name": "stdout",
     "output_type": "stream",
     "text": [
      "sample_size = 2496/20000 (+ 197)\n",
      "\n"
     ]
    },
    {
     "name": "stderr",
     "output_type": "stream",
     "text": [
      "100%|██████████| 360/360 [00:02<00:00, 136.54it/s]\n",
      "100%|██████████| 360/360 [00:02<00:00, 139.56it/s]\n",
      "100%|██████████| 360/360 [00:02<00:00, 122.59it/s]\n"
     ]
    },
    {
     "name": "stdout",
     "output_type": "stream",
     "text": [
      "sample_size = 3104/20000 (+ 608)\n",
      "\n"
     ]
    },
    {
     "name": "stderr",
     "output_type": "stream",
     "text": [
      "100%|██████████| 360/360 [00:02<00:00, 143.60it/s]\n",
      "100%|██████████| 360/360 [00:02<00:00, 139.33it/s]\n",
      "100%|██████████| 360/360 [00:02<00:00, 121.76it/s]\n"
     ]
    },
    {
     "name": "stdout",
     "output_type": "stream",
     "text": [
      "sample_size = 3224/20000 (+ 120)\n",
      "\n"
     ]
    },
    {
     "name": "stderr",
     "output_type": "stream",
     "text": [
      "100%|██████████| 360/360 [00:02<00:00, 136.92it/s]\n",
      "100%|██████████| 360/360 [00:02<00:00, 138.05it/s]\n",
      "100%|██████████| 360/360 [00:02<00:00, 122.28it/s]\n"
     ]
    },
    {
     "name": "stdout",
     "output_type": "stream",
     "text": [
      "no defect identified\n",
      "sample_size = 3224/20000 (+ 0)\n",
      "\n"
     ]
    },
    {
     "name": "stderr",
     "output_type": "stream",
     "text": [
      "100%|██████████| 360/360 [00:02<00:00, 140.18it/s]\n",
      "100%|██████████| 360/360 [00:02<00:00, 136.75it/s]\n",
      "100%|██████████| 360/360 [00:02<00:00, 127.99it/s]\n"
     ]
    },
    {
     "name": "stdout",
     "output_type": "stream",
     "text": [
      "sample_size = 3344/20000 (+ 120)\n",
      "\n"
     ]
    },
    {
     "name": "stderr",
     "output_type": "stream",
     "text": [
      "100%|██████████| 360/360 [00:02<00:00, 137.88it/s]\n",
      "100%|██████████| 360/360 [00:02<00:00, 125.22it/s]\n",
      "100%|██████████| 360/360 [00:03<00:00, 116.32it/s]\n"
     ]
    },
    {
     "name": "stdout",
     "output_type": "stream",
     "text": [
      "sample_size = 3465/20000 (+ 121)\n",
      "\n"
     ]
    },
    {
     "name": "stderr",
     "output_type": "stream",
     "text": [
      "100%|██████████| 360/360 [00:02<00:00, 136.27it/s]\n",
      "100%|██████████| 360/360 [00:02<00:00, 127.79it/s]\n",
      "100%|██████████| 360/360 [00:03<00:00, 117.23it/s]\n"
     ]
    },
    {
     "name": "stdout",
     "output_type": "stream",
     "text": [
      "no defect identified\n",
      "sample_size = 3465/20000 (+ 0)\n",
      "\n"
     ]
    },
    {
     "name": "stderr",
     "output_type": "stream",
     "text": [
      "100%|██████████| 360/360 [00:02<00:00, 139.77it/s]\n",
      "100%|██████████| 360/360 [00:02<00:00, 138.45it/s]\n",
      "100%|██████████| 360/360 [00:03<00:00, 119.16it/s]\n"
     ]
    },
    {
     "name": "stdout",
     "output_type": "stream",
     "text": [
      "sample_size = 3784/20000 (+ 319)\n",
      "\n"
     ]
    },
    {
     "name": "stderr",
     "output_type": "stream",
     "text": [
      "100%|██████████| 360/360 [00:02<00:00, 137.90it/s]\n",
      "100%|██████████| 360/360 [00:02<00:00, 136.07it/s]\n",
      "100%|██████████| 360/360 [00:03<00:00, 119.37it/s]\n"
     ]
    },
    {
     "name": "stdout",
     "output_type": "stream",
     "text": [
      "sample_size = 3951/20000 (+ 167)\n",
      "\n"
     ]
    },
    {
     "name": "stderr",
     "output_type": "stream",
     "text": [
      "100%|██████████| 360/360 [00:02<00:00, 129.52it/s]\n",
      "100%|██████████| 360/360 [00:50<00:00,  7.16it/s] \n",
      "100%|██████████| 360/360 [00:03<00:00, 95.88it/s] \n"
     ]
    },
    {
     "name": "stdout",
     "output_type": "stream",
     "text": [
      "sample_size = 4190/20000 (+ 239)\n",
      "\n"
     ]
    },
    {
     "name": "stderr",
     "output_type": "stream",
     "text": [
      "100%|██████████| 360/360 [00:02<00:00, 153.35it/s]\n",
      "100%|██████████| 360/360 [00:02<00:00, 146.66it/s]\n",
      "100%|██████████| 360/360 [00:02<00:00, 129.16it/s]\n"
     ]
    },
    {
     "name": "stdout",
     "output_type": "stream",
     "text": [
      "sample_size = 4434/20000 (+ 244)\n",
      "\n"
     ]
    },
    {
     "name": "stderr",
     "output_type": "stream",
     "text": [
      "100%|██████████| 360/360 [00:02<00:00, 149.19it/s]\n",
      "100%|██████████| 360/360 [00:02<00:00, 147.01it/s]\n",
      "100%|██████████| 360/360 [00:02<00:00, 124.55it/s]\n"
     ]
    },
    {
     "name": "stdout",
     "output_type": "stream",
     "text": [
      "sample_size = 4555/20000 (+ 121)\n",
      "\n"
     ]
    },
    {
     "name": "stderr",
     "output_type": "stream",
     "text": [
      "100%|██████████| 360/360 [00:02<00:00, 144.22it/s]\n",
      "100%|██████████| 360/360 [00:02<00:00, 141.94it/s]\n",
      "100%|██████████| 360/360 [00:02<00:00, 125.78it/s]\n"
     ]
    },
    {
     "name": "stdout",
     "output_type": "stream",
     "text": [
      "no defect identified\n",
      "sample_size = 4555/20000 (+ 0)\n",
      "\n"
     ]
    },
    {
     "name": "stderr",
     "output_type": "stream",
     "text": [
      "100%|██████████| 360/360 [00:02<00:00, 134.45it/s]\n",
      "100%|██████████| 360/360 [00:02<00:00, 139.84it/s]\n",
      "100%|██████████| 360/360 [00:02<00:00, 120.32it/s]\n"
     ]
    },
    {
     "name": "stdout",
     "output_type": "stream",
     "text": [
      "sample_size = 4737/20000 (+ 182)\n",
      "\n"
     ]
    },
    {
     "name": "stderr",
     "output_type": "stream",
     "text": [
      "100%|██████████| 360/360 [00:02<00:00, 140.62it/s]\n",
      "100%|██████████| 360/360 [00:02<00:00, 140.69it/s]\n",
      "100%|██████████| 360/360 [00:02<00:00, 121.40it/s]\n"
     ]
    },
    {
     "name": "stdout",
     "output_type": "stream",
     "text": [
      "sample_size = 4826/20000 (+ 89)\n",
      "\n"
     ]
    },
    {
     "name": "stderr",
     "output_type": "stream",
     "text": [
      "100%|██████████| 360/360 [00:02<00:00, 136.19it/s]\n",
      "100%|██████████| 360/360 [00:02<00:00, 137.55it/s]\n",
      "100%|██████████| 360/360 [00:03<00:00, 117.38it/s]\n"
     ]
    },
    {
     "name": "stdout",
     "output_type": "stream",
     "text": [
      "no defect identified\n",
      "sample_size = 4826/20000 (+ 0)\n",
      "\n"
     ]
    },
    {
     "name": "stderr",
     "output_type": "stream",
     "text": [
      "100%|██████████| 360/360 [00:02<00:00, 139.00it/s]\n",
      "100%|██████████| 360/360 [00:02<00:00, 137.22it/s]\n",
      "100%|██████████| 360/360 [00:02<00:00, 121.96it/s]\n"
     ]
    },
    {
     "name": "stdout",
     "output_type": "stream",
     "text": [
      "sample_size = 5022/20000 (+ 196)\n",
      "\n"
     ]
    },
    {
     "name": "stderr",
     "output_type": "stream",
     "text": [
      "100%|██████████| 360/360 [00:02<00:00, 138.55it/s]\n",
      "100%|██████████| 360/360 [00:02<00:00, 141.73it/s]\n",
      "100%|██████████| 360/360 [00:02<00:00, 125.41it/s]\n"
     ]
    },
    {
     "name": "stdout",
     "output_type": "stream",
     "text": [
      "sample_size = 5348/20000 (+ 326)\n",
      "\n"
     ]
    },
    {
     "name": "stderr",
     "output_type": "stream",
     "text": [
      "100%|██████████| 360/360 [00:02<00:00, 143.68it/s]\n",
      "100%|██████████| 360/360 [00:02<00:00, 143.45it/s]\n",
      "100%|██████████| 360/360 [00:02<00:00, 127.70it/s]\n"
     ]
    },
    {
     "name": "stdout",
     "output_type": "stream",
     "text": [
      "no defect identified\n",
      "sample_size = 5348/20000 (+ 0)\n",
      "\n"
     ]
    },
    {
     "name": "stderr",
     "output_type": "stream",
     "text": [
      "100%|██████████| 360/360 [00:02<00:00, 134.58it/s]\n",
      "100%|██████████| 360/360 [00:02<00:00, 133.21it/s]\n",
      "100%|██████████| 360/360 [00:03<00:00, 116.58it/s]\n"
     ]
    },
    {
     "name": "stdout",
     "output_type": "stream",
     "text": [
      "sample_size = 5482/20000 (+ 134)\n",
      "\n"
     ]
    },
    {
     "name": "stderr",
     "output_type": "stream",
     "text": [
      "100%|██████████| 360/360 [00:02<00:00, 139.24it/s]\n",
      "100%|██████████| 360/360 [00:02<00:00, 135.57it/s]\n",
      "100%|██████████| 360/360 [00:03<00:00, 115.42it/s]\n"
     ]
    },
    {
     "name": "stdout",
     "output_type": "stream",
     "text": [
      "no defect identified\n",
      "sample_size = 5482/20000 (+ 0)\n",
      "\n"
     ]
    },
    {
     "name": "stderr",
     "output_type": "stream",
     "text": [
      "100%|██████████| 360/360 [00:02<00:00, 133.88it/s]\n",
      "100%|██████████| 360/360 [00:02<00:00, 136.46it/s]\n",
      "100%|██████████| 360/360 [00:02<00:00, 130.30it/s]\n"
     ]
    },
    {
     "name": "stdout",
     "output_type": "stream",
     "text": [
      "sample_size = 5602/20000 (+ 120)\n",
      "\n"
     ]
    },
    {
     "name": "stderr",
     "output_type": "stream",
     "text": [
      "100%|██████████| 360/360 [00:02<00:00, 139.31it/s]\n",
      "100%|██████████| 360/360 [00:02<00:00, 140.02it/s]\n",
      "100%|██████████| 360/360 [00:03<00:00, 119.97it/s]\n"
     ]
    },
    {
     "name": "stdout",
     "output_type": "stream",
     "text": [
      "sample_size = 5957/20000 (+ 355)\n",
      "\n"
     ]
    },
    {
     "name": "stderr",
     "output_type": "stream",
     "text": [
      "100%|██████████| 360/360 [00:02<00:00, 134.27it/s]\n",
      "100%|██████████| 360/360 [00:02<00:00, 128.15it/s]\n",
      "100%|██████████| 360/360 [00:02<00:00, 121.38it/s]\n"
     ]
    },
    {
     "name": "stdout",
     "output_type": "stream",
     "text": [
      "no defect identified\n",
      "sample_size = 5957/20000 (+ 0)\n",
      "\n"
     ]
    },
    {
     "name": "stderr",
     "output_type": "stream",
     "text": [
      "100%|██████████| 360/360 [00:02<00:00, 128.13it/s]\n",
      "100%|██████████| 360/360 [00:02<00:00, 134.98it/s]\n",
      "100%|██████████| 360/360 [00:02<00:00, 124.96it/s]\n"
     ]
    },
    {
     "name": "stdout",
     "output_type": "stream",
     "text": [
      "no defect identified\n",
      "sample_size = 5957/20000 (+ 0)\n",
      "\n"
     ]
    },
    {
     "name": "stderr",
     "output_type": "stream",
     "text": [
      "100%|██████████| 360/360 [00:02<00:00, 123.32it/s]\n",
      "100%|██████████| 360/360 [00:02<00:00, 132.98it/s]\n",
      "100%|██████████| 360/360 [00:02<00:00, 124.23it/s]\n"
     ]
    },
    {
     "name": "stdout",
     "output_type": "stream",
     "text": [
      "sample_size = 6318/20000 (+ 361)\n",
      "\n"
     ]
    },
    {
     "name": "stderr",
     "output_type": "stream",
     "text": [
      "100%|██████████| 360/360 [00:02<00:00, 142.05it/s]\n",
      "100%|██████████| 360/360 [00:02<00:00, 141.25it/s]\n",
      "100%|██████████| 360/360 [00:02<00:00, 126.41it/s]\n"
     ]
    },
    {
     "name": "stdout",
     "output_type": "stream",
     "text": [
      "sample_size = 6423/20000 (+ 105)\n",
      "\n"
     ]
    },
    {
     "name": "stderr",
     "output_type": "stream",
     "text": [
      "100%|██████████| 360/360 [00:02<00:00, 134.96it/s]\n",
      "100%|██████████| 360/360 [00:02<00:00, 143.89it/s]\n",
      "100%|██████████| 360/360 [00:02<00:00, 121.99it/s]\n"
     ]
    },
    {
     "name": "stdout",
     "output_type": "stream",
     "text": [
      "sample_size = 6664/20000 (+ 241)\n",
      "\n"
     ]
    },
    {
     "name": "stderr",
     "output_type": "stream",
     "text": [
      "100%|██████████| 360/360 [00:02<00:00, 140.31it/s]\n",
      "100%|██████████| 360/360 [00:02<00:00, 139.81it/s]\n",
      "100%|██████████| 360/360 [00:02<00:00, 123.75it/s]\n"
     ]
    },
    {
     "name": "stdout",
     "output_type": "stream",
     "text": [
      "sample_size = 6708/20000 (+ 44)\n",
      "\n"
     ]
    },
    {
     "name": "stderr",
     "output_type": "stream",
     "text": [
      "100%|██████████| 360/360 [00:02<00:00, 145.82it/s]\n",
      "100%|██████████| 360/360 [00:02<00:00, 134.30it/s]\n",
      "100%|██████████| 360/360 [00:03<00:00, 117.73it/s]\n"
     ]
    },
    {
     "name": "stdout",
     "output_type": "stream",
     "text": [
      "no defect identified\n",
      "sample_size = 6708/20000 (+ 0)\n",
      "\n"
     ]
    },
    {
     "name": "stderr",
     "output_type": "stream",
     "text": [
      "100%|██████████| 360/360 [00:02<00:00, 144.68it/s]\n",
      "100%|██████████| 360/360 [00:02<00:00, 140.93it/s]\n",
      "100%|██████████| 360/360 [00:02<00:00, 123.07it/s]\n"
     ]
    },
    {
     "name": "stdout",
     "output_type": "stream",
     "text": [
      "sample_size = 6933/20000 (+ 225)\n",
      "\n"
     ]
    },
    {
     "name": "stderr",
     "output_type": "stream",
     "text": [
      "100%|██████████| 360/360 [00:02<00:00, 133.54it/s]\n",
      "100%|██████████| 360/360 [00:02<00:00, 137.10it/s]\n",
      "100%|██████████| 360/360 [00:02<00:00, 122.21it/s]\n"
     ]
    },
    {
     "name": "stdout",
     "output_type": "stream",
     "text": [
      "sample_size = 7179/20000 (+ 246)\n",
      "\n"
     ]
    },
    {
     "name": "stderr",
     "output_type": "stream",
     "text": [
      "100%|██████████| 360/360 [00:02<00:00, 136.60it/s]\n",
      "100%|██████████| 360/360 [00:02<00:00, 141.21it/s]\n",
      "100%|██████████| 360/360 [00:03<00:00, 119.79it/s]\n"
     ]
    },
    {
     "name": "stdout",
     "output_type": "stream",
     "text": [
      "sample_size = 7403/20000 (+ 224)\n",
      "\n"
     ]
    },
    {
     "name": "stderr",
     "output_type": "stream",
     "text": [
      "100%|██████████| 360/360 [00:02<00:00, 132.40it/s]\n",
      "100%|██████████| 360/360 [00:02<00:00, 146.20it/s]\n",
      "100%|██████████| 360/360 [00:02<00:00, 125.43it/s]\n"
     ]
    },
    {
     "name": "stdout",
     "output_type": "stream",
     "text": [
      "no defect identified\n",
      "sample_size = 7403/20000 (+ 0)\n",
      "\n"
     ]
    },
    {
     "name": "stderr",
     "output_type": "stream",
     "text": [
      "100%|██████████| 360/360 [00:02<00:00, 140.77it/s]\n",
      "100%|██████████| 360/360 [00:02<00:00, 133.67it/s]\n",
      "100%|██████████| 360/360 [00:02<00:00, 124.78it/s]\n"
     ]
    },
    {
     "name": "stdout",
     "output_type": "stream",
     "text": [
      "no defect identified\n",
      "sample_size = 7403/20000 (+ 0)\n",
      "\n"
     ]
    },
    {
     "name": "stderr",
     "output_type": "stream",
     "text": [
      "100%|██████████| 360/360 [00:02<00:00, 143.35it/s]\n",
      "100%|██████████| 360/360 [00:02<00:00, 137.19it/s]\n",
      "100%|██████████| 360/360 [00:03<00:00, 118.61it/s]\n"
     ]
    },
    {
     "name": "stdout",
     "output_type": "stream",
     "text": [
      "no defect identified\n",
      "sample_size = 7403/20000 (+ 0)\n",
      "\n"
     ]
    },
    {
     "name": "stderr",
     "output_type": "stream",
     "text": [
      "100%|██████████| 360/360 [00:02<00:00, 125.00it/s]\n",
      "100%|██████████| 360/360 [00:02<00:00, 129.11it/s]\n",
      "100%|██████████| 360/360 [00:03<00:00, 112.42it/s]\n"
     ]
    },
    {
     "name": "stdout",
     "output_type": "stream",
     "text": [
      "no defect identified\n",
      "sample_size = 7403/20000 (+ 0)\n",
      "\n"
     ]
    },
    {
     "name": "stderr",
     "output_type": "stream",
     "text": [
      "100%|██████████| 360/360 [00:02<00:00, 137.98it/s]\n",
      "100%|██████████| 360/360 [00:02<00:00, 135.65it/s]\n",
      "100%|██████████| 360/360 [00:02<00:00, 121.35it/s]\n"
     ]
    },
    {
     "name": "stdout",
     "output_type": "stream",
     "text": [
      "no defect identified\n",
      "sample_size = 7403/20000 (+ 0)\n",
      "\n"
     ]
    },
    {
     "name": "stderr",
     "output_type": "stream",
     "text": [
      "100%|██████████| 360/360 [00:02<00:00, 135.72it/s]\n",
      "100%|██████████| 360/360 [00:02<00:00, 136.52it/s]\n",
      "100%|██████████| 360/360 [00:02<00:00, 124.39it/s]\n"
     ]
    },
    {
     "name": "stdout",
     "output_type": "stream",
     "text": [
      "sample_size = 7524/20000 (+ 121)\n",
      "\n"
     ]
    },
    {
     "name": "stderr",
     "output_type": "stream",
     "text": [
      "100%|██████████| 360/360 [00:02<00:00, 136.86it/s]\n",
      "100%|██████████| 360/360 [00:02<00:00, 137.24it/s]\n",
      "100%|██████████| 360/360 [00:03<00:00, 119.02it/s]\n"
     ]
    },
    {
     "name": "stdout",
     "output_type": "stream",
     "text": [
      "no defect identified\n",
      "sample_size = 7524/20000 (+ 0)\n",
      "\n"
     ]
    },
    {
     "name": "stderr",
     "output_type": "stream",
     "text": [
      "100%|██████████| 360/360 [00:02<00:00, 153.02it/s]\n",
      "100%|██████████| 360/360 [00:02<00:00, 147.53it/s]\n",
      "100%|██████████| 360/360 [00:02<00:00, 131.32it/s]\n"
     ]
    },
    {
     "name": "stdout",
     "output_type": "stream",
     "text": [
      "sample_size = 7765/20000 (+ 241)\n",
      "\n"
     ]
    },
    {
     "name": "stderr",
     "output_type": "stream",
     "text": [
      "100%|██████████| 360/360 [00:02<00:00, 138.75it/s]\n",
      "100%|██████████| 360/360 [00:02<00:00, 136.48it/s]\n",
      "100%|██████████| 360/360 [00:02<00:00, 122.52it/s]\n"
     ]
    },
    {
     "name": "stdout",
     "output_type": "stream",
     "text": [
      "sample_size = 8016/20000 (+ 251)\n",
      "\n"
     ]
    },
    {
     "name": "stderr",
     "output_type": "stream",
     "text": [
      "100%|██████████| 360/360 [00:02<00:00, 139.78it/s]\n",
      "100%|██████████| 360/360 [00:02<00:00, 140.61it/s]\n",
      "100%|██████████| 360/360 [00:02<00:00, 126.46it/s]\n"
     ]
    },
    {
     "name": "stdout",
     "output_type": "stream",
     "text": [
      "sample_size = 8197/20000 (+ 181)\n",
      "\n"
     ]
    },
    {
     "name": "stderr",
     "output_type": "stream",
     "text": [
      "100%|██████████| 360/360 [00:02<00:00, 144.48it/s]\n",
      "100%|██████████| 360/360 [00:02<00:00, 142.53it/s]\n",
      "100%|██████████| 360/360 [00:02<00:00, 123.78it/s]\n"
     ]
    },
    {
     "name": "stdout",
     "output_type": "stream",
     "text": [
      "sample_size = 8320/20000 (+ 123)\n",
      "\n"
     ]
    },
    {
     "name": "stderr",
     "output_type": "stream",
     "text": [
      "100%|██████████| 360/360 [00:02<00:00, 141.45it/s]\n",
      "100%|██████████| 360/360 [00:02<00:00, 139.39it/s]\n",
      "100%|██████████| 360/360 [00:02<00:00, 122.51it/s]\n"
     ]
    },
    {
     "name": "stdout",
     "output_type": "stream",
     "text": [
      "no defect identified\n",
      "sample_size = 8320/20000 (+ 0)\n",
      "\n"
     ]
    },
    {
     "name": "stderr",
     "output_type": "stream",
     "text": [
      "100%|██████████| 360/360 [00:02<00:00, 138.64it/s]\n",
      "100%|██████████| 360/360 [00:02<00:00, 143.92it/s]\n",
      "100%|██████████| 360/360 [00:02<00:00, 121.78it/s]\n"
     ]
    },
    {
     "name": "stdout",
     "output_type": "stream",
     "text": [
      "sample_size = 8562/20000 (+ 242)\n",
      "\n"
     ]
    },
    {
     "name": "stderr",
     "output_type": "stream",
     "text": [
      "100%|██████████| 360/360 [00:02<00:00, 142.57it/s]\n",
      "100%|██████████| 360/360 [00:02<00:00, 144.91it/s]\n",
      "100%|██████████| 360/360 [00:02<00:00, 122.87it/s]\n"
     ]
    },
    {
     "name": "stdout",
     "output_type": "stream",
     "text": [
      "sample_size = 8683/20000 (+ 121)\n",
      "\n"
     ]
    },
    {
     "name": "stderr",
     "output_type": "stream",
     "text": [
      "100%|██████████| 360/360 [00:02<00:00, 140.40it/s]\n",
      "100%|██████████| 360/360 [00:02<00:00, 138.62it/s]\n",
      "100%|██████████| 360/360 [00:02<00:00, 123.73it/s]\n"
     ]
    },
    {
     "name": "stdout",
     "output_type": "stream",
     "text": [
      "sample_size = 8856/20000 (+ 173)\n",
      "\n"
     ]
    },
    {
     "name": "stderr",
     "output_type": "stream",
     "text": [
      "100%|██████████| 360/360 [00:02<00:00, 142.33it/s]\n",
      "100%|██████████| 360/360 [00:02<00:00, 141.22it/s]\n",
      "100%|██████████| 360/360 [00:02<00:00, 124.84it/s]\n"
     ]
    },
    {
     "name": "stdout",
     "output_type": "stream",
     "text": [
      "sample_size = 8977/20000 (+ 121)\n",
      "\n"
     ]
    },
    {
     "name": "stderr",
     "output_type": "stream",
     "text": [
      "100%|██████████| 360/360 [00:02<00:00, 143.60it/s]\n",
      "100%|██████████| 360/360 [00:02<00:00, 141.48it/s]\n",
      "100%|██████████| 360/360 [00:02<00:00, 124.55it/s]\n"
     ]
    },
    {
     "name": "stdout",
     "output_type": "stream",
     "text": [
      "sample_size = 9220/20000 (+ 243)\n",
      "\n"
     ]
    },
    {
     "name": "stderr",
     "output_type": "stream",
     "text": [
      "100%|██████████| 360/360 [00:02<00:00, 142.99it/s]\n",
      "100%|██████████| 360/360 [00:02<00:00, 142.21it/s]\n",
      "100%|██████████| 360/360 [00:02<00:00, 125.97it/s]\n"
     ]
    },
    {
     "name": "stdout",
     "output_type": "stream",
     "text": [
      "sample_size = 9341/20000 (+ 121)\n",
      "\n"
     ]
    },
    {
     "name": "stderr",
     "output_type": "stream",
     "text": [
      "100%|██████████| 360/360 [00:02<00:00, 142.69it/s]\n",
      "100%|██████████| 360/360 [00:02<00:00, 141.01it/s]\n",
      "100%|██████████| 360/360 [00:02<00:00, 126.27it/s]\n"
     ]
    },
    {
     "name": "stdout",
     "output_type": "stream",
     "text": [
      "sample_size = 9506/20000 (+ 165)\n",
      "\n"
     ]
    },
    {
     "name": "stderr",
     "output_type": "stream",
     "text": [
      "100%|██████████| 360/360 [00:02<00:00, 143.27it/s]\n",
      "100%|██████████| 360/360 [00:02<00:00, 142.98it/s]\n",
      "100%|██████████| 360/360 [00:02<00:00, 125.30it/s]\n"
     ]
    },
    {
     "name": "stdout",
     "output_type": "stream",
     "text": [
      "sample_size = 9711/20000 (+ 205)\n",
      "\n"
     ]
    },
    {
     "name": "stderr",
     "output_type": "stream",
     "text": [
      "100%|██████████| 360/360 [00:02<00:00, 137.03it/s]\n",
      "100%|██████████| 360/360 [00:02<00:00, 136.30it/s]\n",
      "100%|██████████| 360/360 [00:02<00:00, 125.36it/s]\n"
     ]
    },
    {
     "name": "stdout",
     "output_type": "stream",
     "text": [
      "sample_size = 9953/20000 (+ 242)\n",
      "\n"
     ]
    },
    {
     "name": "stderr",
     "output_type": "stream",
     "text": [
      "100%|██████████| 360/360 [00:02<00:00, 145.30it/s]\n",
      "100%|██████████| 360/360 [00:02<00:00, 141.27it/s]\n",
      "100%|██████████| 360/360 [00:02<00:00, 127.72it/s]\n"
     ]
    },
    {
     "name": "stdout",
     "output_type": "stream",
     "text": [
      "sample_size = 9964/20000 (+ 11)\n",
      "\n"
     ]
    },
    {
     "name": "stderr",
     "output_type": "stream",
     "text": [
      "100%|██████████| 360/360 [00:02<00:00, 142.02it/s]\n",
      "100%|██████████| 360/360 [00:02<00:00, 149.76it/s]\n",
      "100%|██████████| 360/360 [00:02<00:00, 128.11it/s]\n"
     ]
    },
    {
     "name": "stdout",
     "output_type": "stream",
     "text": [
      "sample_size = 10085/20000 (+ 121)\n",
      "\n"
     ]
    },
    {
     "name": "stderr",
     "output_type": "stream",
     "text": [
      "100%|██████████| 360/360 [00:02<00:00, 142.22it/s]\n",
      "100%|██████████| 360/360 [00:02<00:00, 148.88it/s]\n",
      "100%|██████████| 360/360 [00:02<00:00, 122.56it/s]\n"
     ]
    },
    {
     "name": "stdout",
     "output_type": "stream",
     "text": [
      "sample_size = 10165/20000 (+ 80)\n",
      "\n"
     ]
    },
    {
     "name": "stderr",
     "output_type": "stream",
     "text": [
      "100%|██████████| 360/360 [00:02<00:00, 125.44it/s]\n",
      "100%|██████████| 360/360 [00:02<00:00, 124.77it/s]\n",
      "100%|██████████| 360/360 [00:03<00:00, 108.55it/s]\n"
     ]
    },
    {
     "name": "stdout",
     "output_type": "stream",
     "text": [
      "sample_size = 10286/20000 (+ 121)\n",
      "\n"
     ]
    },
    {
     "name": "stderr",
     "output_type": "stream",
     "text": [
      "100%|██████████| 360/360 [00:02<00:00, 130.18it/s]\n",
      "100%|██████████| 360/360 [00:02<00:00, 129.08it/s]\n",
      "100%|██████████| 360/360 [00:03<00:00, 110.23it/s]\n"
     ]
    },
    {
     "name": "stdout",
     "output_type": "stream",
     "text": [
      "sample_size = 10531/20000 (+ 245)\n",
      "\n"
     ]
    },
    {
     "name": "stderr",
     "output_type": "stream",
     "text": [
      "100%|██████████| 360/360 [00:02<00:00, 136.09it/s]\n",
      "100%|██████████| 360/360 [00:02<00:00, 124.17it/s]\n",
      "100%|██████████| 360/360 [00:03<00:00, 108.88it/s]\n"
     ]
    },
    {
     "name": "stdout",
     "output_type": "stream",
     "text": [
      "no defect identified\n",
      "sample_size = 10531/20000 (+ 0)\n",
      "\n"
     ]
    },
    {
     "name": "stderr",
     "output_type": "stream",
     "text": [
      "100%|██████████| 360/360 [00:02<00:00, 132.92it/s]\n",
      "100%|██████████| 360/360 [00:02<00:00, 146.66it/s]\n",
      "100%|██████████| 360/360 [00:02<00:00, 124.41it/s]\n"
     ]
    },
    {
     "name": "stdout",
     "output_type": "stream",
     "text": [
      "sample_size = 10854/20000 (+ 323)\n",
      "\n"
     ]
    },
    {
     "name": "stderr",
     "output_type": "stream",
     "text": [
      "100%|██████████| 360/360 [00:02<00:00, 130.79it/s]\n",
      "100%|██████████| 360/360 [00:02<00:00, 141.40it/s]\n",
      "100%|██████████| 360/360 [00:02<00:00, 125.30it/s]\n"
     ]
    },
    {
     "name": "stdout",
     "output_type": "stream",
     "text": [
      "sample_size = 10975/20000 (+ 121)\n",
      "\n"
     ]
    },
    {
     "name": "stderr",
     "output_type": "stream",
     "text": [
      "100%|██████████| 360/360 [00:02<00:00, 132.80it/s]\n",
      "100%|██████████| 360/360 [00:02<00:00, 146.40it/s]\n",
      "100%|██████████| 360/360 [00:02<00:00, 121.23it/s]\n"
     ]
    },
    {
     "name": "stdout",
     "output_type": "stream",
     "text": [
      "no defect identified\n",
      "sample_size = 10975/20000 (+ 0)\n",
      "\n"
     ]
    },
    {
     "name": "stderr",
     "output_type": "stream",
     "text": [
      "100%|██████████| 360/360 [00:02<00:00, 138.40it/s]\n",
      "100%|██████████| 360/360 [00:02<00:00, 142.68it/s]\n",
      "100%|██████████| 360/360 [00:02<00:00, 125.44it/s]\n"
     ]
    },
    {
     "name": "stdout",
     "output_type": "stream",
     "text": [
      "no defect identified\n",
      "sample_size = 10975/20000 (+ 0)\n",
      "\n"
     ]
    },
    {
     "name": "stderr",
     "output_type": "stream",
     "text": [
      "100%|██████████| 360/360 [00:02<00:00, 139.71it/s]\n",
      "100%|██████████| 360/360 [00:02<00:00, 146.86it/s]\n",
      "100%|██████████| 360/360 [00:02<00:00, 122.69it/s]\n"
     ]
    },
    {
     "name": "stdout",
     "output_type": "stream",
     "text": [
      "sample_size = 11251/20000 (+ 276)\n",
      "\n"
     ]
    },
    {
     "name": "stderr",
     "output_type": "stream",
     "text": [
      "100%|██████████| 360/360 [00:02<00:00, 148.48it/s]\n",
      "100%|██████████| 360/360 [00:02<00:00, 145.83it/s]\n",
      "100%|██████████| 360/360 [00:02<00:00, 128.69it/s]\n"
     ]
    },
    {
     "name": "stdout",
     "output_type": "stream",
     "text": [
      "sample_size = 11733/20000 (+ 482)\n",
      "\n"
     ]
    },
    {
     "name": "stderr",
     "output_type": "stream",
     "text": [
      "100%|██████████| 360/360 [00:02<00:00, 146.24it/s]\n",
      "100%|██████████| 360/360 [00:02<00:00, 139.37it/s]\n",
      "100%|██████████| 360/360 [00:02<00:00, 128.05it/s]\n"
     ]
    },
    {
     "name": "stdout",
     "output_type": "stream",
     "text": [
      "sample_size = 11977/20000 (+ 244)\n",
      "\n"
     ]
    },
    {
     "name": "stderr",
     "output_type": "stream",
     "text": [
      "100%|██████████| 360/360 [00:02<00:00, 146.29it/s]\n",
      "100%|██████████| 360/360 [00:02<00:00, 144.20it/s]\n",
      "100%|██████████| 360/360 [00:02<00:00, 128.38it/s]\n"
     ]
    },
    {
     "name": "stdout",
     "output_type": "stream",
     "text": [
      "no defect identified\n",
      "sample_size = 11977/20000 (+ 0)\n",
      "\n"
     ]
    },
    {
     "name": "stderr",
     "output_type": "stream",
     "text": [
      "100%|██████████| 360/360 [00:02<00:00, 147.63it/s]\n",
      "100%|██████████| 360/360 [00:02<00:00, 146.45it/s]\n",
      "100%|██████████| 360/360 [00:02<00:00, 126.75it/s]\n"
     ]
    },
    {
     "name": "stdout",
     "output_type": "stream",
     "text": [
      "no defect identified\n",
      "sample_size = 11977/20000 (+ 0)\n",
      "\n"
     ]
    },
    {
     "name": "stderr",
     "output_type": "stream",
     "text": [
      "100%|██████████| 360/360 [00:02<00:00, 148.89it/s]\n",
      "100%|██████████| 360/360 [00:02<00:00, 145.55it/s]\n",
      "100%|██████████| 360/360 [00:02<00:00, 128.85it/s]\n"
     ]
    },
    {
     "name": "stdout",
     "output_type": "stream",
     "text": [
      "sample_size = 12337/20000 (+ 360)\n",
      "\n"
     ]
    },
    {
     "name": "stderr",
     "output_type": "stream",
     "text": [
      "100%|██████████| 360/360 [00:02<00:00, 147.33it/s]\n",
      "100%|██████████| 360/360 [00:02<00:00, 150.03it/s]\n",
      "100%|██████████| 360/360 [00:02<00:00, 130.01it/s]\n"
     ]
    },
    {
     "name": "stdout",
     "output_type": "stream",
     "text": [
      "sample_size = 12578/20000 (+ 241)\n",
      "\n"
     ]
    },
    {
     "name": "stderr",
     "output_type": "stream",
     "text": [
      "100%|██████████| 360/360 [00:02<00:00, 147.82it/s]\n",
      "100%|██████████| 360/360 [00:02<00:00, 148.67it/s]\n",
      "100%|██████████| 360/360 [00:02<00:00, 130.29it/s]\n"
     ]
    },
    {
     "name": "stdout",
     "output_type": "stream",
     "text": [
      "no defect identified\n",
      "sample_size = 12578/20000 (+ 0)\n",
      "\n"
     ]
    },
    {
     "name": "stderr",
     "output_type": "stream",
     "text": [
      "100%|██████████| 360/360 [00:02<00:00, 145.28it/s]\n",
      "100%|██████████| 360/360 [00:02<00:00, 149.16it/s]\n",
      "100%|██████████| 360/360 [00:02<00:00, 130.94it/s]\n"
     ]
    },
    {
     "name": "stdout",
     "output_type": "stream",
     "text": [
      "sample_size = 12871/20000 (+ 293)\n",
      "\n"
     ]
    },
    {
     "name": "stderr",
     "output_type": "stream",
     "text": [
      "100%|██████████| 360/360 [00:02<00:00, 145.08it/s]\n",
      "100%|██████████| 360/360 [00:02<00:00, 148.80it/s]\n",
      "100%|██████████| 360/360 [00:02<00:00, 131.02it/s]\n"
     ]
    },
    {
     "name": "stdout",
     "output_type": "stream",
     "text": [
      "sample_size = 13025/20000 (+ 154)\n",
      "\n"
     ]
    },
    {
     "name": "stderr",
     "output_type": "stream",
     "text": [
      "100%|██████████| 360/360 [00:02<00:00, 147.44it/s]\n",
      "100%|██████████| 360/360 [00:02<00:00, 148.08it/s]\n",
      "100%|██████████| 360/360 [00:02<00:00, 131.81it/s]\n"
     ]
    },
    {
     "name": "stdout",
     "output_type": "stream",
     "text": [
      "sample_size = 13265/20000 (+ 240)\n",
      "\n"
     ]
    },
    {
     "name": "stderr",
     "output_type": "stream",
     "text": [
      "100%|██████████| 360/360 [00:02<00:00, 150.04it/s]\n",
      "100%|██████████| 360/360 [00:02<00:00, 146.59it/s]\n",
      "100%|██████████| 360/360 [00:02<00:00, 131.90it/s]\n"
     ]
    },
    {
     "name": "stdout",
     "output_type": "stream",
     "text": [
      "no defect identified\n",
      "sample_size = 13265/20000 (+ 0)\n",
      "\n"
     ]
    },
    {
     "name": "stderr",
     "output_type": "stream",
     "text": [
      "100%|██████████| 360/360 [00:02<00:00, 148.22it/s]\n",
      "100%|██████████| 360/360 [00:02<00:00, 150.95it/s]\n",
      "100%|██████████| 360/360 [00:02<00:00, 132.59it/s]\n"
     ]
    },
    {
     "name": "stdout",
     "output_type": "stream",
     "text": [
      "no defect identified\n",
      "sample_size = 13265/20000 (+ 0)\n",
      "\n"
     ]
    },
    {
     "name": "stderr",
     "output_type": "stream",
     "text": [
      "100%|██████████| 360/360 [00:02<00:00, 147.96it/s]\n",
      "100%|██████████| 360/360 [00:02<00:00, 150.84it/s]\n",
      "100%|██████████| 360/360 [00:02<00:00, 131.81it/s]\n"
     ]
    },
    {
     "name": "stdout",
     "output_type": "stream",
     "text": [
      "no defect identified\n",
      "sample_size = 13265/20000 (+ 0)\n",
      "\n"
     ]
    },
    {
     "name": "stderr",
     "output_type": "stream",
     "text": [
      "100%|██████████| 360/360 [00:02<00:00, 149.53it/s]\n",
      "100%|██████████| 360/360 [00:02<00:00, 149.30it/s]\n",
      "100%|██████████| 360/360 [00:02<00:00, 132.48it/s]\n"
     ]
    },
    {
     "name": "stdout",
     "output_type": "stream",
     "text": [
      "sample_size = 13507/20000 (+ 242)\n",
      "\n"
     ]
    },
    {
     "name": "stderr",
     "output_type": "stream",
     "text": [
      "100%|██████████| 360/360 [00:02<00:00, 146.22it/s]\n",
      "100%|██████████| 360/360 [00:02<00:00, 149.01it/s]\n",
      "100%|██████████| 360/360 [00:02<00:00, 133.26it/s]\n"
     ]
    },
    {
     "name": "stdout",
     "output_type": "stream",
     "text": [
      "no defect identified\n",
      "sample_size = 13507/20000 (+ 0)\n",
      "\n"
     ]
    },
    {
     "name": "stderr",
     "output_type": "stream",
     "text": [
      "100%|██████████| 360/360 [00:02<00:00, 146.24it/s]\n",
      "100%|██████████| 360/360 [00:02<00:00, 148.59it/s]\n",
      "100%|██████████| 360/360 [00:02<00:00, 131.38it/s]\n"
     ]
    },
    {
     "name": "stdout",
     "output_type": "stream",
     "text": [
      "sample_size = 13871/20000 (+ 364)\n",
      "\n"
     ]
    },
    {
     "name": "stderr",
     "output_type": "stream",
     "text": [
      "100%|██████████| 360/360 [00:02<00:00, 148.60it/s]\n",
      "100%|██████████| 360/360 [00:02<00:00, 151.05it/s]\n",
      "100%|██████████| 360/360 [00:02<00:00, 131.76it/s]\n"
     ]
    },
    {
     "name": "stdout",
     "output_type": "stream",
     "text": [
      "sample_size = 14112/20000 (+ 241)\n",
      "\n"
     ]
    },
    {
     "name": "stderr",
     "output_type": "stream",
     "text": [
      "100%|██████████| 360/360 [00:02<00:00, 146.70it/s]\n",
      "100%|██████████| 360/360 [00:02<00:00, 144.07it/s]\n",
      "100%|██████████| 360/360 [00:02<00:00, 131.03it/s]\n"
     ]
    },
    {
     "name": "stdout",
     "output_type": "stream",
     "text": [
      "sample_size = 14235/20000 (+ 123)\n",
      "\n"
     ]
    },
    {
     "name": "stderr",
     "output_type": "stream",
     "text": [
      "100%|██████████| 360/360 [00:02<00:00, 150.22it/s]\n",
      "100%|██████████| 360/360 [00:02<00:00, 149.25it/s]\n",
      "100%|██████████| 360/360 [00:02<00:00, 131.79it/s]\n"
     ]
    },
    {
     "name": "stdout",
     "output_type": "stream",
     "text": [
      "sample_size = 14478/20000 (+ 243)\n",
      "\n"
     ]
    },
    {
     "name": "stderr",
     "output_type": "stream",
     "text": [
      "100%|██████████| 360/360 [00:02<00:00, 150.46it/s]\n",
      "100%|██████████| 360/360 [00:02<00:00, 148.39it/s]\n",
      "100%|██████████| 360/360 [00:02<00:00, 131.05it/s]\n"
     ]
    },
    {
     "name": "stdout",
     "output_type": "stream",
     "text": [
      "sample_size = 14720/20000 (+ 242)\n",
      "\n"
     ]
    },
    {
     "name": "stderr",
     "output_type": "stream",
     "text": [
      "100%|██████████| 360/360 [00:02<00:00, 149.11it/s]\n",
      "100%|██████████| 360/360 [00:02<00:00, 146.87it/s]\n",
      "100%|██████████| 360/360 [00:02<00:00, 131.63it/s]\n"
     ]
    },
    {
     "name": "stdout",
     "output_type": "stream",
     "text": [
      "sample_size = 14963/20000 (+ 243)\n",
      "\n"
     ]
    },
    {
     "name": "stderr",
     "output_type": "stream",
     "text": [
      "100%|██████████| 360/360 [00:02<00:00, 150.64it/s]\n",
      "100%|██████████| 360/360 [00:02<00:00, 151.59it/s]\n",
      "100%|██████████| 360/360 [00:02<00:00, 129.84it/s]\n"
     ]
    },
    {
     "name": "stdout",
     "output_type": "stream",
     "text": [
      "sample_size = 15229/20000 (+ 266)\n",
      "\n"
     ]
    },
    {
     "name": "stderr",
     "output_type": "stream",
     "text": [
      "100%|██████████| 360/360 [00:02<00:00, 150.17it/s]\n",
      "100%|██████████| 360/360 [00:02<00:00, 148.18it/s]\n",
      "100%|██████████| 360/360 [00:02<00:00, 129.25it/s]\n"
     ]
    },
    {
     "name": "stdout",
     "output_type": "stream",
     "text": [
      "sample_size = 15471/20000 (+ 242)\n",
      "\n"
     ]
    },
    {
     "name": "stderr",
     "output_type": "stream",
     "text": [
      "100%|██████████| 360/360 [00:02<00:00, 150.68it/s]\n",
      "100%|██████████| 360/360 [00:02<00:00, 148.79it/s]\n",
      "100%|██████████| 360/360 [00:02<00:00, 130.26it/s]\n"
     ]
    },
    {
     "name": "stdout",
     "output_type": "stream",
     "text": [
      "sample_size = 15488/20000 (+ 17)\n",
      "\n"
     ]
    },
    {
     "name": "stderr",
     "output_type": "stream",
     "text": [
      "100%|██████████| 360/360 [00:02<00:00, 148.59it/s]\n",
      "100%|██████████| 360/360 [00:02<00:00, 149.77it/s]\n",
      "100%|██████████| 360/360 [00:02<00:00, 132.23it/s]\n"
     ]
    },
    {
     "name": "stdout",
     "output_type": "stream",
     "text": [
      "no defect identified\n",
      "sample_size = 15488/20000 (+ 0)\n",
      "\n"
     ]
    },
    {
     "name": "stderr",
     "output_type": "stream",
     "text": [
      "100%|██████████| 360/360 [00:02<00:00, 144.70it/s]\n",
      "100%|██████████| 360/360 [00:02<00:00, 147.15it/s]\n",
      "100%|██████████| 360/360 [00:02<00:00, 128.50it/s]\n"
     ]
    },
    {
     "name": "stdout",
     "output_type": "stream",
     "text": [
      "sample_size = 15797/20000 (+ 309)\n",
      "\n"
     ]
    },
    {
     "name": "stderr",
     "output_type": "stream",
     "text": [
      "100%|██████████| 360/360 [00:02<00:00, 146.36it/s]\n",
      "100%|██████████| 360/360 [00:02<00:00, 148.19it/s]\n",
      "100%|██████████| 360/360 [00:02<00:00, 130.53it/s]\n"
     ]
    },
    {
     "name": "stdout",
     "output_type": "stream",
     "text": [
      "sample_size = 16160/20000 (+ 363)\n",
      "\n"
     ]
    },
    {
     "name": "stderr",
     "output_type": "stream",
     "text": [
      "100%|██████████| 360/360 [00:02<00:00, 150.19it/s]\n",
      "100%|██████████| 360/360 [00:02<00:00, 149.70it/s]\n",
      "100%|██████████| 360/360 [00:02<00:00, 128.81it/s]\n"
     ]
    },
    {
     "name": "stdout",
     "output_type": "stream",
     "text": [
      "sample_size = 16166/20000 (+ 6)\n",
      "\n"
     ]
    },
    {
     "name": "stderr",
     "output_type": "stream",
     "text": [
      "100%|██████████| 360/360 [00:02<00:00, 151.41it/s]\n",
      "100%|██████████| 360/360 [00:02<00:00, 147.90it/s]\n",
      "100%|██████████| 360/360 [00:02<00:00, 126.52it/s]\n"
     ]
    },
    {
     "name": "stdout",
     "output_type": "stream",
     "text": [
      "sample_size = 16408/20000 (+ 242)\n",
      "\n"
     ]
    },
    {
     "name": "stderr",
     "output_type": "stream",
     "text": [
      "100%|██████████| 360/360 [00:02<00:00, 151.15it/s]\n",
      "100%|██████████| 360/360 [00:02<00:00, 140.88it/s]\n",
      "100%|██████████| 360/360 [00:02<00:00, 131.81it/s]\n"
     ]
    },
    {
     "name": "stdout",
     "output_type": "stream",
     "text": [
      "sample_size = 16894/20000 (+ 486)\n",
      "\n"
     ]
    },
    {
     "name": "stderr",
     "output_type": "stream",
     "text": [
      "100%|██████████| 360/360 [00:02<00:00, 148.99it/s]\n",
      "100%|██████████| 360/360 [00:02<00:00, 148.63it/s]\n",
      "100%|██████████| 360/360 [00:02<00:00, 131.96it/s]\n"
     ]
    },
    {
     "name": "stdout",
     "output_type": "stream",
     "text": [
      "sample_size = 17017/20000 (+ 123)\n",
      "\n"
     ]
    },
    {
     "name": "stderr",
     "output_type": "stream",
     "text": [
      "100%|██████████| 360/360 [00:02<00:00, 150.86it/s]\n",
      "100%|██████████| 360/360 [00:02<00:00, 148.29it/s]\n",
      "100%|██████████| 360/360 [00:02<00:00, 129.08it/s]\n"
     ]
    },
    {
     "name": "stdout",
     "output_type": "stream",
     "text": [
      "sample_size = 17064/20000 (+ 47)\n",
      "\n"
     ]
    },
    {
     "name": "stderr",
     "output_type": "stream",
     "text": [
      "100%|██████████| 360/360 [00:02<00:00, 151.39it/s]\n",
      "100%|██████████| 360/360 [00:02<00:00, 148.73it/s]\n",
      "100%|██████████| 360/360 [00:02<00:00, 130.87it/s]\n"
     ]
    },
    {
     "name": "stdout",
     "output_type": "stream",
     "text": [
      "sample_size = 17198/20000 (+ 134)\n",
      "\n"
     ]
    },
    {
     "name": "stderr",
     "output_type": "stream",
     "text": [
      "100%|██████████| 360/360 [00:02<00:00, 149.78it/s]\n",
      "100%|██████████| 360/360 [00:02<00:00, 152.05it/s]\n",
      "100%|██████████| 360/360 [00:02<00:00, 131.29it/s]\n"
     ]
    },
    {
     "name": "stdout",
     "output_type": "stream",
     "text": [
      "no defect identified\n",
      "sample_size = 17198/20000 (+ 0)\n",
      "\n"
     ]
    },
    {
     "name": "stderr",
     "output_type": "stream",
     "text": [
      "100%|██████████| 360/360 [00:02<00:00, 152.14it/s]\n",
      "100%|██████████| 360/360 [00:02<00:00, 149.58it/s]\n",
      "100%|██████████| 360/360 [00:02<00:00, 130.80it/s]\n"
     ]
    },
    {
     "name": "stdout",
     "output_type": "stream",
     "text": [
      "no defect identified\n",
      "sample_size = 17198/20000 (+ 0)\n",
      "\n"
     ]
    },
    {
     "name": "stderr",
     "output_type": "stream",
     "text": [
      "100%|██████████| 360/360 [00:02<00:00, 150.62it/s]\n",
      "100%|██████████| 360/360 [00:02<00:00, 149.27it/s]\n",
      "100%|██████████| 360/360 [00:02<00:00, 131.67it/s]\n"
     ]
    },
    {
     "name": "stdout",
     "output_type": "stream",
     "text": [
      "sample_size = 17356/20000 (+ 158)\n",
      "\n"
     ]
    },
    {
     "name": "stderr",
     "output_type": "stream",
     "text": [
      "100%|██████████| 360/360 [00:02<00:00, 149.93it/s]\n",
      "100%|██████████| 360/360 [00:02<00:00, 151.58it/s]\n",
      "100%|██████████| 360/360 [00:02<00:00, 131.61it/s]\n"
     ]
    },
    {
     "name": "stdout",
     "output_type": "stream",
     "text": [
      "sample_size = 17585/20000 (+ 229)\n",
      "\n"
     ]
    },
    {
     "name": "stderr",
     "output_type": "stream",
     "text": [
      "100%|██████████| 360/360 [00:02<00:00, 152.51it/s]\n",
      "100%|██████████| 360/360 [00:02<00:00, 150.08it/s]\n",
      "100%|██████████| 360/360 [00:02<00:00, 130.47it/s]\n"
     ]
    },
    {
     "name": "stdout",
     "output_type": "stream",
     "text": [
      "sample_size = 17712/20000 (+ 127)\n",
      "\n"
     ]
    },
    {
     "name": "stderr",
     "output_type": "stream",
     "text": [
      "100%|██████████| 360/360 [00:02<00:00, 145.71it/s]\n",
      "100%|██████████| 360/360 [00:02<00:00, 148.67it/s]\n",
      "100%|██████████| 360/360 [00:02<00:00, 132.89it/s]\n"
     ]
    },
    {
     "name": "stdout",
     "output_type": "stream",
     "text": [
      "sample_size = 17874/20000 (+ 162)\n",
      "\n"
     ]
    },
    {
     "name": "stderr",
     "output_type": "stream",
     "text": [
      "100%|██████████| 360/360 [00:02<00:00, 149.59it/s]\n",
      "100%|██████████| 360/360 [00:02<00:00, 150.75it/s]\n",
      "100%|██████████| 360/360 [00:02<00:00, 130.50it/s]\n"
     ]
    },
    {
     "name": "stdout",
     "output_type": "stream",
     "text": [
      "no defect identified\n",
      "sample_size = 17874/20000 (+ 0)\n",
      "\n"
     ]
    },
    {
     "name": "stderr",
     "output_type": "stream",
     "text": [
      "100%|██████████| 360/360 [00:02<00:00, 150.28it/s]\n",
      "100%|██████████| 360/360 [00:02<00:00, 147.96it/s]\n",
      "100%|██████████| 360/360 [00:02<00:00, 132.47it/s]\n"
     ]
    },
    {
     "name": "stdout",
     "output_type": "stream",
     "text": [
      "sample_size = 17994/20000 (+ 120)\n",
      "\n"
     ]
    },
    {
     "name": "stderr",
     "output_type": "stream",
     "text": [
      "100%|██████████| 360/360 [00:02<00:00, 153.60it/s]\n",
      "100%|██████████| 360/360 [00:02<00:00, 150.23it/s]\n",
      "100%|██████████| 360/360 [00:02<00:00, 132.45it/s]\n"
     ]
    },
    {
     "name": "stdout",
     "output_type": "stream",
     "text": [
      "sample_size = 18114/20000 (+ 120)\n",
      "\n"
     ]
    },
    {
     "name": "stderr",
     "output_type": "stream",
     "text": [
      "100%|██████████| 360/360 [00:02<00:00, 149.14it/s]\n",
      "100%|██████████| 360/360 [00:02<00:00, 151.00it/s]\n",
      "100%|██████████| 360/360 [00:02<00:00, 128.64it/s]\n"
     ]
    },
    {
     "name": "stdout",
     "output_type": "stream",
     "text": [
      "no defect identified\n",
      "sample_size = 18114/20000 (+ 0)\n",
      "\n"
     ]
    },
    {
     "name": "stderr",
     "output_type": "stream",
     "text": [
      "100%|██████████| 360/360 [00:02<00:00, 151.73it/s]\n",
      "100%|██████████| 360/360 [00:02<00:00, 148.99it/s]\n",
      "100%|██████████| 360/360 [00:02<00:00, 130.39it/s]\n"
     ]
    },
    {
     "name": "stdout",
     "output_type": "stream",
     "text": [
      "no defect identified\n",
      "sample_size = 18114/20000 (+ 0)\n",
      "\n"
     ]
    },
    {
     "name": "stderr",
     "output_type": "stream",
     "text": [
      "100%|██████████| 360/360 [00:02<00:00, 152.54it/s]\n",
      "100%|██████████| 360/360 [00:02<00:00, 151.04it/s]\n",
      "100%|██████████| 360/360 [00:02<00:00, 131.09it/s]\n"
     ]
    },
    {
     "name": "stdout",
     "output_type": "stream",
     "text": [
      "sample_size = 18336/20000 (+ 222)\n",
      "\n"
     ]
    },
    {
     "name": "stderr",
     "output_type": "stream",
     "text": [
      "100%|██████████| 360/360 [00:02<00:00, 149.88it/s]\n",
      "100%|██████████| 360/360 [00:02<00:00, 148.56it/s]\n",
      "100%|██████████| 360/360 [00:02<00:00, 131.50it/s]\n"
     ]
    },
    {
     "name": "stdout",
     "output_type": "stream",
     "text": [
      "sample_size = 18457/20000 (+ 121)\n",
      "\n"
     ]
    },
    {
     "name": "stderr",
     "output_type": "stream",
     "text": [
      "100%|██████████| 360/360 [00:02<00:00, 149.59it/s]\n",
      "100%|██████████| 360/360 [00:02<00:00, 150.34it/s]\n",
      "100%|██████████| 360/360 [00:02<00:00, 130.72it/s]\n"
     ]
    },
    {
     "name": "stdout",
     "output_type": "stream",
     "text": [
      "sample_size = 18578/20000 (+ 121)\n",
      "\n"
     ]
    },
    {
     "name": "stderr",
     "output_type": "stream",
     "text": [
      "100%|██████████| 360/360 [00:02<00:00, 152.16it/s]\n",
      "100%|██████████| 360/360 [00:02<00:00, 148.14it/s]\n",
      "100%|██████████| 360/360 [00:02<00:00, 131.26it/s]\n"
     ]
    },
    {
     "name": "stdout",
     "output_type": "stream",
     "text": [
      "no defect identified\n",
      "sample_size = 18578/20000 (+ 0)\n",
      "\n"
     ]
    },
    {
     "name": "stderr",
     "output_type": "stream",
     "text": [
      "100%|██████████| 360/360 [00:02<00:00, 151.09it/s]\n",
      "100%|██████████| 360/360 [00:02<00:00, 149.88it/s]\n",
      "100%|██████████| 360/360 [00:02<00:00, 131.66it/s]\n"
     ]
    },
    {
     "name": "stdout",
     "output_type": "stream",
     "text": [
      "sample_size = 18595/20000 (+ 17)\n",
      "\n"
     ]
    },
    {
     "name": "stderr",
     "output_type": "stream",
     "text": [
      "100%|██████████| 360/360 [00:02<00:00, 148.70it/s]\n",
      "100%|██████████| 360/360 [00:02<00:00, 151.63it/s]\n",
      "100%|██████████| 360/360 [00:02<00:00, 131.47it/s]\n"
     ]
    },
    {
     "name": "stdout",
     "output_type": "stream",
     "text": [
      "sample_size = 18751/20000 (+ 156)\n",
      "\n"
     ]
    },
    {
     "name": "stderr",
     "output_type": "stream",
     "text": [
      "100%|██████████| 360/360 [00:02<00:00, 151.65it/s]\n",
      "100%|██████████| 360/360 [00:02<00:00, 148.28it/s]\n",
      "100%|██████████| 360/360 [00:02<00:00, 132.18it/s]\n"
     ]
    },
    {
     "name": "stdout",
     "output_type": "stream",
     "text": [
      "sample_size = 18805/20000 (+ 54)\n",
      "\n"
     ]
    },
    {
     "name": "stderr",
     "output_type": "stream",
     "text": [
      "100%|██████████| 360/360 [00:02<00:00, 150.74it/s]\n",
      "100%|██████████| 360/360 [00:02<00:00, 149.99it/s]\n",
      "100%|██████████| 360/360 [00:02<00:00, 131.23it/s]\n"
     ]
    },
    {
     "name": "stdout",
     "output_type": "stream",
     "text": [
      "no defect identified\n",
      "sample_size = 18805/20000 (+ 0)\n",
      "\n"
     ]
    },
    {
     "name": "stderr",
     "output_type": "stream",
     "text": [
      "100%|██████████| 360/360 [00:02<00:00, 151.54it/s]\n",
      "100%|██████████| 360/360 [00:02<00:00, 150.83it/s]\n",
      "100%|██████████| 360/360 [00:02<00:00, 131.17it/s]\n"
     ]
    },
    {
     "name": "stdout",
     "output_type": "stream",
     "text": [
      "no defect identified\n",
      "sample_size = 18805/20000 (+ 0)\n",
      "\n"
     ]
    },
    {
     "name": "stderr",
     "output_type": "stream",
     "text": [
      "100%|██████████| 360/360 [00:02<00:00, 150.10it/s]\n",
      "100%|██████████| 360/360 [00:02<00:00, 150.03it/s]\n",
      "100%|██████████| 360/360 [00:02<00:00, 131.02it/s]\n"
     ]
    },
    {
     "name": "stdout",
     "output_type": "stream",
     "text": [
      "sample_size = 19046/20000 (+ 241)\n",
      "\n"
     ]
    },
    {
     "name": "stderr",
     "output_type": "stream",
     "text": [
      "100%|██████████| 360/360 [00:02<00:00, 150.21it/s]\n",
      "100%|██████████| 360/360 [00:02<00:00, 148.43it/s]\n",
      "100%|██████████| 360/360 [00:02<00:00, 133.10it/s]\n"
     ]
    },
    {
     "name": "stdout",
     "output_type": "stream",
     "text": [
      "no defect identified\n",
      "sample_size = 19046/20000 (+ 0)\n",
      "\n"
     ]
    },
    {
     "name": "stderr",
     "output_type": "stream",
     "text": [
      "100%|██████████| 360/360 [00:02<00:00, 152.46it/s]\n",
      "100%|██████████| 360/360 [00:02<00:00, 149.66it/s]\n",
      "100%|██████████| 360/360 [00:02<00:00, 130.03it/s]\n"
     ]
    },
    {
     "name": "stdout",
     "output_type": "stream",
     "text": [
      "sample_size = 19416/20000 (+ 370)\n",
      "\n"
     ]
    },
    {
     "name": "stderr",
     "output_type": "stream",
     "text": [
      "100%|██████████| 360/360 [00:02<00:00, 149.42it/s]\n",
      "100%|██████████| 360/360 [00:02<00:00, 148.23it/s]\n",
      "100%|██████████| 360/360 [00:02<00:00, 129.73it/s]\n"
     ]
    },
    {
     "name": "stdout",
     "output_type": "stream",
     "text": [
      "sample_size = 19625/20000 (+ 209)\n",
      "\n"
     ]
    },
    {
     "name": "stderr",
     "output_type": "stream",
     "text": [
      "100%|██████████| 360/360 [00:02<00:00, 152.42it/s]\n",
      "100%|██████████| 360/360 [00:02<00:00, 150.30it/s]\n",
      "100%|██████████| 360/360 [00:02<00:00, 130.60it/s]\n"
     ]
    },
    {
     "name": "stdout",
     "output_type": "stream",
     "text": [
      "sample_size = 19745/20000 (+ 120)\n",
      "\n"
     ]
    },
    {
     "name": "stderr",
     "output_type": "stream",
     "text": [
      "100%|██████████| 360/360 [00:02<00:00, 151.05it/s]\n",
      "100%|██████████| 360/360 [00:02<00:00, 146.35it/s]\n",
      "100%|██████████| 360/360 [00:02<00:00, 131.75it/s]\n"
     ]
    },
    {
     "name": "stdout",
     "output_type": "stream",
     "text": [
      "sample_size = 19908/20000 (+ 163)\n",
      "\n"
     ]
    },
    {
     "name": "stderr",
     "output_type": "stream",
     "text": [
      "100%|██████████| 360/360 [00:02<00:00, 149.98it/s]\n",
      "100%|██████████| 360/360 [00:02<00:00, 149.09it/s]\n",
      "100%|██████████| 360/360 [00:02<00:00, 130.60it/s]\n"
     ]
    },
    {
     "name": "stdout",
     "output_type": "stream",
     "text": [
      "sample_size = 20273/20000 (+ 365)\n",
      "\n",
      "\n",
      "parameters = [0.0, 016, 0.00]\n"
     ]
    },
    {
     "name": "stderr",
     "output_type": "stream",
     "text": [
      "100%|██████████| 360/360 [00:02<00:00, 149.87it/s]\n",
      "100%|██████████| 360/360 [00:02<00:00, 148.18it/s]\n",
      "100%|██████████| 360/360 [00:02<00:00, 129.85it/s]\n"
     ]
    },
    {
     "name": "stdout",
     "output_type": "stream",
     "text": [
      "sample_size = 2106/20000 (+ 2106)\n",
      "\n"
     ]
    },
    {
     "name": "stderr",
     "output_type": "stream",
     "text": [
      "100%|██████████| 360/360 [00:02<00:00, 147.74it/s]\n",
      "100%|██████████| 360/360 [00:02<00:00, 150.43it/s]\n",
      "100%|██████████| 360/360 [00:02<00:00, 131.16it/s]\n"
     ]
    },
    {
     "name": "stdout",
     "output_type": "stream",
     "text": [
      "sample_size = 4942/20000 (+ 2836)\n",
      "\n"
     ]
    },
    {
     "name": "stderr",
     "output_type": "stream",
     "text": [
      "100%|██████████| 360/360 [00:02<00:00, 150.90it/s]\n",
      "100%|██████████| 360/360 [00:02<00:00, 148.99it/s]\n",
      "100%|██████████| 360/360 [00:02<00:00, 131.87it/s]\n"
     ]
    },
    {
     "name": "stdout",
     "output_type": "stream",
     "text": [
      "sample_size = 8283/20000 (+ 3341)\n",
      "\n"
     ]
    },
    {
     "name": "stderr",
     "output_type": "stream",
     "text": [
      "100%|██████████| 360/360 [00:02<00:00, 146.25it/s]\n",
      "100%|██████████| 360/360 [00:02<00:00, 148.25it/s]\n",
      "100%|██████████| 360/360 [00:02<00:00, 128.65it/s]\n"
     ]
    },
    {
     "name": "stdout",
     "output_type": "stream",
     "text": [
      "sample_size = 10389/20000 (+ 2106)\n",
      "\n"
     ]
    },
    {
     "name": "stderr",
     "output_type": "stream",
     "text": [
      "100%|██████████| 360/360 [00:02<00:00, 150.96it/s]\n",
      "100%|██████████| 360/360 [00:02<00:00, 145.73it/s]\n",
      "100%|██████████| 360/360 [00:02<00:00, 129.61it/s]\n"
     ]
    },
    {
     "name": "stdout",
     "output_type": "stream",
     "text": [
      "sample_size = 12696/20000 (+ 2307)\n",
      "\n"
     ]
    },
    {
     "name": "stderr",
     "output_type": "stream",
     "text": [
      "100%|██████████| 360/360 [00:02<00:00, 148.34it/s]\n",
      "100%|██████████| 360/360 [00:02<00:00, 145.81it/s]\n",
      "100%|██████████| 360/360 [00:02<00:00, 129.96it/s]\n"
     ]
    },
    {
     "name": "stdout",
     "output_type": "stream",
     "text": [
      "sample_size = 15812/20000 (+ 3116)\n",
      "\n"
     ]
    },
    {
     "name": "stderr",
     "output_type": "stream",
     "text": [
      "100%|██████████| 360/360 [00:02<00:00, 150.32it/s]\n",
      "100%|██████████| 360/360 [00:02<00:00, 147.91it/s]\n",
      "100%|██████████| 360/360 [00:02<00:00, 131.31it/s]\n"
     ]
    },
    {
     "name": "stdout",
     "output_type": "stream",
     "text": [
      "sample_size = 18503/20000 (+ 2691)\n",
      "\n"
     ]
    },
    {
     "name": "stderr",
     "output_type": "stream",
     "text": [
      "100%|██████████| 360/360 [00:02<00:00, 146.68it/s]\n",
      "100%|██████████| 360/360 [00:02<00:00, 142.01it/s]\n",
      "100%|██████████| 360/360 [00:02<00:00, 130.09it/s]\n"
     ]
    },
    {
     "name": "stdout",
     "output_type": "stream",
     "text": [
      "sample_size = 20566/20000 (+ 2063)\n",
      "\n",
      "\n",
      "parameters = [0.0, 001, 0.00]\n"
     ]
    },
    {
     "name": "stderr",
     "output_type": "stream",
     "text": [
      "100%|██████████| 360/360 [00:02<00:00, 150.14it/s]\n",
      "100%|██████████| 360/360 [00:02<00:00, 148.23it/s]\n",
      "100%|██████████| 360/360 [00:02<00:00, 128.07it/s]\n"
     ]
    },
    {
     "name": "stdout",
     "output_type": "stream",
     "text": [
      "sample_size = 23482/20000 (+ 23482)\n",
      "\n",
      "\n",
      "parameters = [0.1, 256, 0.00]\n"
     ]
    },
    {
     "name": "stderr",
     "output_type": "stream",
     "text": [
      "100%|██████████| 360/360 [00:02<00:00, 148.39it/s]\n",
      "100%|██████████| 360/360 [00:02<00:00, 147.88it/s]\n",
      "100%|██████████| 360/360 [00:02<00:00, 131.12it/s]\n"
     ]
    },
    {
     "name": "stdout",
     "output_type": "stream",
     "text": [
      "sample_size = 163/20000 (+ 163)\n",
      "\n"
     ]
    },
    {
     "name": "stderr",
     "output_type": "stream",
     "text": [
      "100%|██████████| 360/360 [00:02<00:00, 145.10it/s]\n",
      "100%|██████████| 360/360 [00:02<00:00, 145.03it/s]\n",
      "100%|██████████| 360/360 [00:02<00:00, 130.59it/s]\n"
     ]
    },
    {
     "name": "stdout",
     "output_type": "stream",
     "text": [
      "sample_size = 518/20000 (+ 355)\n",
      "\n"
     ]
    },
    {
     "name": "stderr",
     "output_type": "stream",
     "text": [
      "100%|██████████| 360/360 [00:02<00:00, 145.93it/s]\n",
      "100%|██████████| 360/360 [00:02<00:00, 144.31it/s]\n",
      "100%|██████████| 360/360 [00:02<00:00, 130.83it/s]\n"
     ]
    },
    {
     "name": "stdout",
     "output_type": "stream",
     "text": [
      "sample_size = 861/20000 (+ 343)\n",
      "\n"
     ]
    },
    {
     "name": "stderr",
     "output_type": "stream",
     "text": [
      "100%|██████████| 360/360 [00:02<00:00, 143.99it/s]\n",
      "100%|██████████| 360/360 [00:02<00:00, 148.99it/s]\n",
      "100%|██████████| 360/360 [00:02<00:00, 127.74it/s]\n"
     ]
    },
    {
     "name": "stdout",
     "output_type": "stream",
     "text": [
      "sample_size = 1143/20000 (+ 282)\n",
      "\n"
     ]
    },
    {
     "name": "stderr",
     "output_type": "stream",
     "text": [
      "100%|██████████| 360/360 [00:02<00:00, 149.23it/s]\n",
      "100%|██████████| 360/360 [00:02<00:00, 147.47it/s]\n",
      "100%|██████████| 360/360 [00:02<00:00, 130.56it/s]\n"
     ]
    },
    {
     "name": "stdout",
     "output_type": "stream",
     "text": [
      "sample_size = 1737/20000 (+ 594)\n",
      "\n"
     ]
    },
    {
     "name": "stderr",
     "output_type": "stream",
     "text": [
      "100%|██████████| 360/360 [00:02<00:00, 146.58it/s]\n",
      "100%|██████████| 360/360 [00:02<00:00, 146.48it/s]\n",
      "100%|██████████| 360/360 [00:02<00:00, 130.10it/s]\n"
     ]
    },
    {
     "name": "stdout",
     "output_type": "stream",
     "text": [
      "sample_size = 2143/20000 (+ 406)\n",
      "\n"
     ]
    },
    {
     "name": "stderr",
     "output_type": "stream",
     "text": [
      "100%|██████████| 360/360 [00:02<00:00, 146.74it/s]\n",
      "100%|██████████| 360/360 [00:02<00:00, 145.29it/s]\n",
      "100%|██████████| 360/360 [00:02<00:00, 130.15it/s]\n"
     ]
    },
    {
     "name": "stdout",
     "output_type": "stream",
     "text": [
      "sample_size = 2756/20000 (+ 613)\n",
      "\n"
     ]
    },
    {
     "name": "stderr",
     "output_type": "stream",
     "text": [
      "100%|██████████| 360/360 [00:02<00:00, 146.55it/s]\n",
      "100%|██████████| 360/360 [00:02<00:00, 142.27it/s]\n",
      "100%|██████████| 360/360 [00:02<00:00, 124.85it/s]\n"
     ]
    },
    {
     "name": "stdout",
     "output_type": "stream",
     "text": [
      "sample_size = 3094/20000 (+ 338)\n",
      "\n"
     ]
    },
    {
     "name": "stderr",
     "output_type": "stream",
     "text": [
      "100%|██████████| 360/360 [00:02<00:00, 148.62it/s]\n",
      "100%|██████████| 360/360 [00:02<00:00, 144.28it/s]\n",
      "100%|██████████| 360/360 [00:02<00:00, 126.33it/s]\n"
     ]
    },
    {
     "name": "stdout",
     "output_type": "stream",
     "text": [
      "sample_size = 3624/20000 (+ 530)\n",
      "\n"
     ]
    },
    {
     "name": "stderr",
     "output_type": "stream",
     "text": [
      "100%|██████████| 360/360 [00:02<00:00, 150.25it/s]\n",
      "100%|██████████| 360/360 [00:02<00:00, 145.71it/s]\n",
      "100%|██████████| 360/360 [00:02<00:00, 127.84it/s]\n"
     ]
    },
    {
     "name": "stdout",
     "output_type": "stream",
     "text": [
      "sample_size = 4155/20000 (+ 531)\n",
      "\n"
     ]
    },
    {
     "name": "stderr",
     "output_type": "stream",
     "text": [
      "100%|██████████| 360/360 [00:02<00:00, 149.92it/s]\n",
      "100%|██████████| 360/360 [00:02<00:00, 147.54it/s]\n",
      "100%|██████████| 360/360 [00:02<00:00, 128.78it/s]\n"
     ]
    },
    {
     "name": "stdout",
     "output_type": "stream",
     "text": [
      "sample_size = 4700/20000 (+ 545)\n",
      "\n"
     ]
    },
    {
     "name": "stderr",
     "output_type": "stream",
     "text": [
      "100%|██████████| 360/360 [00:02<00:00, 150.32it/s]\n",
      "100%|██████████| 360/360 [00:02<00:00, 148.49it/s]\n",
      "100%|██████████| 360/360 [00:02<00:00, 130.46it/s]\n"
     ]
    },
    {
     "name": "stdout",
     "output_type": "stream",
     "text": [
      "sample_size = 5204/20000 (+ 504)\n",
      "\n"
     ]
    },
    {
     "name": "stderr",
     "output_type": "stream",
     "text": [
      "100%|██████████| 360/360 [00:02<00:00, 149.16it/s]\n",
      "100%|██████████| 360/360 [00:02<00:00, 144.68it/s]\n",
      "100%|██████████| 360/360 [00:02<00:00, 126.73it/s]\n"
     ]
    },
    {
     "name": "stdout",
     "output_type": "stream",
     "text": [
      "sample_size = 5705/20000 (+ 501)\n",
      "\n"
     ]
    },
    {
     "name": "stderr",
     "output_type": "stream",
     "text": [
      "100%|██████████| 360/360 [00:02<00:00, 146.88it/s]\n",
      "100%|██████████| 360/360 [00:02<00:00, 142.15it/s]\n",
      "100%|██████████| 360/360 [00:02<00:00, 130.18it/s]\n"
     ]
    },
    {
     "name": "stdout",
     "output_type": "stream",
     "text": [
      "sample_size = 6346/20000 (+ 641)\n",
      "\n"
     ]
    },
    {
     "name": "stderr",
     "output_type": "stream",
     "text": [
      "100%|██████████| 360/360 [00:02<00:00, 145.91it/s]\n",
      "100%|██████████| 360/360 [00:02<00:00, 145.57it/s]\n",
      "100%|██████████| 360/360 [00:02<00:00, 130.17it/s]\n"
     ]
    },
    {
     "name": "stdout",
     "output_type": "stream",
     "text": [
      "sample_size = 6967/20000 (+ 621)\n",
      "\n"
     ]
    },
    {
     "name": "stderr",
     "output_type": "stream",
     "text": [
      "100%|██████████| 360/360 [00:02<00:00, 144.98it/s]\n",
      "100%|██████████| 360/360 [00:02<00:00, 146.06it/s]\n",
      "100%|██████████| 360/360 [00:02<00:00, 129.99it/s]\n"
     ]
    },
    {
     "name": "stdout",
     "output_type": "stream",
     "text": [
      "sample_size = 7396/20000 (+ 429)\n",
      "\n"
     ]
    },
    {
     "name": "stderr",
     "output_type": "stream",
     "text": [
      "100%|██████████| 360/360 [00:02<00:00, 145.37it/s]\n",
      "100%|██████████| 360/360 [00:02<00:00, 147.42it/s]\n",
      "100%|██████████| 360/360 [00:02<00:00, 130.96it/s]\n"
     ]
    },
    {
     "name": "stdout",
     "output_type": "stream",
     "text": [
      "sample_size = 7909/20000 (+ 513)\n",
      "\n"
     ]
    },
    {
     "name": "stderr",
     "output_type": "stream",
     "text": [
      "100%|██████████| 360/360 [00:02<00:00, 150.19it/s]\n",
      "100%|██████████| 360/360 [00:02<00:00, 147.94it/s]\n",
      "100%|██████████| 360/360 [00:02<00:00, 130.66it/s]\n"
     ]
    },
    {
     "name": "stdout",
     "output_type": "stream",
     "text": [
      "sample_size = 8089/20000 (+ 180)\n",
      "\n"
     ]
    },
    {
     "name": "stderr",
     "output_type": "stream",
     "text": [
      "100%|██████████| 360/360 [00:02<00:00, 144.40it/s]\n",
      "100%|██████████| 360/360 [00:02<00:00, 144.83it/s]\n",
      "100%|██████████| 360/360 [00:02<00:00, 128.48it/s]\n"
     ]
    },
    {
     "name": "stdout",
     "output_type": "stream",
     "text": [
      "sample_size = 8707/20000 (+ 618)\n",
      "\n"
     ]
    },
    {
     "name": "stderr",
     "output_type": "stream",
     "text": [
      "100%|██████████| 360/360 [00:02<00:00, 149.50it/s]\n",
      "100%|██████████| 360/360 [00:02<00:00, 149.29it/s]\n",
      "100%|██████████| 360/360 [00:02<00:00, 129.39it/s]\n"
     ]
    },
    {
     "name": "stdout",
     "output_type": "stream",
     "text": [
      "sample_size = 9222/20000 (+ 515)\n",
      "\n"
     ]
    },
    {
     "name": "stderr",
     "output_type": "stream",
     "text": [
      "100%|██████████| 360/360 [00:02<00:00, 147.79it/s]\n",
      "100%|██████████| 360/360 [00:02<00:00, 147.67it/s]\n",
      "100%|██████████| 360/360 [00:02<00:00, 130.25it/s]\n"
     ]
    },
    {
     "name": "stdout",
     "output_type": "stream",
     "text": [
      "sample_size = 9767/20000 (+ 545)\n",
      "\n"
     ]
    },
    {
     "name": "stderr",
     "output_type": "stream",
     "text": [
      "100%|██████████| 360/360 [00:02<00:00, 146.91it/s]\n",
      "100%|██████████| 360/360 [00:02<00:00, 143.36it/s]\n",
      "100%|██████████| 360/360 [00:02<00:00, 130.36it/s]\n"
     ]
    },
    {
     "name": "stdout",
     "output_type": "stream",
     "text": [
      "sample_size = 10039/20000 (+ 272)\n",
      "\n"
     ]
    },
    {
     "name": "stderr",
     "output_type": "stream",
     "text": [
      "100%|██████████| 360/360 [00:02<00:00, 145.59it/s]\n",
      "100%|██████████| 360/360 [00:02<00:00, 149.09it/s]\n",
      "100%|██████████| 360/360 [00:02<00:00, 131.36it/s]\n"
     ]
    },
    {
     "name": "stdout",
     "output_type": "stream",
     "text": [
      "sample_size = 10363/20000 (+ 324)\n",
      "\n"
     ]
    },
    {
     "name": "stderr",
     "output_type": "stream",
     "text": [
      "100%|██████████| 360/360 [00:02<00:00, 149.72it/s]\n",
      "100%|██████████| 360/360 [00:02<00:00, 147.66it/s]\n",
      "100%|██████████| 360/360 [00:02<00:00, 131.39it/s]\n"
     ]
    },
    {
     "name": "stdout",
     "output_type": "stream",
     "text": [
      "sample_size = 10806/20000 (+ 443)\n",
      "\n"
     ]
    },
    {
     "name": "stderr",
     "output_type": "stream",
     "text": [
      "100%|██████████| 360/360 [00:02<00:00, 148.16it/s]\n",
      "100%|██████████| 360/360 [00:02<00:00, 146.49it/s]\n",
      "100%|██████████| 360/360 [00:02<00:00, 130.49it/s]\n"
     ]
    },
    {
     "name": "stdout",
     "output_type": "stream",
     "text": [
      "sample_size = 11284/20000 (+ 478)\n",
      "\n"
     ]
    },
    {
     "name": "stderr",
     "output_type": "stream",
     "text": [
      "100%|██████████| 360/360 [00:02<00:00, 151.13it/s]\n",
      "100%|██████████| 360/360 [00:02<00:00, 150.06it/s]\n",
      "100%|██████████| 360/360 [00:02<00:00, 130.16it/s]\n"
     ]
    },
    {
     "name": "stdout",
     "output_type": "stream",
     "text": [
      "sample_size = 11929/20000 (+ 645)\n",
      "\n"
     ]
    },
    {
     "name": "stderr",
     "output_type": "stream",
     "text": [
      "100%|██████████| 360/360 [00:02<00:00, 149.54it/s]\n",
      "100%|██████████| 360/360 [00:02<00:00, 147.73it/s]\n",
      "100%|██████████| 360/360 [00:02<00:00, 131.22it/s]\n"
     ]
    },
    {
     "name": "stdout",
     "output_type": "stream",
     "text": [
      "sample_size = 12403/20000 (+ 474)\n",
      "\n"
     ]
    },
    {
     "name": "stderr",
     "output_type": "stream",
     "text": [
      "100%|██████████| 360/360 [00:02<00:00, 151.48it/s]\n",
      "100%|██████████| 360/360 [00:02<00:00, 147.71it/s]\n",
      "100%|██████████| 360/360 [00:02<00:00, 130.67it/s]\n"
     ]
    },
    {
     "name": "stdout",
     "output_type": "stream",
     "text": [
      "sample_size = 13022/20000 (+ 619)\n",
      "\n"
     ]
    },
    {
     "name": "stderr",
     "output_type": "stream",
     "text": [
      "100%|██████████| 360/360 [00:02<00:00, 149.67it/s]\n",
      "100%|██████████| 360/360 [00:02<00:00, 147.74it/s]\n",
      "100%|██████████| 360/360 [00:02<00:00, 130.19it/s]\n"
     ]
    },
    {
     "name": "stdout",
     "output_type": "stream",
     "text": [
      "sample_size = 13441/20000 (+ 419)\n",
      "\n"
     ]
    },
    {
     "name": "stderr",
     "output_type": "stream",
     "text": [
      "100%|██████████| 360/360 [00:02<00:00, 151.03it/s]\n",
      "100%|██████████| 360/360 [00:02<00:00, 148.85it/s]\n",
      "100%|██████████| 360/360 [00:02<00:00, 128.57it/s]\n"
     ]
    },
    {
     "name": "stdout",
     "output_type": "stream",
     "text": [
      "sample_size = 13885/20000 (+ 444)\n",
      "\n"
     ]
    },
    {
     "name": "stderr",
     "output_type": "stream",
     "text": [
      "100%|██████████| 360/360 [00:02<00:00, 151.72it/s]\n",
      "100%|██████████| 360/360 [00:02<00:00, 146.83it/s]\n",
      "100%|██████████| 360/360 [00:02<00:00, 130.14it/s]\n"
     ]
    },
    {
     "name": "stdout",
     "output_type": "stream",
     "text": [
      "sample_size = 14437/20000 (+ 552)\n",
      "\n"
     ]
    },
    {
     "name": "stderr",
     "output_type": "stream",
     "text": [
      "100%|██████████| 360/360 [00:02<00:00, 148.28it/s]\n",
      "100%|██████████| 360/360 [00:02<00:00, 149.43it/s]\n",
      "100%|██████████| 360/360 [00:02<00:00, 129.36it/s]\n"
     ]
    },
    {
     "name": "stdout",
     "output_type": "stream",
     "text": [
      "sample_size = 14651/20000 (+ 214)\n",
      "\n"
     ]
    },
    {
     "name": "stderr",
     "output_type": "stream",
     "text": [
      "100%|██████████| 360/360 [00:02<00:00, 149.03it/s]\n",
      "100%|██████████| 360/360 [00:02<00:00, 149.22it/s]\n",
      "100%|██████████| 360/360 [00:02<00:00, 129.25it/s]\n"
     ]
    },
    {
     "name": "stdout",
     "output_type": "stream",
     "text": [
      "sample_size = 15114/20000 (+ 463)\n",
      "\n"
     ]
    },
    {
     "name": "stderr",
     "output_type": "stream",
     "text": [
      "100%|██████████| 360/360 [00:02<00:00, 148.53it/s]\n",
      "100%|██████████| 360/360 [00:02<00:00, 145.14it/s]\n",
      "100%|██████████| 360/360 [00:02<00:00, 130.93it/s]\n"
     ]
    },
    {
     "name": "stdout",
     "output_type": "stream",
     "text": [
      "sample_size = 15698/20000 (+ 584)\n",
      "\n"
     ]
    },
    {
     "name": "stderr",
     "output_type": "stream",
     "text": [
      "100%|██████████| 360/360 [00:02<00:00, 148.41it/s]\n",
      "100%|██████████| 360/360 [00:02<00:00, 148.10it/s]\n",
      "100%|██████████| 360/360 [00:02<00:00, 131.45it/s]\n"
     ]
    },
    {
     "name": "stdout",
     "output_type": "stream",
     "text": [
      "sample_size = 16169/20000 (+ 471)\n",
      "\n"
     ]
    },
    {
     "name": "stderr",
     "output_type": "stream",
     "text": [
      "100%|██████████| 360/360 [00:02<00:00, 150.17it/s]\n",
      "100%|██████████| 360/360 [00:02<00:00, 144.16it/s]\n",
      "100%|██████████| 360/360 [00:02<00:00, 131.00it/s]\n"
     ]
    },
    {
     "name": "stdout",
     "output_type": "stream",
     "text": [
      "sample_size = 16430/20000 (+ 261)\n",
      "\n"
     ]
    },
    {
     "name": "stderr",
     "output_type": "stream",
     "text": [
      "100%|██████████| 360/360 [00:02<00:00, 146.35it/s]\n",
      "100%|██████████| 360/360 [00:02<00:00, 146.43it/s]\n",
      "100%|██████████| 360/360 [00:02<00:00, 131.16it/s]\n"
     ]
    },
    {
     "name": "stdout",
     "output_type": "stream",
     "text": [
      "sample_size = 16811/20000 (+ 381)\n",
      "\n"
     ]
    },
    {
     "name": "stderr",
     "output_type": "stream",
     "text": [
      "100%|██████████| 360/360 [00:02<00:00, 148.11it/s]\n",
      "100%|██████████| 360/360 [00:02<00:00, 147.80it/s]\n",
      "100%|██████████| 360/360 [00:02<00:00, 129.22it/s]\n"
     ]
    },
    {
     "name": "stdout",
     "output_type": "stream",
     "text": [
      "sample_size = 17297/20000 (+ 486)\n",
      "\n"
     ]
    },
    {
     "name": "stderr",
     "output_type": "stream",
     "text": [
      "100%|██████████| 360/360 [00:02<00:00, 149.58it/s]\n",
      "100%|██████████| 360/360 [00:02<00:00, 144.89it/s]\n",
      "100%|██████████| 360/360 [00:02<00:00, 128.38it/s]\n"
     ]
    },
    {
     "name": "stdout",
     "output_type": "stream",
     "text": [
      "sample_size = 17678/20000 (+ 381)\n",
      "\n"
     ]
    },
    {
     "name": "stderr",
     "output_type": "stream",
     "text": [
      "100%|██████████| 360/360 [00:02<00:00, 150.13it/s]\n",
      "100%|██████████| 360/360 [00:02<00:00, 145.24it/s]\n",
      "100%|██████████| 360/360 [00:02<00:00, 129.97it/s]\n"
     ]
    },
    {
     "name": "stdout",
     "output_type": "stream",
     "text": [
      "sample_size = 18164/20000 (+ 486)\n",
      "\n"
     ]
    },
    {
     "name": "stderr",
     "output_type": "stream",
     "text": [
      "100%|██████████| 360/360 [00:02<00:00, 149.19it/s]\n",
      "100%|██████████| 360/360 [00:02<00:00, 147.18it/s]\n",
      "100%|██████████| 360/360 [00:02<00:00, 126.14it/s]\n"
     ]
    },
    {
     "name": "stdout",
     "output_type": "stream",
     "text": [
      "sample_size = 18635/20000 (+ 471)\n",
      "\n"
     ]
    },
    {
     "name": "stderr",
     "output_type": "stream",
     "text": [
      "100%|██████████| 360/360 [00:02<00:00, 146.92it/s]\n",
      "100%|██████████| 360/360 [00:02<00:00, 147.54it/s]\n",
      "100%|██████████| 360/360 [00:02<00:00, 130.92it/s]\n"
     ]
    },
    {
     "name": "stdout",
     "output_type": "stream",
     "text": [
      "sample_size = 18997/20000 (+ 362)\n",
      "\n"
     ]
    },
    {
     "name": "stderr",
     "output_type": "stream",
     "text": [
      "100%|██████████| 360/360 [00:02<00:00, 148.96it/s]\n",
      "100%|██████████| 360/360 [00:02<00:00, 146.37it/s]\n",
      "100%|██████████| 360/360 [00:02<00:00, 129.66it/s]\n"
     ]
    },
    {
     "name": "stdout",
     "output_type": "stream",
     "text": [
      "sample_size = 19590/20000 (+ 593)\n",
      "\n"
     ]
    },
    {
     "name": "stderr",
     "output_type": "stream",
     "text": [
      "100%|██████████| 360/360 [00:02<00:00, 149.47it/s]\n",
      "100%|██████████| 360/360 [00:02<00:00, 147.02it/s]\n",
      "100%|██████████| 360/360 [00:02<00:00, 130.21it/s]\n"
     ]
    },
    {
     "name": "stdout",
     "output_type": "stream",
     "text": [
      "sample_size = 19651/20000 (+ 61)\n",
      "\n"
     ]
    },
    {
     "name": "stderr",
     "output_type": "stream",
     "text": [
      "100%|██████████| 360/360 [00:02<00:00, 149.71it/s]\n",
      "100%|██████████| 360/360 [00:02<00:00, 145.66it/s]\n",
      "100%|██████████| 360/360 [00:02<00:00, 131.15it/s]\n"
     ]
    },
    {
     "name": "stdout",
     "output_type": "stream",
     "text": [
      "sample_size = 20137/20000 (+ 486)\n",
      "\n",
      "\n",
      "parameters = [0.1, 016, 0.00]\n"
     ]
    },
    {
     "name": "stderr",
     "output_type": "stream",
     "text": [
      "100%|██████████| 360/360 [00:02<00:00, 148.04it/s]\n",
      "100%|██████████| 360/360 [00:02<00:00, 146.92it/s]\n",
      "100%|██████████| 360/360 [00:02<00:00, 129.59it/s]\n"
     ]
    },
    {
     "name": "stdout",
     "output_type": "stream",
     "text": [
      "sample_size = 3445/20000 (+ 3445)\n",
      "\n"
     ]
    },
    {
     "name": "stderr",
     "output_type": "stream",
     "text": [
      "100%|██████████| 360/360 [00:02<00:00, 149.79it/s]\n",
      "100%|██████████| 360/360 [00:02<00:00, 142.52it/s]\n",
      "100%|██████████| 360/360 [00:02<00:00, 131.10it/s]\n"
     ]
    },
    {
     "name": "stdout",
     "output_type": "stream",
     "text": [
      "sample_size = 6754/20000 (+ 3309)\n",
      "\n"
     ]
    },
    {
     "name": "stderr",
     "output_type": "stream",
     "text": [
      "100%|██████████| 360/360 [00:02<00:00, 149.98it/s]\n",
      "100%|██████████| 360/360 [00:02<00:00, 149.45it/s]\n",
      "100%|██████████| 360/360 [00:02<00:00, 129.94it/s]\n"
     ]
    },
    {
     "name": "stdout",
     "output_type": "stream",
     "text": [
      "sample_size = 9736/20000 (+ 2982)\n",
      "\n"
     ]
    },
    {
     "name": "stderr",
     "output_type": "stream",
     "text": [
      "100%|██████████| 360/360 [00:02<00:00, 146.10it/s]\n",
      "100%|██████████| 360/360 [00:02<00:00, 142.14it/s]\n",
      "100%|██████████| 360/360 [00:02<00:00, 126.44it/s]\n"
     ]
    },
    {
     "name": "stdout",
     "output_type": "stream",
     "text": [
      "sample_size = 12909/20000 (+ 3173)\n",
      "\n"
     ]
    },
    {
     "name": "stderr",
     "output_type": "stream",
     "text": [
      "100%|██████████| 360/360 [00:02<00:00, 146.34it/s]\n",
      "100%|██████████| 360/360 [00:02<00:00, 144.72it/s]\n",
      "100%|██████████| 360/360 [00:02<00:00, 127.79it/s]\n"
     ]
    },
    {
     "name": "stdout",
     "output_type": "stream",
     "text": [
      "sample_size = 15890/20000 (+ 2981)\n",
      "\n"
     ]
    },
    {
     "name": "stderr",
     "output_type": "stream",
     "text": [
      "100%|██████████| 360/360 [00:02<00:00, 150.19it/s]\n",
      "100%|██████████| 360/360 [00:02<00:00, 147.92it/s]\n",
      "100%|██████████| 360/360 [00:02<00:00, 126.72it/s]\n"
     ]
    },
    {
     "name": "stdout",
     "output_type": "stream",
     "text": [
      "sample_size = 18568/20000 (+ 2678)\n",
      "\n"
     ]
    },
    {
     "name": "stderr",
     "output_type": "stream",
     "text": [
      "100%|██████████| 360/360 [00:02<00:00, 145.58it/s]\n",
      "100%|██████████| 360/360 [00:02<00:00, 147.10it/s]\n",
      "100%|██████████| 360/360 [00:02<00:00, 128.46it/s]\n"
     ]
    },
    {
     "name": "stdout",
     "output_type": "stream",
     "text": [
      "sample_size = 21345/20000 (+ 2777)\n",
      "\n",
      "\n",
      "parameters = [0.1, 001, 0.00]\n"
     ]
    },
    {
     "name": "stderr",
     "output_type": "stream",
     "text": [
      "100%|██████████| 360/360 [00:02<00:00, 150.63it/s]\n",
      "100%|██████████| 360/360 [00:02<00:00, 147.55it/s]\n",
      "100%|██████████| 360/360 [00:02<00:00, 129.17it/s]\n"
     ]
    },
    {
     "name": "stdout",
     "output_type": "stream",
     "text": [
      "sample_size = 24559/20000 (+ 24559)\n",
      "\n",
      "\n",
      "parameters = [0.2, 256, 0.00]\n"
     ]
    },
    {
     "name": "stderr",
     "output_type": "stream",
     "text": [
      "100%|██████████| 360/360 [00:02<00:00, 147.13it/s]\n",
      "100%|██████████| 360/360 [00:02<00:00, 146.94it/s]\n",
      "100%|██████████| 360/360 [00:02<00:00, 127.19it/s]\n"
     ]
    },
    {
     "name": "stdout",
     "output_type": "stream",
     "text": [
      "sample_size = 1176/20000 (+ 1176)\n",
      "\n"
     ]
    },
    {
     "name": "stderr",
     "output_type": "stream",
     "text": [
      "100%|██████████| 360/360 [00:02<00:00, 148.60it/s]\n",
      "100%|██████████| 360/360 [00:02<00:00, 140.67it/s]\n",
      "100%|██████████| 360/360 [00:02<00:00, 125.25it/s]\n"
     ]
    },
    {
     "name": "stdout",
     "output_type": "stream",
     "text": [
      "sample_size = 2197/20000 (+ 1021)\n",
      "\n"
     ]
    },
    {
     "name": "stderr",
     "output_type": "stream",
     "text": [
      "100%|██████████| 360/360 [00:02<00:00, 144.86it/s]\n",
      "100%|██████████| 360/360 [00:02<00:00, 143.66it/s]\n",
      "100%|██████████| 360/360 [00:02<00:00, 127.45it/s]\n"
     ]
    },
    {
     "name": "stdout",
     "output_type": "stream",
     "text": [
      "sample_size = 2930/20000 (+ 733)\n",
      "\n"
     ]
    },
    {
     "name": "stderr",
     "output_type": "stream",
     "text": [
      "100%|██████████| 360/360 [00:02<00:00, 141.80it/s]\n",
      "100%|██████████| 360/360 [00:02<00:00, 140.67it/s]\n",
      "100%|██████████| 360/360 [00:02<00:00, 124.22it/s]\n"
     ]
    },
    {
     "name": "stdout",
     "output_type": "stream",
     "text": [
      "sample_size = 3428/20000 (+ 498)\n",
      "\n"
     ]
    },
    {
     "name": "stderr",
     "output_type": "stream",
     "text": [
      "100%|██████████| 360/360 [00:02<00:00, 144.77it/s]\n",
      "100%|██████████| 360/360 [00:02<00:00, 145.38it/s]\n",
      "100%|██████████| 360/360 [00:02<00:00, 129.81it/s]\n"
     ]
    },
    {
     "name": "stdout",
     "output_type": "stream",
     "text": [
      "sample_size = 4009/20000 (+ 581)\n",
      "\n"
     ]
    },
    {
     "name": "stderr",
     "output_type": "stream",
     "text": [
      "100%|██████████| 360/360 [00:02<00:00, 145.58it/s]\n",
      "100%|██████████| 360/360 [00:02<00:00, 141.74it/s]\n",
      "100%|██████████| 360/360 [00:02<00:00, 125.47it/s]\n"
     ]
    },
    {
     "name": "stdout",
     "output_type": "stream",
     "text": [
      "sample_size = 4914/20000 (+ 905)\n",
      "\n"
     ]
    },
    {
     "name": "stderr",
     "output_type": "stream",
     "text": [
      "100%|██████████| 360/360 [00:02<00:00, 148.58it/s]\n",
      "100%|██████████| 360/360 [00:02<00:00, 143.52it/s]\n",
      "100%|██████████| 360/360 [00:02<00:00, 125.69it/s]\n"
     ]
    },
    {
     "name": "stdout",
     "output_type": "stream",
     "text": [
      "sample_size = 5949/20000 (+ 1035)\n",
      "\n"
     ]
    },
    {
     "name": "stderr",
     "output_type": "stream",
     "text": [
      "100%|██████████| 360/360 [00:02<00:00, 144.81it/s]\n",
      "100%|██████████| 360/360 [00:02<00:00, 144.89it/s]\n",
      "100%|██████████| 360/360 [00:02<00:00, 128.65it/s]\n"
     ]
    },
    {
     "name": "stdout",
     "output_type": "stream",
     "text": [
      "sample_size = 6719/20000 (+ 770)\n",
      "\n"
     ]
    },
    {
     "name": "stderr",
     "output_type": "stream",
     "text": [
      "100%|██████████| 360/360 [00:02<00:00, 146.69it/s]\n",
      "100%|██████████| 360/360 [00:02<00:00, 144.54it/s]\n",
      "100%|██████████| 360/360 [00:02<00:00, 128.06it/s]\n"
     ]
    },
    {
     "name": "stdout",
     "output_type": "stream",
     "text": [
      "sample_size = 7628/20000 (+ 909)\n",
      "\n"
     ]
    },
    {
     "name": "stderr",
     "output_type": "stream",
     "text": [
      "100%|██████████| 360/360 [00:02<00:00, 142.31it/s]\n",
      "100%|██████████| 360/360 [00:02<00:00, 146.14it/s]\n",
      "100%|██████████| 360/360 [00:02<00:00, 129.37it/s]\n"
     ]
    },
    {
     "name": "stdout",
     "output_type": "stream",
     "text": [
      "sample_size = 8253/20000 (+ 625)\n",
      "\n"
     ]
    },
    {
     "name": "stderr",
     "output_type": "stream",
     "text": [
      "100%|██████████| 360/360 [00:02<00:00, 146.19it/s]\n",
      "100%|██████████| 360/360 [00:02<00:00, 140.78it/s]\n",
      "100%|██████████| 360/360 [00:02<00:00, 125.83it/s]\n"
     ]
    },
    {
     "name": "stdout",
     "output_type": "stream",
     "text": [
      "sample_size = 9235/20000 (+ 982)\n",
      "\n"
     ]
    },
    {
     "name": "stderr",
     "output_type": "stream",
     "text": [
      "100%|██████████| 360/360 [00:02<00:00, 146.68it/s]\n",
      "100%|██████████| 360/360 [00:02<00:00, 143.65it/s]\n",
      "100%|██████████| 360/360 [00:02<00:00, 126.14it/s]\n"
     ]
    },
    {
     "name": "stdout",
     "output_type": "stream",
     "text": [
      "sample_size = 9865/20000 (+ 630)\n",
      "\n"
     ]
    },
    {
     "name": "stderr",
     "output_type": "stream",
     "text": [
      "100%|██████████| 360/360 [00:02<00:00, 144.58it/s]\n",
      "100%|██████████| 360/360 [00:02<00:00, 143.72it/s]\n",
      "100%|██████████| 360/360 [00:02<00:00, 130.03it/s]\n"
     ]
    },
    {
     "name": "stdout",
     "output_type": "stream",
     "text": [
      "sample_size = 10525/20000 (+ 660)\n",
      "\n"
     ]
    },
    {
     "name": "stderr",
     "output_type": "stream",
     "text": [
      "100%|██████████| 360/360 [00:02<00:00, 145.67it/s]\n",
      "100%|██████████| 360/360 [00:02<00:00, 145.06it/s]\n",
      "100%|██████████| 360/360 [00:02<00:00, 125.12it/s]\n"
     ]
    },
    {
     "name": "stdout",
     "output_type": "stream",
     "text": [
      "sample_size = 11257/20000 (+ 732)\n",
      "\n"
     ]
    },
    {
     "name": "stderr",
     "output_type": "stream",
     "text": [
      "100%|██████████| 360/360 [00:02<00:00, 145.49it/s]\n",
      "100%|██████████| 360/360 [00:02<00:00, 146.00it/s]\n",
      "100%|██████████| 360/360 [00:02<00:00, 128.44it/s]\n"
     ]
    },
    {
     "name": "stdout",
     "output_type": "stream",
     "text": [
      "sample_size = 12009/20000 (+ 752)\n",
      "\n"
     ]
    },
    {
     "name": "stderr",
     "output_type": "stream",
     "text": [
      "100%|██████████| 360/360 [00:02<00:00, 142.81it/s]\n",
      "100%|██████████| 360/360 [00:02<00:00, 139.07it/s]\n",
      "100%|██████████| 360/360 [00:02<00:00, 127.12it/s]\n"
     ]
    },
    {
     "name": "stdout",
     "output_type": "stream",
     "text": [
      "sample_size = 13137/20000 (+ 1128)\n",
      "\n"
     ]
    },
    {
     "name": "stderr",
     "output_type": "stream",
     "text": [
      "100%|██████████| 360/360 [00:02<00:00, 144.83it/s]\n",
      "100%|██████████| 360/360 [00:02<00:00, 144.59it/s]\n",
      "100%|██████████| 360/360 [00:02<00:00, 127.54it/s]\n"
     ]
    },
    {
     "name": "stdout",
     "output_type": "stream",
     "text": [
      "sample_size = 14043/20000 (+ 906)\n",
      "\n"
     ]
    },
    {
     "name": "stderr",
     "output_type": "stream",
     "text": [
      "100%|██████████| 360/360 [00:02<00:00, 146.38it/s]\n",
      "100%|██████████| 360/360 [00:02<00:00, 145.09it/s]\n",
      "100%|██████████| 360/360 [00:02<00:00, 129.54it/s]\n"
     ]
    },
    {
     "name": "stdout",
     "output_type": "stream",
     "text": [
      "sample_size = 15313/20000 (+ 1270)\n",
      "\n"
     ]
    },
    {
     "name": "stderr",
     "output_type": "stream",
     "text": [
      "100%|██████████| 360/360 [00:02<00:00, 146.98it/s]\n",
      "100%|██████████| 360/360 [00:02<00:00, 145.22it/s]\n",
      "100%|██████████| 360/360 [00:02<00:00, 128.14it/s]\n"
     ]
    },
    {
     "name": "stdout",
     "output_type": "stream",
     "text": [
      "sample_size = 16072/20000 (+ 759)\n",
      "\n"
     ]
    },
    {
     "name": "stderr",
     "output_type": "stream",
     "text": [
      "100%|██████████| 360/360 [00:02<00:00, 147.70it/s]\n",
      "100%|██████████| 360/360 [00:02<00:00, 145.62it/s]\n",
      "100%|██████████| 360/360 [00:02<00:00, 127.54it/s]\n"
     ]
    },
    {
     "name": "stdout",
     "output_type": "stream",
     "text": [
      "sample_size = 16761/20000 (+ 689)\n",
      "\n"
     ]
    },
    {
     "name": "stderr",
     "output_type": "stream",
     "text": [
      "100%|██████████| 360/360 [00:02<00:00, 146.46it/s]\n",
      "100%|██████████| 360/360 [00:02<00:00, 143.93it/s]\n",
      "100%|██████████| 360/360 [00:02<00:00, 129.79it/s]\n"
     ]
    },
    {
     "name": "stdout",
     "output_type": "stream",
     "text": [
      "sample_size = 17465/20000 (+ 704)\n",
      "\n"
     ]
    },
    {
     "name": "stderr",
     "output_type": "stream",
     "text": [
      "100%|██████████| 360/360 [00:02<00:00, 146.76it/s]\n",
      "100%|██████████| 360/360 [00:02<00:00, 144.87it/s]\n",
      "100%|██████████| 360/360 [00:02<00:00, 126.62it/s]\n"
     ]
    },
    {
     "name": "stdout",
     "output_type": "stream",
     "text": [
      "sample_size = 18333/20000 (+ 868)\n",
      "\n"
     ]
    },
    {
     "name": "stderr",
     "output_type": "stream",
     "text": [
      "100%|██████████| 360/360 [00:02<00:00, 144.35it/s]\n",
      "100%|██████████| 360/360 [00:02<00:00, 145.18it/s]\n",
      "100%|██████████| 360/360 [00:02<00:00, 129.58it/s]\n"
     ]
    },
    {
     "name": "stdout",
     "output_type": "stream",
     "text": [
      "sample_size = 19134/20000 (+ 801)\n",
      "\n"
     ]
    },
    {
     "name": "stderr",
     "output_type": "stream",
     "text": [
      "100%|██████████| 360/360 [00:02<00:00, 148.56it/s]\n",
      "100%|██████████| 360/360 [00:02<00:00, 146.68it/s]\n",
      "100%|██████████| 360/360 [00:02<00:00, 130.38it/s]\n"
     ]
    },
    {
     "name": "stdout",
     "output_type": "stream",
     "text": [
      "sample_size = 20233/20000 (+ 1099)\n",
      "\n",
      "\n",
      "parameters = [0.2, 016, 0.00]\n"
     ]
    },
    {
     "name": "stderr",
     "output_type": "stream",
     "text": [
      "100%|██████████| 360/360 [00:02<00:00, 148.04it/s]\n",
      "100%|██████████| 360/360 [00:02<00:00, 144.26it/s]\n",
      "100%|██████████| 360/360 [00:02<00:00, 127.80it/s]\n"
     ]
    },
    {
     "name": "stdout",
     "output_type": "stream",
     "text": [
      "sample_size = 3438/20000 (+ 3438)\n",
      "\n"
     ]
    },
    {
     "name": "stderr",
     "output_type": "stream",
     "text": [
      "100%|██████████| 360/360 [00:02<00:00, 143.36it/s]\n",
      "100%|██████████| 360/360 [00:02<00:00, 144.25it/s]\n",
      "100%|██████████| 360/360 [00:02<00:00, 126.51it/s]\n"
     ]
    },
    {
     "name": "stdout",
     "output_type": "stream",
     "text": [
      "sample_size = 7889/20000 (+ 4451)\n",
      "\n"
     ]
    },
    {
     "name": "stderr",
     "output_type": "stream",
     "text": [
      "100%|██████████| 360/360 [00:02<00:00, 145.17it/s]\n",
      "100%|██████████| 360/360 [00:02<00:00, 145.13it/s]\n",
      "100%|██████████| 360/360 [00:02<00:00, 128.37it/s]\n"
     ]
    },
    {
     "name": "stdout",
     "output_type": "stream",
     "text": [
      "sample_size = 12654/20000 (+ 4765)\n",
      "\n"
     ]
    },
    {
     "name": "stderr",
     "output_type": "stream",
     "text": [
      "100%|██████████| 360/360 [00:02<00:00, 145.45it/s]\n",
      "100%|██████████| 360/360 [00:02<00:00, 140.80it/s]\n",
      "100%|██████████| 360/360 [00:02<00:00, 122.37it/s]\n"
     ]
    },
    {
     "name": "stdout",
     "output_type": "stream",
     "text": [
      "sample_size = 16748/20000 (+ 4094)\n",
      "\n"
     ]
    },
    {
     "name": "stderr",
     "output_type": "stream",
     "text": [
      "100%|██████████| 360/360 [00:02<00:00, 145.14it/s]\n",
      "100%|██████████| 360/360 [00:02<00:00, 144.11it/s]\n",
      "100%|██████████| 360/360 [00:02<00:00, 128.59it/s]\n"
     ]
    },
    {
     "name": "stdout",
     "output_type": "stream",
     "text": [
      "sample_size = 20687/20000 (+ 3939)\n",
      "\n",
      "\n",
      "parameters = [0.2, 001, 0.00]\n"
     ]
    },
    {
     "name": "stderr",
     "output_type": "stream",
     "text": [
      "100%|██████████| 360/360 [00:02<00:00, 138.76it/s]\n",
      "100%|██████████| 360/360 [00:02<00:00, 142.84it/s]\n",
      "100%|██████████| 360/360 [00:02<00:00, 120.15it/s]\n"
     ]
    },
    {
     "name": "stdout",
     "output_type": "stream",
     "text": [
      "sample_size = 22158/20000 (+ 22158)\n",
      "\n"
     ]
    }
   ],
   "source": [
    "## Meshgrid\n",
    "n_grid = 144\n",
    "x = np.linspace(-1,1,n_grid+1)\n",
    "y = np.linspace(-1,1,n_grid+1)\n",
    "z = np.linspace(-1,1,n_grid+1)\n",
    "\n",
    "r_grid = np.meshgrid(x,y,z) \n",
    "\n",
    "sigma_k_list = [0, 0.1, 0.2]\n",
    "kappa_list = [256, 16, 1]\n",
    "\n",
    "parameters_list = []\n",
    "tangent_list_parameters = []\n",
    "for sigma_k in sigma_k_list:\n",
    "    for kappa in kappa_list:\n",
    "        ## Random wave\n",
    "        # sigma_k = 0.025\n",
    "        # kappa = 1\n",
    "        alpha = 0\n",
    "\n",
    "        parameters = [sigma_k,kappa,alpha]\n",
    "        parameters_list.append(parameters)\n",
    "\n",
    "        print('\\nparameters = [{:0.1f}, {:0>3d}, {:0.2f}]'.format(*parameters))\n",
    "\n",
    "        sample_size = 0\n",
    "        tangent_list = []\n",
    "        minsize = 20000\n",
    "        while sample_size < minsize:\n",
    "            # generate random wave phase\n",
    "            rho_phase = generate_rho_phase(r_grid,sigma_k,kappa,alpha)\n",
    "            # identify vortex voxel\n",
    "            vortex_volume = vortex_phase(rho_phase)\n",
    "            if np.sum(vortex_volume) == 0:\n",
    "                print('no defect identified')\n",
    "                print('sample_size = {}/{} (+ 0)\\n'.format(sample_size,minsize))\n",
    "                continue\n",
    "            # generate adjacent list\n",
    "            positions_tuple_list, positions_list, adjacent_list, adjacent_id_list = get_adjacency(vortex_volume)\n",
    "            poslist_arr = np.array(positions_tuple_list)\n",
    "            # generate sample points\n",
    "            sample, sample_adj_list, sample_adj_dict = get_core(positions_tuple_list, adjacent_id_list, \n",
    "                                                    cluster_size=3)\n",
    "            # reorder sample points, trace vortex line\n",
    "            sample_ordered = get_ordered_points(sample, sample_adj_list)\n",
    "\n",
    "            sample_size_current = np.sum([len(x) for x in sample_ordered])\n",
    "            sample_size += sample_size_current\n",
    "\n",
    "            print('sample_size = {}/{} (+ {})\\n'.format(sample_size,minsize, sample_size_current))\n",
    "\n",
    "            # get line tangent\n",
    "            for line in sample_ordered:\n",
    "                if len(line)>=7:\n",
    "                    # smooth the line\n",
    "                    x = np.arange(len(line))\n",
    "                    arr_line = np.array(line)\n",
    "                    spl_list = [splrep(x,arr_line[:,i],w=np.ones(len(line)),s=len(line)) for i in range(3)]\n",
    "                    line_sm = np.array([splev(x,spl) for spl in spl_list]).T\n",
    "\n",
    "                    tangent = get_tangent(line_sm)\n",
    "                    tangent_list.extend(tangent[3:-3])\n",
    "\n",
    "        tangent_list_parameters.append(tangent_list)\n"
   ]
  },
  {
   "cell_type": "code",
   "execution_count": 6,
   "metadata": {},
   "outputs": [
    {
     "name": "stdout",
     "output_type": "stream",
     "text": [
      "./mat/line_0.000_256.mat\n"
     ]
    },
    {
     "name": "stdout",
     "output_type": "stream",
     "text": [
      "./mat/line_0.000_016.mat\n",
      "./mat/line_0.000_001.mat\n",
      "./mat/line_0.100_256.mat\n",
      "./mat/line_0.100_016.mat\n",
      "./mat/line_0.100_001.mat\n",
      "./mat/line_0.200_256.mat\n",
      "./mat/line_0.200_016.mat\n",
      "./mat/line_0.200_001.mat\n"
     ]
    }
   ],
   "source": [
    "# save results to file\n",
    "i = 0\n",
    "for j, sigma_k in enumerate(sigma_k_list):\n",
    "    for k, kappa in enumerate(kappa_list):\n",
    "        tangent = tangent_list_parameters[i]\n",
    "        parameters = parameters_list[i]\n",
    "        i+=1\n",
    "        phi = [np.arccos(np.abs(t[2])) for t in tangent]\n",
    "\n",
    "        filename = './mat/line_{:0.3f}_{:0>3d}.mat'.format(sigma_k,kappa)\n",
    "        print(filename)\n",
    "        mdic = {'tangent':tangent, 'phi':phi, 'parameters':parameters}\n",
    "        savemat(filename,mdic)"
   ]
  },
  {
   "cell_type": "code",
   "execution_count": 6,
   "metadata": {},
   "outputs": [
    {
     "data": {
      "image/png": "[encoded data removed]",
      "text/plain": [
       "<Figure size 600x600 with 1 Axes>"
      ]
     },
     "metadata": {},
     "output_type": "display_data"
    }
   ],
   "source": [
    "sigma_k_list = [0, 0.1, 0.2]\n",
    "kappa_list = [256, 16, 1]\n",
    "\n",
    "fig = plt.figure(figsize=(6,6))\n",
    "ax = fig.add_subplot(1, 1, 1)\n",
    "\n",
    "linestyle = ['-','--',':']\n",
    "linecolor = plt.cm.viridis(1-np.linspace(0, 1, 3))\n",
    "i = 0\n",
    "for j, sigma_k in enumerate(sigma_k_list):\n",
    "    for k, kappa in enumerate(kappa_list):\n",
    "        i+=1\n",
    "        filename = './mat/line_{:0.3f}_{:0>3d}.mat'.format(sigma_k,kappa)\n",
    "        data = loadmat(filename)\n",
    "\n",
    "        phi = data['phi'][0]\n",
    "\n",
    "        n_bins = 25\n",
    "        d_bins = 1/n_bins*np.pi/2\n",
    "        counts, bins = np.histogram(phi, bins=np.arange(n_bins+1)*d_bins)\n",
    "        ax.plot(bins[1:],counts/np.sum(counts)/np.sin(bins[1:])/d_bins, color=linecolor[j], linestyle=linestyle[k])\n",
    "\n",
    "ax.set_yscale('log')\n",
    "ax.set_xlim([0, np.pi/2])\n",
    "ax.set_xticks([0, np.pi/4, np.pi/2])\n",
    "ax.set_xticklabels(['$0$', '$\\pi/4$', '$\\pi/2$'])\n",
    "\n",
    "ax.set_xlabel('$\\Phi$',fontsize=20)\n",
    "ax.set_ylabel('$p(\\Phi)$',fontsize=20)\n",
    "ax.tick_params(direction='in', axis='both', which='both', labelsize=18, pad=10)"
   ]
  },
  {
   "cell_type": "code",
   "execution_count": 7,
   "metadata": {},
   "outputs": [
    {
     "data": {
      "image/png": "[encoded data removed]",
      "text/plain": [
       "<Figure size 1920x1920 with 9 Axes>"
      ]
     },
     "metadata": {},
     "output_type": "display_data"
    }
   ],
   "source": [
    "fig = plt.figure(figsize=(10,10),dpi=192)\n",
    "\n",
    "linestyle = ['-','--',':']\n",
    "linecolor = ['C0', 'C1', 'C2']\n",
    "i = 0\n",
    "\n",
    "\n",
    "for j, sigma_k in enumerate(sigma_k_list):\n",
    "    for k, kappa in enumerate(kappa_list):\n",
    "        ax = fig.add_subplot(3, 3, int(7-i+(i%3)*2))\n",
    "        # print(int(7-i+(i%3)*2))\n",
    "\n",
    "        i+=1\n",
    "        filename = './mat/line_{:0.3f}_{:0>3d}.mat'.format(sigma_k,kappa)\n",
    "        data = loadmat(filename)\n",
    "\n",
    "        phi = data['phi'][0]\n",
    "\n",
    "        n_bins = 25\n",
    "        d_bins = 1/n_bins*np.pi/2\n",
    "        counts, bins = np.histogram(phi, bins=np.arange(n_bins+1)*d_bins)\n",
    "        ax.plot([0, np.pi/2],[1,1],'--',color='#666666')\n",
    "        ax.plot(bins[1:]-d_bins/2,counts/np.sum(counts)/np.sin(bins[1:]-d_bins/2)/d_bins, \n",
    "                '-', lw=2, color=linecolor[j])\n",
    "\n",
    "        ax.set_yscale('log')\n",
    "        ax.set_xlim([0, np.pi/2])\n",
    "        ax.set_ylim([1/200, 200])\n",
    "        ax.set_xticks([0, np.pi/4, np.pi/2])\n",
    "        ax.set_yticks([1e-2, 1, 1e2])\n",
    "        ax.set_xticklabels(['$0$', '$\\pi/4$', '$\\pi/2$'])\n",
    "\n",
    "        if sigma_k==0:\n",
    "            ax.set_xlabel('$\\Phi$',fontsize=20)\n",
    "        if kappa==256:\n",
    "            ax.set_ylabel('$p(\\Phi)$',fontsize=20)\n",
    "        ax.tick_params(direction='in', axis='both', which='both', labelsize=18, pad=10)\n",
    "        ax.set_aspect(np.pi/2/(np.log10(200**2))) # x/y\n",
    "\n",
    "# plt.subplots_adjust(wspace=0, hspace=0)\n",
    "plt.tight_layout()"
   ]
  },
  {
   "cell_type": "code",
   "execution_count": null,
   "metadata": {},
   "outputs": [],
   "source": []
  }
 ],
 "metadata": {
  "kernelspec": {
   "display_name": "tf-gpu",
   "language": "python",
   "name": "python3"
  },
  "language_info": {
   "codemirror_mode": {
    "name": "ipython",
    "version": 3
   },
   "file_extension": ".py",
   "mimetype": "text/x-python",
   "name": "python",
   "nbconvert_exporter": "python",
   "pygments_lexer": "ipython3",
   "version": "3.9.17"
  }
 },
 "nbformat": 4,
 "nbformat_minor": 2
}
