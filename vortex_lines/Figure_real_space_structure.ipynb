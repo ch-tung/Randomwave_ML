{
 "cells": [
  {
   "cell_type": "code",
   "execution_count": 1,
   "metadata": {},
   "outputs": [],
   "source": [
    "import numpy as np\n",
    "import matplotlib.pyplot as plt\n",
    "from mpl_toolkits.mplot3d import Axes3D\n",
    "plt.rcParams[\"font.family\"] = \"Arial\"\n",
    "# from skimage import measure\n",
    "import pyvista as pv\n",
    "pv.set_jupyter_backend('trame')\n",
    "from tqdm import tqdm, trange\n",
    "from scipy import interpolate, ndimage, fft\n",
    "from scipy.io import savemat\n",
    "from time import time"
   ]
  },
  {
   "cell_type": "markdown",
   "metadata": {},
   "source": [
    "## Define function"
   ]
  },
  {
   "cell_type": "markdown",
   "metadata": {},
   "source": [
    "### Generate randomwave"
   ]
  },
  {
   "cell_type": "code",
   "execution_count": 2,
   "metadata": {},
   "outputs": [],
   "source": [
    "def sample_k(k_mean,k_cov):\n",
    "    return np.random.multivariate_normal(k_mean,k_cov)\n",
    "\n",
    "#### Superpositioning the random wave ####\n",
    "def rotation_matrix(axis, phi):\n",
    "    \"\"\"\n",
    "    Return the rotation matrix associated with counterclockwise rotation about\n",
    "    the given axis by theta radians.\n",
    "    \"\"\"\n",
    "    axis = np.asarray(axis)\n",
    "    axis = axis / np.sqrt(np.dot(axis, axis))\n",
    "    a = np.cos(phi / 2.0)\n",
    "    b, c, d = -axis * np.sin(phi / 2.0)\n",
    "    aa, bb, cc, dd = a * a, b * b, c * c, d * d\n",
    "    bc, ad, ac, ab, bd, cd = b * c, a * d, a * c, a * b, b * d, c * d\n",
    "    return np.array([[aa + bb - cc - dd, 2 * (bc + ad), 2 * (bd - ac)],\n",
    "                     [2 * (bc - ad), aa + cc - bb - dd, 2 * (cd + ab)],\n",
    "                     [2 * (bd + ac), 2 * (cd - ab), aa + dd - bb - cc]])\n",
    "\n",
    "def sample_wave_MO_complex(r_grid, k_mean, k_cov, n_wave = 100, kappa=1e8):\n",
    "    rho = np.zeros_like(r_grid[0]).astype('complex64')\n",
    "    r_grid = [r.astype(np.float32) for r in r_grid]\n",
    "    for i in range(n_wave):\n",
    "        k_sample = sample_k(k_mean,k_cov)\n",
    "\n",
    "        # misorientation\n",
    "        \"\"\"\n",
    "        https://en.wikipedia.org/wiki/Von_Mises%E2%80%93Fisher_distribution\n",
    "        https://doi.org/10.1080/03610919408813161\n",
    "        \"\"\"\n",
    "        sigma = 1e-6\n",
    "        xi = np.random.rand()\n",
    "        theta = np.random.rand()*2*np.pi\n",
    "        W = 1+1/kappa*(np.log(xi*(1-(xi-1)/xi*np.exp(-2*kappa))))\n",
    "        phi = np.arccos(W)\n",
    "        axis = [np.cos(theta),np.sin(theta),0]\n",
    "        R = rotation_matrix(axis,phi)\n",
    "        k_sample_rot = R@k_sample\n",
    "\n",
    "        k_dot_r = np.sum([r_grid[x]*k_sample_rot[x] for x in range(3)],axis=0)\n",
    "        phi_r = np.random.rand()*2*np.pi # random phase\n",
    "        rho_i = np.exp(1j*(k_dot_r + phi_r)) # cos(k_n.r + phi_n)\n",
    "        rho += rho_i.astype('complex64')\n",
    "\n",
    "    rho = np.sqrt(2/n_wave)*rho\n",
    "    \n",
    "    return rho\n",
    "\n",
    "def scale_rho(rho, xyz, scale):\n",
    "    rho = ndimage.zoom(rho, scale, order=1)\n",
    "    # r_grid = np.array([ndimage.zoom(r, scale, order=1) for r in r_grid]) \n",
    "    x = xyz[0]\n",
    "    y = xyz[1]\n",
    "    z = xyz[2]\n",
    "    x_zoom = ndimage.zoom(x, scale, order=1)\n",
    "    y_zoom = ndimage.zoom(y, scale, order=1)\n",
    "    z_zoom = ndimage.zoom(z, scale, order=1)\n",
    "    r_grid = np.meshgrid(x_zoom,y_zoom,z_zoom)\n",
    "    return rho, r_grid"
   ]
  },
  {
   "cell_type": "markdown",
   "metadata": {},
   "source": [
    "### Identify vortex lines"
   ]
  },
  {
   "cell_type": "code",
   "execution_count": 3,
   "metadata": {},
   "outputs": [],
   "source": [
    "## identify vortex line (slice of plane)\n",
    "def vortex_slice(phase_slice):\n",
    "    '''\n",
    "    Input\n",
    "    phase_slice: 2D array of phase field (floats, -pi to pi).\n",
    "\n",
    "    Output\n",
    "    vortex_array: 2D array of vortex locations (binary)\n",
    "    ----------------------------------------------------------------\n",
    "     --- --- ---\n",
    "    | 1 | 8 | 7 |\n",
    "    --- --- --- \n",
    "    | 2 | p | 6 |\n",
    "    --- --- ---\n",
    "    | 3 | 4 | 5 |\n",
    "    --- --- ---\n",
    "    A pixel is identified as a vortex if the phase difference along \n",
    "    the encircling path exceeds pi for an odd number of times.\n",
    "    '''\n",
    "    # list_cells = np.array([[-1,1], [-1,0], [-1,-1], [0,-1], [1,-1], [1,0], [1,1], [0,1]])\n",
    "\n",
    "    vortex_array = np.zeros_like(phase_slice)\n",
    "    # evaluate the phase difference\n",
    "    pd_u = phase_slice[:,1:]-phase_slice[:,0:-1]\n",
    "    pd_d = phase_slice[:,0:-1]-phase_slice[:,1:]\n",
    "    pd_l = phase_slice[0:-1,:]-phase_slice[1:,:]\n",
    "    pd_r = phase_slice[1:,:]-phase_slice[0:-1,:]\n",
    "\n",
    "    ## vectorized\n",
    "    ib_i = np.arange(phase_slice.shape[0]-2)\n",
    "    ib_j = np.arange(phase_slice.shape[0]-2)\n",
    "    phase_diff = np.array([pd_d[np.ix_(ib_i+1-1,ib_j+1)],pd_d[np.ix_(ib_i+1-1,ib_j)],\n",
    "                           pd_r[np.ix_(ib_i,ib_j+1-1)],pd_r[np.ix_(ib_i+1,ib_j+1-1)],\n",
    "                           pd_u[np.ix_(ib_i+1+1,ib_j)],pd_u[np.ix_(ib_i+1+1,ib_j+1)], \n",
    "                           pd_l[np.ix_(ib_i+1,ib_j+1+1)],pd_l[np.ix_(ib_i,ib_j+1+1)]])\n",
    "    index_defect = np.sum(np.abs(phase_diff)>np.pi,axis=0)%2>0\n",
    "    index_defect = np.pad(index_defect, ((1,1), (1,1)))\n",
    "    vortex_array[index_defect] = 1\n",
    "    \n",
    "    ## for loop\n",
    "    # for i in range(phase_slice.shape[0]-2):\n",
    "    #     for j in range(phase_slice.shape[0]-2):\n",
    "    #         # center_coord = np.array([i+1,j+1])\n",
    "    #         # cells_coord = center_coord + list_cells\n",
    "    #         # phase_coord = [phase_slice[k] for k in zip(*cells_coord.T)]\n",
    "    #         # phase_diff = np.array([(phase_coord[(i+1)%8]-phase_coord[i%8]) for i in range(8)])\n",
    "    #         phase_diff = np.array([pd_d[i+1-1,j+1],pd_d[i+1-1,j],\n",
    "    #                                pd_r[i,j+1-1],pd_r[i+1,j+1-1],\n",
    "    #                                pd_u[i+1+1,j],pd_u[i+1+1,j+1], \n",
    "    #                                pd_l[i+1,j+1+1],pd_l[i,j+1+1]])\n",
    "\n",
    "    #         if np.sum(np.abs(phase_diff)>np.pi)%2>0:\n",
    "    #             vortex_array[i+1,j+1] = 1\n",
    "\n",
    "    return vortex_array\n",
    "\n",
    "def vortex_phase(rho_phase):\n",
    "    \"\"\"\n",
    "    Scan over the simulation cell and identify defects.\n",
    "\n",
    "    Input:\n",
    "        rho_phase: The 3D density phase array.\n",
    "\n",
    "    Output:\n",
    "        vortex_volume: The 3D array identifying defect position.\n",
    "    \"\"\"\n",
    "\n",
    "    ## scanning over the simulation cell\n",
    "    n_slices = rho_phase.shape[1]\n",
    "    vortex_volume = np.ones_like(rho_phase)\n",
    "    for ax in range(3):\n",
    "        axis_slice = ax\n",
    "        vortex_array_list = []\n",
    "        for i in trange(n_slices):\n",
    "            rho_phase_slices = rho_phase.take(indices = i, axis=axis_slice)\n",
    "            vortex_array = vortex_slice(rho_phase_slices)\n",
    "            vortex_array_list.append(vortex_array)\n",
    "\n",
    "        vortex_volume_ax = np.array(vortex_array_list)\n",
    "        vortex_volume_ax = np.moveaxis(vortex_volume_ax,0,axis_slice)\n",
    "        vortex_volume = vortex_volume*(1-vortex_volume_ax)\n",
    "\n",
    "    vortex_volume = 1-vortex_volume\n",
    "\n",
    "    return vortex_volume\n"
   ]
  },
  {
   "cell_type": "markdown",
   "metadata": {},
   "source": [
    "##  Adjacency list"
   ]
  },
  {
   "cell_type": "code",
   "execution_count": 4,
   "metadata": {},
   "outputs": [],
   "source": [
    "### Return lists of adjacent elements\n",
    "def get_adjacency(array):\n",
    "    \"\"\"\n",
    "    Return lists of adjacent elements\n",
    "\n",
    "    Args: \n",
    "    - array: Binary array where 1 represent the voxels containing the vertex lines\n",
    "    Returns:\n",
    "    - positions_tuple_list: List of positions of the voxels (expressed in tuple)\n",
    "    - positions_list: List of positions of the voxels (expressed in raveled index)\n",
    "    - adjacent_list: List of inices of adjacent voxels (expressed in raveled index)\n",
    "    - adjacent_id_list: List of inices of adjacent voxels, \n",
    "                        which correspond to the index of positions_tuple_list and positions_list\n",
    "    \"\"\"\n",
    "    # first part\n",
    "    positions_tuple_list = []\n",
    "    positions_list = []\n",
    "    adjacent_list = []\n",
    "    adjacent_id_list = []\n",
    "\n",
    "    # Pad the array to simplify boundary checks\n",
    "    padded_array = np.pad(array, pad_width=1, mode='constant', constant_values=0)\n",
    "\n",
    "    # Define the kernel for directly connected neighboring elements\n",
    "    kernel = np.zeros((3, 3, 3), dtype=int)\n",
    "    ones_list = [[0,1,1],[2,1,1],[1,0,1],[1,2,1],[1,1,0],[1,1,2]]\n",
    "    for index in ones_list:\n",
    "        i,j,k = index\n",
    "        kernel[i,j,k] = 1\n",
    "\n",
    "    # # include \"edge\" elements\n",
    "    # kernel = np.ones((3, 3, 3), dtype=int)\n",
    "    # zeros_list = [[0,0,0],[2,0,0],[0,2,0],[0,0,2],[0,2,2],[2,0,2],[2,2,0],[2,2,2],[1,1,1]]\n",
    "    # for index in zeros_list:\n",
    "    #     i,j,k = index\n",
    "    #     kernel[i,j,k] = 0\n",
    "    # kernel[1, 1, 1] = 0  # Exclude the center element\n",
    "\n",
    "    # Find positions labeled as 1\n",
    "    labeled_positions = np.argwhere(array == 1)\n",
    "\n",
    "    for index, pos in enumerate(labeled_positions):\n",
    "        i, j, k = pos\n",
    "        current_pos = tuple(pos)\n",
    "        current_pos_ravel = np.ravel_multi_index(pos,array.shape)\n",
    "        adjacent_positions = []\n",
    "\n",
    "        # Get neighboring positions\n",
    "        neighbors = padded_array[i:i+3, j:j+3, k:k+3] * kernel\n",
    "\n",
    "        # Find adjacent positions labeled as 1\n",
    "        adjacent_indices = np.argwhere(neighbors == 1)\n",
    "        for index in adjacent_indices:\n",
    "            x, y, z = index - 1  # Adjust indices to get relative positions\n",
    "            # adjacent_positions.append((i + x, j + y, k + z))\n",
    "            adjacent_positions.append(np.ravel_multi_index([i + x, j + y, k + z], array.shape))\n",
    "        \n",
    "        positions_tuple_list.append(current_pos)\n",
    "        positions_list.append(current_pos_ravel)\n",
    "        adjacent_list.append(adjacent_positions)\n",
    "\n",
    "    # second part: map adjacent_list to indices of positions_list\n",
    "    # accelerate position mapping by constructing dictionary\n",
    "    ravel_index_map = {ravel_index: idx for idx, ravel_index in enumerate(positions_list)}\n",
    "\n",
    "    for index in range(len(positions_tuple_list)):\n",
    "        adjacent_id = [ravel_index_map[adjacent] for adjacent in adjacent_list[index]]\n",
    "        adjacent_id_list.append(adjacent_id)\n",
    "\n",
    "    return positions_tuple_list, positions_list, adjacent_list, adjacent_id_list\n",
    "\n",
    "### Return connected components according to the adjacency list\n",
    "def get_connected_part(adjacent_id_list):\n",
    "    \"\"\"\n",
    "    Label connected parts (one-based) by performing a depth-first search (DFS) using a stack.\n",
    "    \n",
    "    Args:\n",
    "    - adjacent_id_list (list): List containing adjacent IDs for each particle\n",
    "    \n",
    "    Returns:\n",
    "    - parts_arr (numpy.ndarray): Array containing the labels of connected parts\n",
    "    \"\"\"\n",
    "\n",
    "    # Initialize check set, output list, and counter\n",
    "    checked = set()\n",
    "    parts_arr = np.zeros(len(adjacent_id_list), dtype=int)  # Array to store part labels\n",
    "    max_part = 0  # Counter for labeling connected parts\n",
    "\n",
    "    # Iterate through each index and its adjacent IDs\n",
    "    for index, adjacent_id in enumerate(adjacent_id_list):\n",
    "        if index not in checked:\n",
    "            max_part += 1  # Increment the part label counter\n",
    "            parts_arr[index] = max_part  # Assign the current index the new part label\n",
    "            checked.add(index)  # Mark the current index as checked\n",
    "\n",
    "        stack = [index]  # Create a stack with the current index\n",
    "        while stack:\n",
    "            current = stack.pop()  # Get the top element from the stack\n",
    "            # Iterate through each adjacent ID of the current index\n",
    "            for neighbor in adjacent_id_list[current]:\n",
    "                if neighbor not in checked:\n",
    "                    parts_arr[neighbor] = max_part  # Assign the part label to the neighbor\n",
    "                    checked.add(neighbor)  # Mark the neighbor as checked\n",
    "                    stack.append(neighbor)  # Add the neighbor to the stack for further exploration\n",
    "\n",
    "    return parts_arr\n",
    "\n",
    "### Generate sample points representing the vortex cores\n",
    "def get_core(positions_tuple_list, adjacent_id_list, cluster_size=3):\n",
    "    \"\"\"\n",
    "    Generate sample points representing the vortex cores based on positions and adjacency information.\n",
    "    \n",
    "    Args:\n",
    "    - positions_tuple_list (list): List containing tuples of position coordinates\n",
    "    - adjacent_id_list (list): List containing adjacent IDs for each particle\n",
    "    - cluster_size (int, optional): Size of the cluster to determine sample points. Defaults to 5.\n",
    "\n",
    "    Returns:\n",
    "    - sample (list): List of lists containing sample points for each identified vortex core\n",
    "    - sample_adj_list (list): List of adjacency lists for the sample points\n",
    "    - sample_adj_dict (list): List of adjacency dictionaries for the sample points\n",
    "    \"\"\"\n",
    "    # Convert positions to an array\n",
    "    poslist_arr = np.array(positions_tuple_list)\n",
    "    \n",
    "    # Determine connected parts\n",
    "    parts_arr = get_connected_part(adjacent_id_list)\n",
    "    max_part = np.max(parts_arr)\n",
    "\n",
    "    # Initialize lists to store the sample points and their adjacencies\n",
    "    sample = []\n",
    "    sample_adj_list = []\n",
    "    sample_adj_dict = []\n",
    "\n",
    "    # Loop through each identified part\n",
    "    for i in range(max_part):\n",
    "        current_id = np.where(parts_arr == i + 1)[0]\n",
    "        current_adjacent_id = [adjacent_id_list[i] for i in current_id]\n",
    "\n",
    "        # Extract points within the current part\n",
    "        poslist_arr_current = poslist_arr[current_id]\n",
    "\n",
    "        # Initialize lists to store the current part's sample points and their connections\n",
    "        current_sample = []\n",
    "        current_sample_parent = []\n",
    "\n",
    "        checked = set()\n",
    "        for j, adjacent_id in enumerate(current_adjacent_id):\n",
    "            index = current_id[j]\n",
    "\n",
    "            if index in checked:\n",
    "                continue\n",
    "\n",
    "            stack = [index]\n",
    "            stack_sample_id = [1]  # Index of the current sample\n",
    "\n",
    "            while stack:\n",
    "                current = stack.pop()\n",
    "                prev_sample_id = stack_sample_id.pop()\n",
    "\n",
    "                if current in checked:\n",
    "                    continue\n",
    "\n",
    "                # Generate a list of neighbors within the cluster size around the current vertex\n",
    "                d_sq = np.sum((poslist_arr_current - poslist_arr[current, :]) ** 2, axis=1)\n",
    "                cluster_id = np.where(d_sq < (cluster_size ** 2))[0]\n",
    "\n",
    "                # Generate the sample point by averaging the points within the cluster\n",
    "                cluster = poslist_arr_current[cluster_id]\n",
    "                current_sample.append(np.mean(cluster, axis=0))\n",
    "\n",
    "                # Record the connections between sample points\n",
    "                current_sample_parent.append(prev_sample_id)\n",
    "\n",
    "                # Find adjacent particles not within the current cluster\n",
    "                adjacent_current = []\n",
    "                for neighbor in current_id[cluster_id]:\n",
    "                    checked.add(neighbor)\n",
    "                    adjacent_current.extend(adjacent_id_list[neighbor])\n",
    "                adjacent_current = list(set(adjacent_current) - set(current_id[cluster_id]))\n",
    "\n",
    "                # Continue searching for the neighbors of the current cluster\n",
    "                for neighbor in adjacent_current:\n",
    "                    if neighbor not in checked:\n",
    "                        stack.append(neighbor)\n",
    "                        stack_sample_id.append(len(current_sample) - 1)  # Store the index of the current sample point\n",
    "\n",
    "        # Build adjacency dictionary if more than one sample point exists\n",
    "        if len(current_sample_parent) > 1:\n",
    "            adj_dict = {idx: set([connection]) for idx, connection in enumerate(current_sample_parent)}\n",
    "            for idx, connection in enumerate(current_sample_parent):\n",
    "                adj_dict[connection].add(idx)\n",
    "        else:\n",
    "            adj_dict = {}\n",
    "\n",
    "        # Build adjacency list if more than one sample point exists\n",
    "        adj_list = []\n",
    "        if len(current_sample_parent) > 1:\n",
    "            adj_list = [list(adj_dict[idx]) for idx in range(len(current_sample))]\n",
    "\n",
    "        # Append the sample points and their adjacencies to the respective lists\n",
    "        sample.append(current_sample)\n",
    "        sample_adj_list.append(adj_list)\n",
    "        sample_adj_dict.append(adj_dict)\n",
    "\n",
    "    return sample, sample_adj_list, sample_adj_dict\n",
    "\n",
    "### Generate ordered list of sample points\n",
    "def get_ordered_points(sample, sample_adj_list):\n",
    "    \"\"\"\n",
    "    Generate an ordered list of sample points based on their adjacency information.\n",
    "\n",
    "    Args:\n",
    "    - sample (list): List of lists containing sample points for each identified vortex core\n",
    "    - sample_adj_list (list): List of adjacency lists for the sample points\n",
    "\n",
    "    Returns:\n",
    "    - sample_ordered (list): Ordered list of sample points following the connections in the adjacency lists.\n",
    "                             Each entry in the list represents a continuous branch of connected sample points.\n",
    "    \"\"\"\n",
    "    \n",
    "    sample_ordered = []  # Initialize the list to store ordered sample points\n",
    "    for i, adj_list in enumerate(sample_adj_list):\n",
    "        visited_nodes = set()  # Set to keep track of visited nodes within the sample\n",
    "        sample_reorder = []  # Temporary list to store each branch of sample points\n",
    "\n",
    "        # If the sample has more than one node\n",
    "        if len(sample[i]) > 1:\n",
    "\n",
    "            # Recursive function to traverse the adjacency list from a given node\n",
    "            def traverse_adj_list(node, adj_list, visited, sample_reorder):\n",
    "                visited.add(node)\n",
    "                sample_reorder.append(sample[i][node])  # Append the current sample point to the branch\n",
    "                for neighbor in adj_list[node]:\n",
    "                    if neighbor in intersects:  # Stop traversal if an intersect node is reached\n",
    "                        continue\n",
    "                    if neighbor not in visited:\n",
    "                        traverse_adj_list(neighbor, adj_list, visited, sample_reorder)\n",
    "\n",
    "            # Calculate the connectivity of each node\n",
    "            connectivity = np.array([len(adj) for adj in adj_list])\n",
    "\n",
    "            # Identify nodes with connectivity greater than 2 (possible intersections)\n",
    "            intersects = np.where(connectivity > 2)[0]\n",
    "\n",
    "            # If there are intersect nodes, split the sample into branches\n",
    "            if len(intersects) > 0:\n",
    "                for intersect in intersects:\n",
    "                    visited_nodes.add(intersect)\n",
    "                    # Traverse the adjacency list from the intersect node for each branch\n",
    "                    for neighbor in adj_list[intersect]:\n",
    "                        if (neighbor not in visited_nodes) and (neighbor not in intersects):\n",
    "                            branch = []  # New empty list for each branch\n",
    "                            traverse_adj_list(neighbor, adj_list, visited_nodes, sample_reorder=branch)\n",
    "\n",
    "                            if len(branch) > 1:\n",
    "                                sample_ordered.append(branch)  # Append the branch to the ordered sample list\n",
    "            \n",
    "            # If there are no intersect nodes, find the ends of the branches\n",
    "            else:\n",
    "                ends = np.where(connectivity != 2)[0]\n",
    "                if len(ends) == 0:\n",
    "                    end = 0\n",
    "                else:\n",
    "                    end = ends[0]\n",
    "                traverse_adj_list(end, sample_adj_list[i], visited_nodes, sample_reorder)\n",
    "\n",
    "        # If there's only one node, append it directly\n",
    "        else:\n",
    "            sample_reorder.append(sample[i][0])\n",
    "\n",
    "        sample_ordered.append(sample_reorder)  # Append the final ordered sample branch to the list\n",
    "\n",
    "    return sample_ordered\n",
    "\n",
    "### Line tangent\n",
    "def get_tangent(points_ordered):\n",
    "    if len(points_ordered)<3:\n",
    "        return[]\n",
    "    else:\n",
    "        grad = np.gradient(points_ordered)[0]\n",
    "        norm = np.linalg.norm(grad,axis=1)\n",
    "\n",
    "        tangent = [g/n for g,n in zip(grad,norm)]\n",
    "\n",
    "        return(tangent)"
   ]
  },
  {
   "cell_type": "markdown",
   "metadata": {},
   "source": [
    "## Visualization"
   ]
  },
  {
   "cell_type": "code",
   "execution_count": 10,
   "metadata": {},
   "outputs": [],
   "source": [
    "def visualize_lamellar(rho_real,vortex_volume,\n",
    "                       lamellar=True,isometric=False,\n",
    "                       filename = './test_lamellar.png'):\n",
    "    # pyvista\n",
    "    # https://stackoverflow.com/questions/6030098\n",
    "    grid = pv.StructuredGrid(r_grid[1], r_grid[0], r_grid[2])\n",
    "    grid[\"vol\"] = rho_real.flatten('F')\n",
    "    mesh = grid.contour([alpha])\n",
    "\n",
    "    grid[\"vol\"] = vortex_volume.flatten('F')\n",
    "    mesh2 = grid.contour([0.5])\n",
    "\n",
    "    # Visualization\n",
    "    pv.set_plot_theme('document')\n",
    "    pl = pv.Plotter(window_size=[600, 600])\n",
    "    pl.enable_anti_aliasing('msaa')\n",
    "\n",
    "    if lamellar:\n",
    "        backface_params = dict(color='#303030',\n",
    "                            ambient=0.2, diffuse=0.8, specular=0.1, specular_power=10,\n",
    "                            opacity=1\n",
    "                            )\n",
    "        pl.add_mesh(mesh, show_scalar_bar=False, color='#A0A0A0',  \n",
    "                    ambient=0.2, diffuse=0.8, specular=0.1, specular_power=10,\n",
    "                    backface_params=backface_params, \n",
    "                    smooth_shading=True, \n",
    "                    opacity=1\n",
    "                    )\n",
    "\n",
    "    pl.add_mesh(mesh, opacity=0, show_scalar_bar=False)\n",
    "\n",
    "    # backface_params_defect = dict(color='#FF0000',\n",
    "    #                     ambient=0.2, diffuse=0.8, specular=0.1, specular_power=10,\n",
    "    #                     opacity=0.5\n",
    "    #                     )\n",
    "    # pl.add_mesh(mesh2, show_scalar_bar=False, color='#FF0000',  \n",
    "    #             ambient=0.2, diffuse=0.8, specular=0.1, specular_power=10,\n",
    "    #             backface_params=backface_params_defect, \n",
    "    #             smooth_shading=True, \n",
    "    #             opacity=0.5\n",
    "    #             )\n",
    "\n",
    "    if isometric:\n",
    "        # camera setting\n",
    "        pl.enable_parallel_projection()\n",
    "        pl.camera_position = 'yz'\n",
    "        pl.camera.reset_clipping_range()\n",
    "    else:\n",
    "        # camera setting\n",
    "        pl.camera_position = 'yz'\n",
    "        pl.camera.azimuth = -60.0\n",
    "        pl.camera.elevation = 24.0\n",
    "        pl.camera.reset_clipping_range()\n",
    "\n",
    "    # light setting\n",
    "    light = pv.Light()\n",
    "    light.set_direction_angle(21, -55.0)\n",
    "    light.attenuation_values = (0,0,2)\n",
    "    pl.add_light(light)\n",
    "\n",
    "    pl.add_bounding_box()\n",
    "    pl.show(screenshot=filename)\n",
    "    # pl.close(render=False)\n",
    "\n",
    "def visualize_defect(rho_real,vortex_volume,sample_ordered,\n",
    "                       lamellar=False,isometric=False,lw=1,\n",
    "                       filename = './test_defect.png'):\n",
    "    # pyvista\n",
    "    # https://stackoverflow.com/questions/6030098\n",
    "    grid = pv.StructuredGrid(r_grid[1], r_grid[0], r_grid[2])\n",
    "    grid[\"vol\"] = rho_real.flatten('F')\n",
    "    mesh = grid.contour([0])\n",
    "\n",
    "    # Visualization\n",
    "    pv.set_plot_theme('document')\n",
    "    pl = pv.Plotter(window_size=[600, 600])\n",
    "    pl.enable_anti_aliasing('msaa')\n",
    "\n",
    "    if lamellar:\n",
    "        backface_params = dict(color='#303030',\n",
    "                            ambient=0.2, diffuse=0.8, specular=0.1, specular_power=10,\n",
    "                            opacity=1\n",
    "                            )\n",
    "        pl.add_mesh(mesh, show_scalar_bar=False, color='#A0A0A0',  \n",
    "                    ambient=0.2, diffuse=0.8, specular=0.1, specular_power=10,\n",
    "                    backface_params=backface_params, \n",
    "                    smooth_shading=True, \n",
    "                    opacity=1\n",
    "                    )\n",
    "\n",
    "    pl.add_mesh(mesh, opacity=0, show_scalar_bar=False)\n",
    "\n",
    "    if 1:\n",
    "        gridsize = r_grid[0].shape[0]\n",
    "        def polyline_from_points(points):\n",
    "            poly = pv.PolyData()\n",
    "            poly.points = points\n",
    "            the_cell = np.arange(0, len(points), dtype=np.int_)\n",
    "            the_cell = np.insert(the_cell, 0, len(points))\n",
    "            poly.lines = the_cell\n",
    "            return poly\n",
    "\n",
    "        for i, points in enumerate(sample_ordered):\n",
    "            if len(sample_ordered[i])>=3:\n",
    "                polyline = polyline_from_points(np.array(points)/gridsize*2-1)\n",
    "                tangent_i = np.array(get_tangent(points))\n",
    "                # theta = np.arccos(tangent_i)\n",
    "                polyline[\"scalars\"] = tangent_i[:,2]**2\n",
    "                tube = polyline.tube(radius=0.01*lw)\n",
    "                pl.add_mesh(tube, show_scalar_bar=False, \n",
    "                            clim=[0,1], cmap='viridis')\n",
    "\n",
    "    if isometric:\n",
    "        # camera setting\n",
    "        pl.enable_parallel_projection()\n",
    "        pl.camera_position = 'yz'\n",
    "        pl.camera.reset_clipping_range()\n",
    "    else:\n",
    "        # camera setting\n",
    "        pl.camera_position = 'yz'\n",
    "        pl.camera.azimuth = -60.0\n",
    "        pl.camera.elevation = 24.0\n",
    "        pl.camera.reset_clipping_range()\n",
    "\n",
    "    # light setting\n",
    "    light = pv.Light()\n",
    "    light.set_direction_angle(21, -55.0)\n",
    "    light.attenuation_values = (0,0,2)\n",
    "    pl.add_light(light)\n",
    "\n",
    "    pl.add_bounding_box()\n",
    "    pl.show(screenshot=filename)\n",
    "    # pl.close(render=False)\n",
    "\n"
   ]
  },
  {
   "cell_type": "markdown",
   "metadata": {},
   "source": [
    "## Fig. 1 Real space structure"
   ]
  },
  {
   "cell_type": "code",
   "execution_count": 6,
   "metadata": {},
   "outputs": [
    {
     "name": "stdout",
     "output_type": "stream",
     "text": [
      "parameters = [0.0, 256, 0.00]\n",
      "parameters = [0.0, 016, 0.00]\n",
      "parameters = [0.0, 001, 0.00]\n",
      "parameters = [0.1, 256, 0.00]\n",
      "parameters = [0.1, 016, 0.00]\n",
      "parameters = [0.1, 001, 0.00]\n",
      "parameters = [0.2, 256, 0.00]\n",
      "parameters = [0.2, 016, 0.00]\n",
      "parameters = [0.2, 001, 0.00]\n"
     ]
    }
   ],
   "source": [
    "## Meshgrid\n",
    "n_grid = 160\n",
    "x = np.linspace(-1,1,n_grid+1)\n",
    "y = np.linspace(-1,1,n_grid+1)\n",
    "z = np.linspace(-1,1,n_grid+1)\n",
    "\n",
    "r_grid = np.meshgrid(x,y,z) \n",
    "\n",
    "sigma_k_list = [0, 0.1, 0.2]\n",
    "kappa_list = [256, 16, 1]\n",
    "\n",
    "parameters_list = []\n",
    "rho_list = []\n",
    "for sigma_k in sigma_k_list:\n",
    "    for kappa in kappa_list:\n",
    "        ## Random wave\n",
    "        # sigma_k = 0.025\n",
    "        # kappa = 1\n",
    "        alpha = 0\n",
    "\n",
    "        parameters = [sigma_k,kappa,alpha]\n",
    "        parameters_list.append(parameters)\n",
    "\n",
    "        print('parameters = [{:0.1f}, {:0>3d}, {:0.2f}]'.format(*parameters))\n",
    "\n",
    "        #### Wave vector distribution ####\n",
    "        scale = 4\n",
    "        k_mean_z = np.array([0,0,scale])*2*np.pi # lamellar perpendicular to z axis \n",
    "        # k_mean_x = np.array([0,0,0])*np.pi # lamellar perpendicular to z axis \n",
    "        k_var  = (np.array([0,0,sigma_k*scale])*2*np.pi)**2\n",
    "        k_cov  = np.diagflat(k_var)\n",
    "\n",
    "        rho = sample_wave_MO_complex(r_grid,k_mean_z,k_cov,n_wave = 100, kappa=kappa)\n",
    "\n",
    "        rho_list.append(rho)\n",
    "\n"
   ]
  },
  {
   "cell_type": "code",
   "execution_count": 9,
   "metadata": {},
   "outputs": [
    {
     "name": "stdout",
     "output_type": "stream",
     "text": [
      "parameters = [0.0, 256, 0.00]\n"
     ]
    },
    {
     "name": "stderr",
     "output_type": "stream",
     "text": [
      "100%|██████████| 400/400 [00:03<00:00, 108.70it/s]\n",
      "100%|██████████| 400/400 [00:03<00:00, 108.44it/s]\n",
      "100%|██████████| 400/400 [00:04<00:00, 93.92it/s] \n"
     ]
    },
    {
     "data": {
      "application/vnd.jupyter.widget-view+json": {
       "model_id": "d0bbc1d8e03d45d08e7967b7903ee012",
       "version_major": 2,
       "version_minor": 0
      },
      "text/plain": [
       "Widget(value=\"<iframe src='http://localhost:55485/index.html?ui=P_0x21881b70a60_4&reconnect=auto' style='width…"
      ]
     },
     "metadata": {},
     "output_type": "display_data"
    },
    {
     "data": {
      "application/vnd.jupyter.widget-view+json": {
       "model_id": "43110ddeecec4db19af0c8e0f7aca513",
       "version_major": 2,
       "version_minor": 0
      },
      "text/plain": [
       "Widget(value=\"<iframe src='http://localhost:55485/index.html?ui=P_0x21881227ee0_5&reconnect=auto' style='width…"
      ]
     },
     "metadata": {},
     "output_type": "display_data"
    },
    {
     "name": "stdout",
     "output_type": "stream",
     "text": [
      "parameters = [0.0, 016, 0.00]\n"
     ]
    },
    {
     "name": "stderr",
     "output_type": "stream",
     "text": [
      "100%|██████████| 400/400 [00:03<00:00, 120.09it/s]\n",
      "100%|██████████| 400/400 [00:03<00:00, 119.52it/s]\n",
      "100%|██████████| 400/400 [00:03<00:00, 104.67it/s]\n"
     ]
    },
    {
     "data": {
      "application/vnd.jupyter.widget-view+json": {
       "model_id": "72e899c91de14ca89395cf6e32cae78b",
       "version_major": 2,
       "version_minor": 0
      },
      "text/plain": [
       "Widget(value=\"<iframe src='http://localhost:55485/index.html?ui=P_0x21881fdb880_6&reconnect=auto' style='width…"
      ]
     },
     "metadata": {},
     "output_type": "display_data"
    },
    {
     "data": {
      "application/vnd.jupyter.widget-view+json": {
       "model_id": "73a7019de9114c5ca44d8764c3e8df1a",
       "version_major": 2,
       "version_minor": 0
      },
      "text/plain": [
       "Widget(value=\"<iframe src='http://localhost:55485/index.html?ui=P_0x21881f859a0_7&reconnect=auto' style='width…"
      ]
     },
     "metadata": {},
     "output_type": "display_data"
    },
    {
     "name": "stdout",
     "output_type": "stream",
     "text": [
      "parameters = [0.0, 001, 0.00]\n"
     ]
    },
    {
     "name": "stderr",
     "output_type": "stream",
     "text": [
      "100%|██████████| 400/400 [00:03<00:00, 121.48it/s]\n",
      "100%|██████████| 400/400 [00:03<00:00, 121.75it/s]\n",
      "100%|██████████| 400/400 [00:03<00:00, 106.32it/s]\n"
     ]
    },
    {
     "data": {
      "application/vnd.jupyter.widget-view+json": {
       "model_id": "b87cd6dd60844cbd86bbc8d7ebf234a8",
       "version_major": 2,
       "version_minor": 0
      },
      "text/plain": [
       "Widget(value=\"<iframe src='http://localhost:55485/index.html?ui=P_0x21881f277c0_8&reconnect=auto' style='width…"
      ]
     },
     "metadata": {},
     "output_type": "display_data"
    },
    {
     "data": {
      "application/vnd.jupyter.widget-view+json": {
       "model_id": "e9734fc8875048029e4fd6d342934816",
       "version_major": 2,
       "version_minor": 0
      },
      "text/plain": [
       "Widget(value=\"<iframe src='http://localhost:55485/index.html?ui=P_0x2183fe83c10_9&reconnect=auto' style='width…"
      ]
     },
     "metadata": {},
     "output_type": "display_data"
    },
    {
     "name": "stdout",
     "output_type": "stream",
     "text": [
      "parameters = [0.1, 256, 0.00]\n"
     ]
    },
    {
     "name": "stderr",
     "output_type": "stream",
     "text": [
      "100%|██████████| 400/400 [00:03<00:00, 125.29it/s]\n",
      "100%|██████████| 400/400 [00:03<00:00, 121.34it/s]\n",
      "100%|██████████| 400/400 [00:03<00:00, 104.54it/s]\n"
     ]
    },
    {
     "data": {
      "application/vnd.jupyter.widget-view+json": {
       "model_id": "dd87953aa0244a21beb57a6de0e2ec39",
       "version_major": 2,
       "version_minor": 0
      },
      "text/plain": [
       "Widget(value=\"<iframe src='http://localhost:55485/index.html?ui=P_0x2188218c5e0_10&reconnect=auto' style='widt…"
      ]
     },
     "metadata": {},
     "output_type": "display_data"
    },
    {
     "data": {
      "application/vnd.jupyter.widget-view+json": {
       "model_id": "f54bfcc44e7144f7b602c436ff04a82f",
       "version_major": 2,
       "version_minor": 0
      },
      "text/plain": [
       "Widget(value=\"<iframe src='http://localhost:55485/index.html?ui=P_0x21910325e20_11&reconnect=auto' style='widt…"
      ]
     },
     "metadata": {},
     "output_type": "display_data"
    },
    {
     "name": "stdout",
     "output_type": "stream",
     "text": [
      "parameters = [0.1, 016, 0.00]\n"
     ]
    },
    {
     "name": "stderr",
     "output_type": "stream",
     "text": [
      "100%|██████████| 400/400 [00:03<00:00, 125.62it/s]\n",
      "100%|██████████| 400/400 [00:03<00:00, 125.47it/s]\n",
      "100%|██████████| 400/400 [00:03<00:00, 111.83it/s]\n"
     ]
    },
    {
     "data": {
      "application/vnd.jupyter.widget-view+json": {
       "model_id": "424deb1686a24e30a813d85e60b934ec",
       "version_major": 2,
       "version_minor": 0
      },
      "text/plain": [
       "Widget(value=\"<iframe src='http://localhost:55485/index.html?ui=P_0x218af47f5b0_12&reconnect=auto' style='widt…"
      ]
     },
     "metadata": {},
     "output_type": "display_data"
    },
    {
     "data": {
      "application/vnd.jupyter.widget-view+json": {
       "model_id": "466cc30b16cc46eca3c4d1a069d8ffcc",
       "version_major": 2,
       "version_minor": 0
      },
      "text/plain": [
       "Widget(value=\"<iframe src='http://localhost:55485/index.html?ui=P_0x218821ce340_13&reconnect=auto' style='widt…"
      ]
     },
     "metadata": {},
     "output_type": "display_data"
    },
    {
     "name": "stdout",
     "output_type": "stream",
     "text": [
      "parameters = [0.1, 001, 0.00]\n"
     ]
    },
    {
     "name": "stderr",
     "output_type": "stream",
     "text": [
      "100%|██████████| 400/400 [00:03<00:00, 129.29it/s]\n",
      "100%|██████████| 400/400 [00:03<00:00, 126.57it/s]\n",
      "100%|██████████| 400/400 [00:03<00:00, 110.97it/s]\n"
     ]
    },
    {
     "data": {
      "application/vnd.jupyter.widget-view+json": {
       "model_id": "f727debf2da345caab56d6aaeeeef6d5",
       "version_major": 2,
       "version_minor": 0
      },
      "text/plain": [
       "Widget(value=\"<iframe src='http://localhost:55485/index.html?ui=P_0x218ae13ad60_14&reconnect=auto' style='widt…"
      ]
     },
     "metadata": {},
     "output_type": "display_data"
    },
    {
     "data": {
      "application/vnd.jupyter.widget-view+json": {
       "model_id": "12007689d0e94f518ddb6768ba8db50d",
       "version_major": 2,
       "version_minor": 0
      },
      "text/plain": [
       "Widget(value=\"<iframe src='http://localhost:55485/index.html?ui=P_0x21878083e20_15&reconnect=auto' style='widt…"
      ]
     },
     "metadata": {},
     "output_type": "display_data"
    },
    {
     "name": "stdout",
     "output_type": "stream",
     "text": [
      "parameters = [0.2, 256, 0.00]\n"
     ]
    },
    {
     "name": "stderr",
     "output_type": "stream",
     "text": [
      "100%|██████████| 400/400 [00:03<00:00, 122.62it/s]\n",
      "100%|██████████| 400/400 [00:03<00:00, 120.85it/s]\n",
      "100%|██████████| 400/400 [00:03<00:00, 108.32it/s]\n"
     ]
    },
    {
     "data": {
      "application/vnd.jupyter.widget-view+json": {
       "model_id": "b2ec5d2aae2a4317abff7e153b17d309",
       "version_major": 2,
       "version_minor": 0
      },
      "text/plain": [
       "Widget(value=\"<iframe src='http://localhost:55485/index.html?ui=P_0x21862c705e0_16&reconnect=auto' style='widt…"
      ]
     },
     "metadata": {},
     "output_type": "display_data"
    },
    {
     "data": {
      "application/vnd.jupyter.widget-view+json": {
       "model_id": "a2d79803f545414180b6ca276c5a90e9",
       "version_major": 2,
       "version_minor": 0
      },
      "text/plain": [
       "Widget(value=\"<iframe src='http://localhost:55485/index.html?ui=P_0x2187805c0a0_17&reconnect=auto' style='widt…"
      ]
     },
     "metadata": {},
     "output_type": "display_data"
    },
    {
     "name": "stdout",
     "output_type": "stream",
     "text": [
      "parameters = [0.2, 016, 0.00]\n"
     ]
    },
    {
     "name": "stderr",
     "output_type": "stream",
     "text": [
      "100%|██████████| 400/400 [00:03<00:00, 122.60it/s]\n",
      "100%|██████████| 400/400 [00:03<00:00, 119.54it/s]\n",
      "100%|██████████| 400/400 [00:04<00:00, 97.73it/s] \n"
     ]
    },
    {
     "data": {
      "application/vnd.jupyter.widget-view+json": {
       "model_id": "9f0a03bbfbdc4b36bcb7a2493d4b7fe2",
       "version_major": 2,
       "version_minor": 0
      },
      "text/plain": [
       "Widget(value=\"<iframe src='http://localhost:55485/index.html?ui=P_0x21972c69e80_18&reconnect=auto' style='widt…"
      ]
     },
     "metadata": {},
     "output_type": "display_data"
    },
    {
     "data": {
      "application/vnd.jupyter.widget-view+json": {
       "model_id": "aa73db8f73bc44b790272321df7e5f8f",
       "version_major": 2,
       "version_minor": 0
      },
      "text/plain": [
       "Widget(value=\"<iframe src='http://localhost:55485/index.html?ui=P_0x2194b982580_19&reconnect=auto' style='widt…"
      ]
     },
     "metadata": {},
     "output_type": "display_data"
    },
    {
     "name": "stdout",
     "output_type": "stream",
     "text": [
      "parameters = [0.2, 001, 0.00]\n"
     ]
    },
    {
     "name": "stderr",
     "output_type": "stream",
     "text": [
      "100%|██████████| 400/400 [00:03<00:00, 108.99it/s]\n",
      "100%|██████████| 400/400 [00:03<00:00, 120.67it/s]\n",
      "100%|██████████| 400/400 [00:03<00:00, 101.66it/s]\n"
     ]
    },
    {
     "data": {
      "application/vnd.jupyter.widget-view+json": {
       "model_id": "a36515ad69704964950c2143d8ce5f80",
       "version_major": 2,
       "version_minor": 0
      },
      "text/plain": [
       "Widget(value=\"<iframe src='http://localhost:55485/index.html?ui=P_0x2195ec3afa0_20&reconnect=auto' style='widt…"
      ]
     },
     "metadata": {},
     "output_type": "display_data"
    },
    {
     "data": {
      "application/vnd.jupyter.widget-view+json": {
       "model_id": "a641818100e74f01b0b66831cae48e2f",
       "version_major": 2,
       "version_minor": 0
      },
      "text/plain": [
       "Widget(value=\"<iframe src='http://localhost:55485/index.html?ui=P_0x2194b7da580_21&reconnect=auto' style='widt…"
      ]
     },
     "metadata": {},
     "output_type": "display_data"
    }
   ],
   "source": [
    "i=0\n",
    "for sigma_k in sigma_k_list:\n",
    "    for kappa in kappa_list:\n",
    "        rho = rho_list[i]\n",
    "        parameters = parameters_list[i]\n",
    "\n",
    "        print('parameters = [{:0.1f}, {:0>3d}, {:0.2f}]'.format(*parameters))\n",
    "\n",
    "        ## scale the data\n",
    "        n_grid_scale = 400\n",
    "        scale_zoom = n_grid_scale/rho.shape[0]\n",
    "\n",
    "        rho, r_grid = scale_rho(rho, [x,y,z], scale_zoom)\n",
    "\n",
    "        rho_real = rho.real\n",
    "        rho_imag = rho.imag\n",
    "        rho_phase = np.angle(rho)\n",
    "\n",
    "        ## identify vortex_lines\n",
    "        vortex_volume = vortex_phase(rho_phase)\n",
    "\n",
    "        array = vortex_volume\n",
    "        positions_tuple_list, positions_list, adjacent_list, adjacent_id_list = get_adjacency(array)\n",
    "        poslist_arr = np.array(positions_tuple_list)\n",
    "\n",
    "        parts_arr = get_connected_part(adjacent_id_list)\n",
    "        max_part = np.max(parts_arr)\n",
    "\n",
    "        sample, sample_adj_list, sample_adj_dict = get_core(positions_tuple_list, adjacent_id_list, \n",
    "                                                    cluster_size=3)\n",
    "\n",
    "        sample_ordered = get_ordered_points(sample, sample_adj_list)\n",
    "\n",
    "\n",
    "        ## visualization\n",
    "        visualize_lamellar(rho_real, vortex_volume, \n",
    "        filename = './Figures/real_space/lamellar_{:0.3f}_{:0>3d}_{:0.2f}.png'.format(*parameters))\n",
    "        visualize_defect(rho_real,vortex_volume,sample_ordered,\n",
    "        filename = './Figures/real_space/defect_{:0.3f}_{:0>3d}_{:0.2f}.png'.format(*parameters))\n",
    "\n",
    "        i+=1"
   ]
  },
  {
   "cell_type": "code",
   "execution_count": 12,
   "metadata": {},
   "outputs": [
    {
     "name": "stdout",
     "output_type": "stream",
     "text": [
      "parameters = [0.0, 256, 0.00]\n"
     ]
    },
    {
     "name": "stderr",
     "output_type": "stream",
     "text": [
      "100%|██████████| 400/400 [00:03<00:00, 116.42it/s]\n",
      "100%|██████████| 400/400 [00:03<00:00, 116.86it/s]\n",
      "100%|██████████| 400/400 [00:03<00:00, 108.08it/s]\n"
     ]
    },
    {
     "data": {
      "application/vnd.jupyter.widget-view+json": {
       "model_id": "111c216cdb1b49b58c6e281083914b44",
       "version_major": 2,
       "version_minor": 0
      },
      "text/plain": [
       "Widget(value=\"<iframe src='http://localhost:55485/index.html?ui=P_0x21a9f77bb20_22&reconnect=auto' style='widt…"
      ]
     },
     "metadata": {},
     "output_type": "display_data"
    },
    {
     "name": "stdout",
     "output_type": "stream",
     "text": [
      "parameters = [0.0, 016, 0.00]\n"
     ]
    },
    {
     "name": "stderr",
     "output_type": "stream",
     "text": [
      "100%|██████████| 400/400 [00:03<00:00, 109.23it/s]\n",
      "100%|██████████| 400/400 [00:03<00:00, 117.54it/s]\n",
      "100%|██████████| 400/400 [00:04<00:00, 97.97it/s] \n"
     ]
    },
    {
     "data": {
      "application/vnd.jupyter.widget-view+json": {
       "model_id": "2a1b68f5184d472e9328a6649fd95d3d",
       "version_major": 2,
       "version_minor": 0
      },
      "text/plain": [
       "Widget(value=\"<iframe src='http://localhost:55485/index.html?ui=P_0x21972a87df0_23&reconnect=auto' style='widt…"
      ]
     },
     "metadata": {},
     "output_type": "display_data"
    },
    {
     "name": "stdout",
     "output_type": "stream",
     "text": [
      "parameters = [0.0, 001, 0.00]\n"
     ]
    },
    {
     "name": "stderr",
     "output_type": "stream",
     "text": [
      "100%|██████████| 400/400 [00:03<00:00, 106.95it/s]\n",
      "100%|██████████| 400/400 [00:03<00:00, 115.58it/s]\n",
      "100%|██████████| 400/400 [00:03<00:00, 103.36it/s]\n"
     ]
    },
    {
     "data": {
      "application/vnd.jupyter.widget-view+json": {
       "model_id": "384d09969ebf4ed49ed4ba2f21187c05",
       "version_major": 2,
       "version_minor": 0
      },
      "text/plain": [
       "Widget(value=\"<iframe src='http://localhost:55485/index.html?ui=P_0x21bb25d20a0_24&reconnect=auto' style='widt…"
      ]
     },
     "metadata": {},
     "output_type": "display_data"
    },
    {
     "name": "stdout",
     "output_type": "stream",
     "text": [
      "parameters = [0.1, 256, 0.00]\n"
     ]
    },
    {
     "name": "stderr",
     "output_type": "stream",
     "text": [
      "100%|██████████| 400/400 [00:03<00:00, 122.10it/s]\n",
      "100%|██████████| 400/400 [00:03<00:00, 119.68it/s]\n",
      "100%|██████████| 400/400 [00:03<00:00, 106.15it/s]\n"
     ]
    },
    {
     "data": {
      "application/vnd.jupyter.widget-view+json": {
       "model_id": "d191e7a7244c4812ab6d21ae605bcf0a",
       "version_major": 2,
       "version_minor": 0
      },
      "text/plain": [
       "Widget(value=\"<iframe src='http://localhost:55485/index.html?ui=P_0x218ae142c10_25&reconnect=auto' style='widt…"
      ]
     },
     "metadata": {},
     "output_type": "display_data"
    },
    {
     "name": "stdout",
     "output_type": "stream",
     "text": [
      "parameters = [0.1, 016, 0.00]\n"
     ]
    },
    {
     "name": "stderr",
     "output_type": "stream",
     "text": [
      "100%|██████████| 400/400 [00:03<00:00, 120.48it/s]\n",
      "100%|██████████| 400/400 [00:03<00:00, 118.84it/s]\n",
      "100%|██████████| 400/400 [00:03<00:00, 104.35it/s]\n"
     ]
    },
    {
     "data": {
      "application/vnd.jupyter.widget-view+json": {
       "model_id": "84ede77ef6394122a9c0b836fd5fb9ee",
       "version_major": 2,
       "version_minor": 0
      },
      "text/plain": [
       "Widget(value=\"<iframe src='http://localhost:55485/index.html?ui=P_0x2183fe7d4f0_26&reconnect=auto' style='widt…"
      ]
     },
     "metadata": {},
     "output_type": "display_data"
    },
    {
     "name": "stdout",
     "output_type": "stream",
     "text": [
      "parameters = [0.1, 001, 0.00]\n"
     ]
    },
    {
     "name": "stderr",
     "output_type": "stream",
     "text": [
      "100%|██████████| 400/400 [00:03<00:00, 119.23it/s]\n",
      "100%|██████████| 400/400 [00:03<00:00, 109.86it/s]\n",
      "100%|██████████| 400/400 [00:03<00:00, 105.18it/s]\n"
     ]
    },
    {
     "data": {
      "application/vnd.jupyter.widget-view+json": {
       "model_id": "4a40d2da64514317bab620d047061e51",
       "version_major": 2,
       "version_minor": 0
      },
      "text/plain": [
       "Widget(value=\"<iframe src='http://localhost:55485/index.html?ui=P_0x2195795d190_27&reconnect=auto' style='widt…"
      ]
     },
     "metadata": {},
     "output_type": "display_data"
    },
    {
     "name": "stdout",
     "output_type": "stream",
     "text": [
      "parameters = [0.2, 256, 0.00]\n"
     ]
    },
    {
     "name": "stderr",
     "output_type": "stream",
     "text": [
      "100%|██████████| 400/400 [00:03<00:00, 127.16it/s]\n",
      "100%|██████████| 400/400 [00:03<00:00, 128.65it/s]\n",
      "100%|██████████| 400/400 [00:03<00:00, 112.11it/s]\n"
     ]
    },
    {
     "data": {
      "application/vnd.jupyter.widget-view+json": {
       "model_id": "a863d0ad3f384e9a863eedf63012f796",
       "version_major": 2,
       "version_minor": 0
      },
      "text/plain": [
       "Widget(value=\"<iframe src='http://localhost:55485/index.html?ui=P_0x2194b7f1850_28&reconnect=auto' style='widt…"
      ]
     },
     "metadata": {},
     "output_type": "display_data"
    },
    {
     "name": "stdout",
     "output_type": "stream",
     "text": [
      "parameters = [0.2, 016, 0.00]\n"
     ]
    },
    {
     "name": "stderr",
     "output_type": "stream",
     "text": [
      "100%|██████████| 400/400 [00:03<00:00, 110.87it/s]\n",
      "100%|██████████| 400/400 [00:03<00:00, 117.01it/s]\n",
      "100%|██████████| 400/400 [00:03<00:00, 112.28it/s]\n"
     ]
    },
    {
     "data": {
      "application/vnd.jupyter.widget-view+json": {
       "model_id": "9b097e1932b245739231a7a1e1ae090c",
       "version_major": 2,
       "version_minor": 0
      },
      "text/plain": [
       "Widget(value=\"<iframe src='http://localhost:55485/index.html?ui=P_0x219f8dea3d0_29&reconnect=auto' style='widt…"
      ]
     },
     "metadata": {},
     "output_type": "display_data"
    },
    {
     "name": "stdout",
     "output_type": "stream",
     "text": [
      "parameters = [0.2, 001, 0.00]\n"
     ]
    },
    {
     "name": "stderr",
     "output_type": "stream",
     "text": [
      "100%|██████████| 400/400 [00:03<00:00, 118.45it/s]\n",
      "100%|██████████| 400/400 [00:03<00:00, 113.98it/s]\n",
      "100%|██████████| 400/400 [00:04<00:00, 94.77it/s] \n"
     ]
    },
    {
     "data": {
      "application/vnd.jupyter.widget-view+json": {
       "model_id": "d3d3d0a9ea0943118fa248269aadb062",
       "version_major": 2,
       "version_minor": 0
      },
      "text/plain": [
       "Widget(value=\"<iframe src='http://localhost:55485/index.html?ui=P_0x21aa2dce790_30&reconnect=auto' style='widt…"
      ]
     },
     "metadata": {},
     "output_type": "display_data"
    },
    {
     "name": "stderr",
     "output_type": "stream",
     "text": [
      "ERROR:root:Exception raised\n",
      "ERROR:root:ConnectionResetError('Cannot write to closing transport')\n",
      "ERROR:root:Traceback (most recent call last):\n",
      "  File \"c:\\Users\\wagen\\anaconda3\\envs\\tf-gpu\\lib\\site-packages\\wslink\\protocol.py\", line 329, in onMessage\n",
      "    await self.sendWrappedMessage(\n",
      "  File \"c:\\Users\\wagen\\anaconda3\\envs\\tf-gpu\\lib\\site-packages\\wslink\\protocol.py\", line 464, in sendWrappedMessage\n",
      "    await ws.send_str(json_header)\n",
      "  File \"c:\\Users\\wagen\\anaconda3\\envs\\tf-gpu\\lib\\site-packages\\aiohttp\\web_ws.py\", line 308, in send_str\n",
      "    await self._writer.send(data, binary=False, compress=compress)\n",
      "  File \"c:\\Users\\wagen\\anaconda3\\envs\\tf-gpu\\lib\\site-packages\\aiohttp\\http_websocket.py\", line 690, in send\n",
      "    await self._send_frame(message, WSMsgType.TEXT, compress)\n",
      "  File \"c:\\Users\\wagen\\anaconda3\\envs\\tf-gpu\\lib\\site-packages\\aiohttp\\http_websocket.py\", line 653, in _send_frame\n",
      "    self._write(header + message)\n",
      "  File \"c:\\Users\\wagen\\anaconda3\\envs\\tf-gpu\\lib\\site-packages\\aiohttp\\http_websocket.py\", line 663, in _write\n",
      "    raise ConnectionResetError(\"Cannot write to closing transport\")\n",
      "ConnectionResetError: Cannot write to closing transport\n",
      "\n",
      "ERROR:aiohttp.server:Error handling request\n",
      "Traceback (most recent call last):\n",
      "  File \"c:\\Users\\wagen\\anaconda3\\envs\\tf-gpu\\lib\\site-packages\\wslink\\protocol.py\", line 329, in onMessage\n",
      "    await self.sendWrappedMessage(\n",
      "  File \"c:\\Users\\wagen\\anaconda3\\envs\\tf-gpu\\lib\\site-packages\\wslink\\protocol.py\", line 464, in sendWrappedMessage\n",
      "    await ws.send_str(json_header)\n",
      "  File \"c:\\Users\\wagen\\anaconda3\\envs\\tf-gpu\\lib\\site-packages\\aiohttp\\web_ws.py\", line 308, in send_str\n",
      "    await self._writer.send(data, binary=False, compress=compress)\n",
      "  File \"c:\\Users\\wagen\\anaconda3\\envs\\tf-gpu\\lib\\site-packages\\aiohttp\\http_websocket.py\", line 690, in send\n",
      "    await self._send_frame(message, WSMsgType.TEXT, compress)\n",
      "  File \"c:\\Users\\wagen\\anaconda3\\envs\\tf-gpu\\lib\\site-packages\\aiohttp\\http_websocket.py\", line 653, in _send_frame\n",
      "    self._write(header + message)\n",
      "  File \"c:\\Users\\wagen\\anaconda3\\envs\\tf-gpu\\lib\\site-packages\\aiohttp\\http_websocket.py\", line 663, in _write\n",
      "    raise ConnectionResetError(\"Cannot write to closing transport\")\n",
      "ConnectionResetError: Cannot write to closing transport\n",
      "\n",
      "During handling of the above exception, another exception occurred:\n",
      "\n",
      "Traceback (most recent call last):\n",
      "  File \"c:\\Users\\wagen\\anaconda3\\envs\\tf-gpu\\lib\\site-packages\\wslink\\protocol.py\", line 337, in onMessage\n",
      "    await self.sendWrappedError(\n",
      "  File \"c:\\Users\\wagen\\anaconda3\\envs\\tf-gpu\\lib\\site-packages\\wslink\\protocol.py\", line 497, in sendWrappedError\n",
      "    await ws.send_str(encMsg)\n",
      "  File \"c:\\Users\\wagen\\anaconda3\\envs\\tf-gpu\\lib\\site-packages\\aiohttp\\web_ws.py\", line 308, in send_str\n",
      "    await self._writer.send(data, binary=False, compress=compress)\n",
      "  File \"c:\\Users\\wagen\\anaconda3\\envs\\tf-gpu\\lib\\site-packages\\aiohttp\\http_websocket.py\", line 690, in send\n",
      "    await self._send_frame(message, WSMsgType.TEXT, compress)\n",
      "  File \"c:\\Users\\wagen\\anaconda3\\envs\\tf-gpu\\lib\\site-packages\\aiohttp\\http_websocket.py\", line 653, in _send_frame\n",
      "    self._write(header + message)\n",
      "  File \"c:\\Users\\wagen\\anaconda3\\envs\\tf-gpu\\lib\\site-packages\\aiohttp\\http_websocket.py\", line 663, in _write\n",
      "    raise ConnectionResetError(\"Cannot write to closing transport\")\n",
      "ConnectionResetError: Cannot write to closing transport\n",
      "\n",
      "During handling of the above exception, another exception occurred:\n",
      "\n",
      "Traceback (most recent call last):\n",
      "  File \"c:\\Users\\wagen\\anaconda3\\envs\\tf-gpu\\lib\\site-packages\\aiohttp\\web_protocol.py\", line 433, in _handle_request\n",
      "    resp = await request_handler(request)\n",
      "  File \"c:\\Users\\wagen\\anaconda3\\envs\\tf-gpu\\lib\\site-packages\\aiohttp\\web_app.py\", line 504, in _handle\n",
      "    resp = await handler(request)\n",
      "  File \"c:\\Users\\wagen\\anaconda3\\envs\\tf-gpu\\lib\\site-packages\\wslink\\backends\\aiohttp\\__init__.py\", line 213, in handleWsRequest\n",
      "    await self.onMessage(is_binary(msg), msg, client_id)\n",
      "  File \"c:\\Users\\wagen\\anaconda3\\envs\\tf-gpu\\lib\\site-packages\\wslink\\protocol.py\", line 350, in onMessage\n",
      "    await self.sendWrappedError(\n",
      "  File \"c:\\Users\\wagen\\anaconda3\\envs\\tf-gpu\\lib\\site-packages\\wslink\\protocol.py\", line 497, in sendWrappedError\n",
      "    await ws.send_str(encMsg)\n",
      "  File \"c:\\Users\\wagen\\anaconda3\\envs\\tf-gpu\\lib\\site-packages\\aiohttp\\web_ws.py\", line 308, in send_str\n",
      "    await self._writer.send(data, binary=False, compress=compress)\n",
      "  File \"c:\\Users\\wagen\\anaconda3\\envs\\tf-gpu\\lib\\site-packages\\aiohttp\\http_websocket.py\", line 690, in send\n",
      "    await self._send_frame(message, WSMsgType.TEXT, compress)\n",
      "  File \"c:\\Users\\wagen\\anaconda3\\envs\\tf-gpu\\lib\\site-packages\\aiohttp\\http_websocket.py\", line 653, in _send_frame\n",
      "    self._write(header + message)\n",
      "  File \"c:\\Users\\wagen\\anaconda3\\envs\\tf-gpu\\lib\\site-packages\\aiohttp\\http_websocket.py\", line 663, in _write\n",
      "    raise ConnectionResetError(\"Cannot write to closing transport\")\n",
      "ConnectionResetError: Cannot write to closing transport\n",
      "ERROR:root:Exception raised\n",
      "ERROR:root:ConnectionResetError('Cannot write to closing transport')\n",
      "ERROR:root:Traceback (most recent call last):\n",
      "  File \"c:\\Users\\wagen\\anaconda3\\envs\\tf-gpu\\lib\\site-packages\\wslink\\protocol.py\", line 329, in onMessage\n",
      "    await self.sendWrappedMessage(\n",
      "  File \"c:\\Users\\wagen\\anaconda3\\envs\\tf-gpu\\lib\\site-packages\\wslink\\protocol.py\", line 464, in sendWrappedMessage\n",
      "    await ws.send_str(json_header)\n",
      "  File \"c:\\Users\\wagen\\anaconda3\\envs\\tf-gpu\\lib\\site-packages\\aiohttp\\web_ws.py\", line 308, in send_str\n",
      "    await self._writer.send(data, binary=False, compress=compress)\n",
      "  File \"c:\\Users\\wagen\\anaconda3\\envs\\tf-gpu\\lib\\site-packages\\aiohttp\\http_websocket.py\", line 690, in send\n",
      "    await self._send_frame(message, WSMsgType.TEXT, compress)\n",
      "  File \"c:\\Users\\wagen\\anaconda3\\envs\\tf-gpu\\lib\\site-packages\\aiohttp\\http_websocket.py\", line 653, in _send_frame\n",
      "    self._write(header + message)\n",
      "  File \"c:\\Users\\wagen\\anaconda3\\envs\\tf-gpu\\lib\\site-packages\\aiohttp\\http_websocket.py\", line 663, in _write\n",
      "    raise ConnectionResetError(\"Cannot write to closing transport\")\n",
      "ConnectionResetError: Cannot write to closing transport\n",
      "\n",
      "ERROR:aiohttp.server:Error handling request\n",
      "Traceback (most recent call last):\n",
      "  File \"c:\\Users\\wagen\\anaconda3\\envs\\tf-gpu\\lib\\site-packages\\wslink\\protocol.py\", line 329, in onMessage\n",
      "    await self.sendWrappedMessage(\n",
      "  File \"c:\\Users\\wagen\\anaconda3\\envs\\tf-gpu\\lib\\site-packages\\wslink\\protocol.py\", line 464, in sendWrappedMessage\n",
      "    await ws.send_str(json_header)\n",
      "  File \"c:\\Users\\wagen\\anaconda3\\envs\\tf-gpu\\lib\\site-packages\\aiohttp\\web_ws.py\", line 308, in send_str\n",
      "    await self._writer.send(data, binary=False, compress=compress)\n",
      "  File \"c:\\Users\\wagen\\anaconda3\\envs\\tf-gpu\\lib\\site-packages\\aiohttp\\http_websocket.py\", line 690, in send\n",
      "    await self._send_frame(message, WSMsgType.TEXT, compress)\n",
      "  File \"c:\\Users\\wagen\\anaconda3\\envs\\tf-gpu\\lib\\site-packages\\aiohttp\\http_websocket.py\", line 653, in _send_frame\n",
      "    self._write(header + message)\n",
      "  File \"c:\\Users\\wagen\\anaconda3\\envs\\tf-gpu\\lib\\site-packages\\aiohttp\\http_websocket.py\", line 663, in _write\n",
      "    raise ConnectionResetError(\"Cannot write to closing transport\")\n",
      "ConnectionResetError: Cannot write to closing transport\n",
      "\n",
      "During handling of the above exception, another exception occurred:\n",
      "\n",
      "Traceback (most recent call last):\n",
      "  File \"c:\\Users\\wagen\\anaconda3\\envs\\tf-gpu\\lib\\site-packages\\wslink\\protocol.py\", line 337, in onMessage\n",
      "    await self.sendWrappedError(\n",
      "  File \"c:\\Users\\wagen\\anaconda3\\envs\\tf-gpu\\lib\\site-packages\\wslink\\protocol.py\", line 497, in sendWrappedError\n",
      "    await ws.send_str(encMsg)\n",
      "  File \"c:\\Users\\wagen\\anaconda3\\envs\\tf-gpu\\lib\\site-packages\\aiohttp\\web_ws.py\", line 308, in send_str\n",
      "    await self._writer.send(data, binary=False, compress=compress)\n",
      "  File \"c:\\Users\\wagen\\anaconda3\\envs\\tf-gpu\\lib\\site-packages\\aiohttp\\http_websocket.py\", line 690, in send\n",
      "    await self._send_frame(message, WSMsgType.TEXT, compress)\n",
      "  File \"c:\\Users\\wagen\\anaconda3\\envs\\tf-gpu\\lib\\site-packages\\aiohttp\\http_websocket.py\", line 653, in _send_frame\n",
      "    self._write(header + message)\n",
      "  File \"c:\\Users\\wagen\\anaconda3\\envs\\tf-gpu\\lib\\site-packages\\aiohttp\\http_websocket.py\", line 663, in _write\n",
      "    raise ConnectionResetError(\"Cannot write to closing transport\")\n",
      "ConnectionResetError: Cannot write to closing transport\n",
      "\n",
      "During handling of the above exception, another exception occurred:\n",
      "\n",
      "Traceback (most recent call last):\n",
      "  File \"c:\\Users\\wagen\\anaconda3\\envs\\tf-gpu\\lib\\site-packages\\aiohttp\\web_protocol.py\", line 433, in _handle_request\n",
      "    resp = await request_handler(request)\n",
      "  File \"c:\\Users\\wagen\\anaconda3\\envs\\tf-gpu\\lib\\site-packages\\aiohttp\\web_app.py\", line 504, in _handle\n",
      "    resp = await handler(request)\n",
      "  File \"c:\\Users\\wagen\\anaconda3\\envs\\tf-gpu\\lib\\site-packages\\wslink\\backends\\aiohttp\\__init__.py\", line 213, in handleWsRequest\n",
      "    await self.onMessage(is_binary(msg), msg, client_id)\n",
      "  File \"c:\\Users\\wagen\\anaconda3\\envs\\tf-gpu\\lib\\site-packages\\wslink\\protocol.py\", line 350, in onMessage\n",
      "    await self.sendWrappedError(\n",
      "  File \"c:\\Users\\wagen\\anaconda3\\envs\\tf-gpu\\lib\\site-packages\\wslink\\protocol.py\", line 497, in sendWrappedError\n",
      "    await ws.send_str(encMsg)\n",
      "  File \"c:\\Users\\wagen\\anaconda3\\envs\\tf-gpu\\lib\\site-packages\\aiohttp\\web_ws.py\", line 308, in send_str\n",
      "    await self._writer.send(data, binary=False, compress=compress)\n",
      "  File \"c:\\Users\\wagen\\anaconda3\\envs\\tf-gpu\\lib\\site-packages\\aiohttp\\http_websocket.py\", line 690, in send\n",
      "    await self._send_frame(message, WSMsgType.TEXT, compress)\n",
      "  File \"c:\\Users\\wagen\\anaconda3\\envs\\tf-gpu\\lib\\site-packages\\aiohttp\\http_websocket.py\", line 653, in _send_frame\n",
      "    self._write(header + message)\n",
      "  File \"c:\\Users\\wagen\\anaconda3\\envs\\tf-gpu\\lib\\site-packages\\aiohttp\\http_websocket.py\", line 663, in _write\n",
      "    raise ConnectionResetError(\"Cannot write to closing transport\")\n",
      "ConnectionResetError: Cannot write to closing transport\n",
      "ERROR:root:Exception raised\n",
      "ERROR:root:ConnectionResetError('Cannot write to closing transport')\n",
      "ERROR:root:Traceback (most recent call last):\n",
      "  File \"c:\\Users\\wagen\\anaconda3\\envs\\tf-gpu\\lib\\site-packages\\wslink\\protocol.py\", line 329, in onMessage\n",
      "    await self.sendWrappedMessage(\n",
      "  File \"c:\\Users\\wagen\\anaconda3\\envs\\tf-gpu\\lib\\site-packages\\wslink\\protocol.py\", line 464, in sendWrappedMessage\n",
      "    await ws.send_str(json_header)\n",
      "  File \"c:\\Users\\wagen\\anaconda3\\envs\\tf-gpu\\lib\\site-packages\\aiohttp\\web_ws.py\", line 308, in send_str\n",
      "    await self._writer.send(data, binary=False, compress=compress)\n",
      "  File \"c:\\Users\\wagen\\anaconda3\\envs\\tf-gpu\\lib\\site-packages\\aiohttp\\http_websocket.py\", line 690, in send\n",
      "    await self._send_frame(message, WSMsgType.TEXT, compress)\n",
      "  File \"c:\\Users\\wagen\\anaconda3\\envs\\tf-gpu\\lib\\site-packages\\aiohttp\\http_websocket.py\", line 653, in _send_frame\n",
      "    self._write(header + message)\n",
      "  File \"c:\\Users\\wagen\\anaconda3\\envs\\tf-gpu\\lib\\site-packages\\aiohttp\\http_websocket.py\", line 663, in _write\n",
      "    raise ConnectionResetError(\"Cannot write to closing transport\")\n",
      "ConnectionResetError: Cannot write to closing transport\n",
      "\n",
      "ERROR:aiohttp.server:Error handling request\n",
      "Traceback (most recent call last):\n",
      "  File \"c:\\Users\\wagen\\anaconda3\\envs\\tf-gpu\\lib\\site-packages\\wslink\\protocol.py\", line 329, in onMessage\n",
      "    await self.sendWrappedMessage(\n",
      "  File \"c:\\Users\\wagen\\anaconda3\\envs\\tf-gpu\\lib\\site-packages\\wslink\\protocol.py\", line 464, in sendWrappedMessage\n",
      "    await ws.send_str(json_header)\n",
      "  File \"c:\\Users\\wagen\\anaconda3\\envs\\tf-gpu\\lib\\site-packages\\aiohttp\\web_ws.py\", line 308, in send_str\n",
      "    await self._writer.send(data, binary=False, compress=compress)\n",
      "  File \"c:\\Users\\wagen\\anaconda3\\envs\\tf-gpu\\lib\\site-packages\\aiohttp\\http_websocket.py\", line 690, in send\n",
      "    await self._send_frame(message, WSMsgType.TEXT, compress)\n",
      "  File \"c:\\Users\\wagen\\anaconda3\\envs\\tf-gpu\\lib\\site-packages\\aiohttp\\http_websocket.py\", line 653, in _send_frame\n",
      "    self._write(header + message)\n",
      "  File \"c:\\Users\\wagen\\anaconda3\\envs\\tf-gpu\\lib\\site-packages\\aiohttp\\http_websocket.py\", line 663, in _write\n",
      "    raise ConnectionResetError(\"Cannot write to closing transport\")\n",
      "ConnectionResetError: Cannot write to closing transport\n",
      "\n",
      "During handling of the above exception, another exception occurred:\n",
      "\n",
      "Traceback (most recent call last):\n",
      "  File \"c:\\Users\\wagen\\anaconda3\\envs\\tf-gpu\\lib\\site-packages\\wslink\\protocol.py\", line 337, in onMessage\n",
      "    await self.sendWrappedError(\n",
      "  File \"c:\\Users\\wagen\\anaconda3\\envs\\tf-gpu\\lib\\site-packages\\wslink\\protocol.py\", line 497, in sendWrappedError\n",
      "    await ws.send_str(encMsg)\n",
      "  File \"c:\\Users\\wagen\\anaconda3\\envs\\tf-gpu\\lib\\site-packages\\aiohttp\\web_ws.py\", line 308, in send_str\n",
      "    await self._writer.send(data, binary=False, compress=compress)\n",
      "  File \"c:\\Users\\wagen\\anaconda3\\envs\\tf-gpu\\lib\\site-packages\\aiohttp\\http_websocket.py\", line 690, in send\n",
      "    await self._send_frame(message, WSMsgType.TEXT, compress)\n",
      "  File \"c:\\Users\\wagen\\anaconda3\\envs\\tf-gpu\\lib\\site-packages\\aiohttp\\http_websocket.py\", line 653, in _send_frame\n",
      "    self._write(header + message)\n",
      "  File \"c:\\Users\\wagen\\anaconda3\\envs\\tf-gpu\\lib\\site-packages\\aiohttp\\http_websocket.py\", line 663, in _write\n",
      "    raise ConnectionResetError(\"Cannot write to closing transport\")\n",
      "ConnectionResetError: Cannot write to closing transport\n",
      "\n",
      "During handling of the above exception, another exception occurred:\n",
      "\n",
      "Traceback (most recent call last):\n",
      "  File \"c:\\Users\\wagen\\anaconda3\\envs\\tf-gpu\\lib\\site-packages\\aiohttp\\web_protocol.py\", line 433, in _handle_request\n",
      "    resp = await request_handler(request)\n",
      "  File \"c:\\Users\\wagen\\anaconda3\\envs\\tf-gpu\\lib\\site-packages\\aiohttp\\web_app.py\", line 504, in _handle\n",
      "    resp = await handler(request)\n",
      "  File \"c:\\Users\\wagen\\anaconda3\\envs\\tf-gpu\\lib\\site-packages\\wslink\\backends\\aiohttp\\__init__.py\", line 213, in handleWsRequest\n",
      "    await self.onMessage(is_binary(msg), msg, client_id)\n",
      "  File \"c:\\Users\\wagen\\anaconda3\\envs\\tf-gpu\\lib\\site-packages\\wslink\\protocol.py\", line 350, in onMessage\n",
      "    await self.sendWrappedError(\n",
      "  File \"c:\\Users\\wagen\\anaconda3\\envs\\tf-gpu\\lib\\site-packages\\wslink\\protocol.py\", line 497, in sendWrappedError\n",
      "    await ws.send_str(encMsg)\n",
      "  File \"c:\\Users\\wagen\\anaconda3\\envs\\tf-gpu\\lib\\site-packages\\aiohttp\\web_ws.py\", line 308, in send_str\n",
      "    await self._writer.send(data, binary=False, compress=compress)\n",
      "  File \"c:\\Users\\wagen\\anaconda3\\envs\\tf-gpu\\lib\\site-packages\\aiohttp\\http_websocket.py\", line 690, in send\n",
      "    await self._send_frame(message, WSMsgType.TEXT, compress)\n",
      "  File \"c:\\Users\\wagen\\anaconda3\\envs\\tf-gpu\\lib\\site-packages\\aiohttp\\http_websocket.py\", line 653, in _send_frame\n",
      "    self._write(header + message)\n",
      "  File \"c:\\Users\\wagen\\anaconda3\\envs\\tf-gpu\\lib\\site-packages\\aiohttp\\http_websocket.py\", line 663, in _write\n",
      "    raise ConnectionResetError(\"Cannot write to closing transport\")\n",
      "ConnectionResetError: Cannot write to closing transport\n",
      "ERROR:root:Exception raised\n",
      "ERROR:root:ConnectionResetError('Cannot write to closing transport')\n",
      "ERROR:root:Traceback (most recent call last):\n",
      "  File \"c:\\Users\\wagen\\anaconda3\\envs\\tf-gpu\\lib\\site-packages\\wslink\\protocol.py\", line 329, in onMessage\n",
      "    await self.sendWrappedMessage(\n",
      "  File \"c:\\Users\\wagen\\anaconda3\\envs\\tf-gpu\\lib\\site-packages\\wslink\\protocol.py\", line 464, in sendWrappedMessage\n",
      "    await ws.send_str(json_header)\n",
      "  File \"c:\\Users\\wagen\\anaconda3\\envs\\tf-gpu\\lib\\site-packages\\aiohttp\\web_ws.py\", line 308, in send_str\n",
      "    await self._writer.send(data, binary=False, compress=compress)\n",
      "  File \"c:\\Users\\wagen\\anaconda3\\envs\\tf-gpu\\lib\\site-packages\\aiohttp\\http_websocket.py\", line 690, in send\n",
      "    await self._send_frame(message, WSMsgType.TEXT, compress)\n",
      "  File \"c:\\Users\\wagen\\anaconda3\\envs\\tf-gpu\\lib\\site-packages\\aiohttp\\http_websocket.py\", line 653, in _send_frame\n",
      "    self._write(header + message)\n",
      "  File \"c:\\Users\\wagen\\anaconda3\\envs\\tf-gpu\\lib\\site-packages\\aiohttp\\http_websocket.py\", line 663, in _write\n",
      "    raise ConnectionResetError(\"Cannot write to closing transport\")\n",
      "ConnectionResetError: Cannot write to closing transport\n",
      "\n",
      "ERROR:aiohttp.server:Error handling request\n",
      "Traceback (most recent call last):\n",
      "  File \"c:\\Users\\wagen\\anaconda3\\envs\\tf-gpu\\lib\\site-packages\\wslink\\protocol.py\", line 329, in onMessage\n",
      "    await self.sendWrappedMessage(\n",
      "  File \"c:\\Users\\wagen\\anaconda3\\envs\\tf-gpu\\lib\\site-packages\\wslink\\protocol.py\", line 464, in sendWrappedMessage\n",
      "    await ws.send_str(json_header)\n",
      "  File \"c:\\Users\\wagen\\anaconda3\\envs\\tf-gpu\\lib\\site-packages\\aiohttp\\web_ws.py\", line 308, in send_str\n",
      "    await self._writer.send(data, binary=False, compress=compress)\n",
      "  File \"c:\\Users\\wagen\\anaconda3\\envs\\tf-gpu\\lib\\site-packages\\aiohttp\\http_websocket.py\", line 690, in send\n",
      "    await self._send_frame(message, WSMsgType.TEXT, compress)\n",
      "  File \"c:\\Users\\wagen\\anaconda3\\envs\\tf-gpu\\lib\\site-packages\\aiohttp\\http_websocket.py\", line 653, in _send_frame\n",
      "    self._write(header + message)\n",
      "  File \"c:\\Users\\wagen\\anaconda3\\envs\\tf-gpu\\lib\\site-packages\\aiohttp\\http_websocket.py\", line 663, in _write\n",
      "    raise ConnectionResetError(\"Cannot write to closing transport\")\n",
      "ConnectionResetError: Cannot write to closing transport\n",
      "\n",
      "During handling of the above exception, another exception occurred:\n",
      "\n",
      "Traceback (most recent call last):\n",
      "  File \"c:\\Users\\wagen\\anaconda3\\envs\\tf-gpu\\lib\\site-packages\\wslink\\protocol.py\", line 337, in onMessage\n",
      "    await self.sendWrappedError(\n",
      "  File \"c:\\Users\\wagen\\anaconda3\\envs\\tf-gpu\\lib\\site-packages\\wslink\\protocol.py\", line 497, in sendWrappedError\n",
      "    await ws.send_str(encMsg)\n",
      "  File \"c:\\Users\\wagen\\anaconda3\\envs\\tf-gpu\\lib\\site-packages\\aiohttp\\web_ws.py\", line 308, in send_str\n",
      "    await self._writer.send(data, binary=False, compress=compress)\n",
      "  File \"c:\\Users\\wagen\\anaconda3\\envs\\tf-gpu\\lib\\site-packages\\aiohttp\\http_websocket.py\", line 690, in send\n",
      "    await self._send_frame(message, WSMsgType.TEXT, compress)\n",
      "  File \"c:\\Users\\wagen\\anaconda3\\envs\\tf-gpu\\lib\\site-packages\\aiohttp\\http_websocket.py\", line 653, in _send_frame\n",
      "    self._write(header + message)\n",
      "  File \"c:\\Users\\wagen\\anaconda3\\envs\\tf-gpu\\lib\\site-packages\\aiohttp\\http_websocket.py\", line 663, in _write\n",
      "    raise ConnectionResetError(\"Cannot write to closing transport\")\n",
      "ConnectionResetError: Cannot write to closing transport\n",
      "\n",
      "During handling of the above exception, another exception occurred:\n",
      "\n",
      "Traceback (most recent call last):\n",
      "  File \"c:\\Users\\wagen\\anaconda3\\envs\\tf-gpu\\lib\\site-packages\\aiohttp\\web_protocol.py\", line 433, in _handle_request\n",
      "    resp = await request_handler(request)\n",
      "  File \"c:\\Users\\wagen\\anaconda3\\envs\\tf-gpu\\lib\\site-packages\\aiohttp\\web_app.py\", line 504, in _handle\n",
      "    resp = await handler(request)\n",
      "  File \"c:\\Users\\wagen\\anaconda3\\envs\\tf-gpu\\lib\\site-packages\\wslink\\backends\\aiohttp\\__init__.py\", line 213, in handleWsRequest\n",
      "    await self.onMessage(is_binary(msg), msg, client_id)\n",
      "  File \"c:\\Users\\wagen\\anaconda3\\envs\\tf-gpu\\lib\\site-packages\\wslink\\protocol.py\", line 350, in onMessage\n",
      "    await self.sendWrappedError(\n",
      "  File \"c:\\Users\\wagen\\anaconda3\\envs\\tf-gpu\\lib\\site-packages\\wslink\\protocol.py\", line 497, in sendWrappedError\n",
      "    await ws.send_str(encMsg)\n",
      "  File \"c:\\Users\\wagen\\anaconda3\\envs\\tf-gpu\\lib\\site-packages\\aiohttp\\web_ws.py\", line 308, in send_str\n",
      "    await self._writer.send(data, binary=False, compress=compress)\n",
      "  File \"c:\\Users\\wagen\\anaconda3\\envs\\tf-gpu\\lib\\site-packages\\aiohttp\\http_websocket.py\", line 690, in send\n",
      "    await self._send_frame(message, WSMsgType.TEXT, compress)\n",
      "  File \"c:\\Users\\wagen\\anaconda3\\envs\\tf-gpu\\lib\\site-packages\\aiohttp\\http_websocket.py\", line 653, in _send_frame\n",
      "    self._write(header + message)\n",
      "  File \"c:\\Users\\wagen\\anaconda3\\envs\\tf-gpu\\lib\\site-packages\\aiohttp\\http_websocket.py\", line 663, in _write\n",
      "    raise ConnectionResetError(\"Cannot write to closing transport\")\n",
      "ConnectionResetError: Cannot write to closing transport\n",
      "ERROR:root:Exception raised\n",
      "ERROR:root:ConnectionResetError('Cannot write to closing transport')\n",
      "ERROR:root:Traceback (most recent call last):\n",
      "  File \"c:\\Users\\wagen\\anaconda3\\envs\\tf-gpu\\lib\\site-packages\\wslink\\protocol.py\", line 329, in onMessage\n",
      "    await self.sendWrappedMessage(\n",
      "  File \"c:\\Users\\wagen\\anaconda3\\envs\\tf-gpu\\lib\\site-packages\\wslink\\protocol.py\", line 464, in sendWrappedMessage\n",
      "    await ws.send_str(json_header)\n",
      "  File \"c:\\Users\\wagen\\anaconda3\\envs\\tf-gpu\\lib\\site-packages\\aiohttp\\web_ws.py\", line 308, in send_str\n",
      "    await self._writer.send(data, binary=False, compress=compress)\n",
      "  File \"c:\\Users\\wagen\\anaconda3\\envs\\tf-gpu\\lib\\site-packages\\aiohttp\\http_websocket.py\", line 690, in send\n",
      "    await self._send_frame(message, WSMsgType.TEXT, compress)\n",
      "  File \"c:\\Users\\wagen\\anaconda3\\envs\\tf-gpu\\lib\\site-packages\\aiohttp\\http_websocket.py\", line 653, in _send_frame\n",
      "    self._write(header + message)\n",
      "  File \"c:\\Users\\wagen\\anaconda3\\envs\\tf-gpu\\lib\\site-packages\\aiohttp\\http_websocket.py\", line 663, in _write\n",
      "    raise ConnectionResetError(\"Cannot write to closing transport\")\n",
      "ConnectionResetError: Cannot write to closing transport\n",
      "\n",
      "ERROR:aiohttp.server:Error handling request\n",
      "Traceback (most recent call last):\n",
      "  File \"c:\\Users\\wagen\\anaconda3\\envs\\tf-gpu\\lib\\site-packages\\wslink\\protocol.py\", line 329, in onMessage\n",
      "    await self.sendWrappedMessage(\n",
      "  File \"c:\\Users\\wagen\\anaconda3\\envs\\tf-gpu\\lib\\site-packages\\wslink\\protocol.py\", line 464, in sendWrappedMessage\n",
      "    await ws.send_str(json_header)\n",
      "  File \"c:\\Users\\wagen\\anaconda3\\envs\\tf-gpu\\lib\\site-packages\\aiohttp\\web_ws.py\", line 308, in send_str\n",
      "    await self._writer.send(data, binary=False, compress=compress)\n",
      "  File \"c:\\Users\\wagen\\anaconda3\\envs\\tf-gpu\\lib\\site-packages\\aiohttp\\http_websocket.py\", line 690, in send\n",
      "    await self._send_frame(message, WSMsgType.TEXT, compress)\n",
      "  File \"c:\\Users\\wagen\\anaconda3\\envs\\tf-gpu\\lib\\site-packages\\aiohttp\\http_websocket.py\", line 653, in _send_frame\n",
      "    self._write(header + message)\n",
      "  File \"c:\\Users\\wagen\\anaconda3\\envs\\tf-gpu\\lib\\site-packages\\aiohttp\\http_websocket.py\", line 663, in _write\n",
      "    raise ConnectionResetError(\"Cannot write to closing transport\")\n",
      "ConnectionResetError: Cannot write to closing transport\n",
      "\n",
      "During handling of the above exception, another exception occurred:\n",
      "\n",
      "Traceback (most recent call last):\n",
      "  File \"c:\\Users\\wagen\\anaconda3\\envs\\tf-gpu\\lib\\site-packages\\wslink\\protocol.py\", line 337, in onMessage\n",
      "    await self.sendWrappedError(\n",
      "  File \"c:\\Users\\wagen\\anaconda3\\envs\\tf-gpu\\lib\\site-packages\\wslink\\protocol.py\", line 497, in sendWrappedError\n",
      "    await ws.send_str(encMsg)\n",
      "  File \"c:\\Users\\wagen\\anaconda3\\envs\\tf-gpu\\lib\\site-packages\\aiohttp\\web_ws.py\", line 308, in send_str\n",
      "    await self._writer.send(data, binary=False, compress=compress)\n",
      "  File \"c:\\Users\\wagen\\anaconda3\\envs\\tf-gpu\\lib\\site-packages\\aiohttp\\http_websocket.py\", line 690, in send\n",
      "    await self._send_frame(message, WSMsgType.TEXT, compress)\n",
      "  File \"c:\\Users\\wagen\\anaconda3\\envs\\tf-gpu\\lib\\site-packages\\aiohttp\\http_websocket.py\", line 653, in _send_frame\n",
      "    self._write(header + message)\n",
      "  File \"c:\\Users\\wagen\\anaconda3\\envs\\tf-gpu\\lib\\site-packages\\aiohttp\\http_websocket.py\", line 663, in _write\n",
      "    raise ConnectionResetError(\"Cannot write to closing transport\")\n",
      "ConnectionResetError: Cannot write to closing transport\n",
      "\n",
      "During handling of the above exception, another exception occurred:\n",
      "\n",
      "Traceback (most recent call last):\n",
      "  File \"c:\\Users\\wagen\\anaconda3\\envs\\tf-gpu\\lib\\site-packages\\aiohttp\\web_protocol.py\", line 433, in _handle_request\n",
      "    resp = await request_handler(request)\n",
      "  File \"c:\\Users\\wagen\\anaconda3\\envs\\tf-gpu\\lib\\site-packages\\aiohttp\\web_app.py\", line 504, in _handle\n",
      "    resp = await handler(request)\n",
      "  File \"c:\\Users\\wagen\\anaconda3\\envs\\tf-gpu\\lib\\site-packages\\wslink\\backends\\aiohttp\\__init__.py\", line 213, in handleWsRequest\n",
      "    await self.onMessage(is_binary(msg), msg, client_id)\n",
      "  File \"c:\\Users\\wagen\\anaconda3\\envs\\tf-gpu\\lib\\site-packages\\wslink\\protocol.py\", line 350, in onMessage\n",
      "    await self.sendWrappedError(\n",
      "  File \"c:\\Users\\wagen\\anaconda3\\envs\\tf-gpu\\lib\\site-packages\\wslink\\protocol.py\", line 497, in sendWrappedError\n",
      "    await ws.send_str(encMsg)\n",
      "  File \"c:\\Users\\wagen\\anaconda3\\envs\\tf-gpu\\lib\\site-packages\\aiohttp\\web_ws.py\", line 308, in send_str\n",
      "    await self._writer.send(data, binary=False, compress=compress)\n",
      "  File \"c:\\Users\\wagen\\anaconda3\\envs\\tf-gpu\\lib\\site-packages\\aiohttp\\http_websocket.py\", line 690, in send\n",
      "    await self._send_frame(message, WSMsgType.TEXT, compress)\n",
      "  File \"c:\\Users\\wagen\\anaconda3\\envs\\tf-gpu\\lib\\site-packages\\aiohttp\\http_websocket.py\", line 653, in _send_frame\n",
      "    self._write(header + message)\n",
      "  File \"c:\\Users\\wagen\\anaconda3\\envs\\tf-gpu\\lib\\site-packages\\aiohttp\\http_websocket.py\", line 663, in _write\n",
      "    raise ConnectionResetError(\"Cannot write to closing transport\")\n",
      "ConnectionResetError: Cannot write to closing transport\n"
     ]
    }
   ],
   "source": [
    "i=0\n",
    "for sigma_k in sigma_k_list:\n",
    "    for kappa in kappa_list:\n",
    "        rho = rho_list[i]\n",
    "        parameters = parameters_list[i]\n",
    "\n",
    "        print('parameters = [{:0.1f}, {:0>3d}, {:0.2f}]'.format(*parameters))\n",
    "\n",
    "        ## scale the data\n",
    "        n_grid_scale = 400\n",
    "        scale_zoom = n_grid_scale/rho.shape[0]\n",
    "\n",
    "        rho, r_grid = scale_rho(rho, [x,y,z], scale_zoom)\n",
    "\n",
    "        rho_real = rho.real\n",
    "        rho_imag = rho.imag\n",
    "        rho_phase = np.angle(rho)\n",
    "\n",
    "        ## identify vortex_lines\n",
    "        vortex_volume = vortex_phase(rho_phase)\n",
    "\n",
    "        array = vortex_volume\n",
    "        positions_tuple_list, positions_list, adjacent_list, adjacent_id_list = get_adjacency(array)\n",
    "        poslist_arr = np.array(positions_tuple_list)\n",
    "\n",
    "        parts_arr = get_connected_part(adjacent_id_list)\n",
    "        max_part = np.max(parts_arr)\n",
    "\n",
    "        sample, sample_adj_list, sample_adj_dict = get_core(positions_tuple_list, adjacent_id_list, \n",
    "                                                    cluster_size=3)\n",
    "\n",
    "        sample_ordered = get_ordered_points(sample, sample_adj_list)\n",
    "\n",
    "\n",
    "        ## visualization\n",
    "        visualize_defect(rho_real,vortex_volume,sample_ordered,\n",
    "        lamellar=True,lw=2,\n",
    "        filename = './Figures/real_space/overlap_{:0.3f}_{:0>3d}_{:0.2f}.png'.format(*parameters))\n",
    "\n",
    "        i+=1"
   ]
  }
 ],
 "metadata": {
  "kernelspec": {
   "display_name": "tf-gpu",
   "language": "python",
   "name": "python3"
  },
  "language_info": {
   "codemirror_mode": {
    "name": "ipython",
    "version": 3
   },
   "file_extension": ".py",
   "mimetype": "text/x-python",
   "name": "python",
   "nbconvert_exporter": "python",
   "pygments_lexer": "ipython3",
   "version": "3.9.17"
  }
 },
 "nbformat": 4,
 "nbformat_minor": 2
}
