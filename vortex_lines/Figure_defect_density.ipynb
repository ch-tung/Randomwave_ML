{
 "cells": [
  {
   "cell_type": "code",
   "execution_count": 9,
   "metadata": {},
   "outputs": [],
   "source": [
    "import numpy as np\n",
    "import matplotlib.pyplot as plt\n",
    "from mpl_toolkits.mplot3d import Axes3D\n",
    "plt.rcParams[\"font.family\"] = \"Arial\"\n",
    "# from skimage import measure\n",
    "import pyvista as pv\n",
    "pv.set_jupyter_backend('trame')\n",
    "from tqdm import tqdm, trange\n",
    "from scipy import interpolate, ndimage, fft\n",
    "from scipy.io import savemat, loadmat\n",
    "from time import time"
   ]
  },
  {
   "cell_type": "markdown",
   "metadata": {},
   "source": [
    "## Define function"
   ]
  },
  {
   "cell_type": "markdown",
   "metadata": {},
   "source": [
    "### Generate randomwave"
   ]
  },
  {
   "cell_type": "code",
   "execution_count": 2,
   "metadata": {},
   "outputs": [],
   "source": [
    "def sample_k(k_mean,k_cov):\n",
    "    return np.random.multivariate_normal(k_mean,k_cov)\n",
    "\n",
    "#### Superpositioning the random wave ####\n",
    "def rotation_matrix(axis, phi):\n",
    "    \"\"\"\n",
    "    Return the rotation matrix associated with counterclockwise rotation about\n",
    "    the given axis by theta radians.\n",
    "    \"\"\"\n",
    "    axis = np.asarray(axis)\n",
    "    axis = axis / np.sqrt(np.dot(axis, axis))\n",
    "    a = np.cos(phi / 2.0)\n",
    "    b, c, d = -axis * np.sin(phi / 2.0)\n",
    "    aa, bb, cc, dd = a * a, b * b, c * c, d * d\n",
    "    bc, ad, ac, ab, bd, cd = b * c, a * d, a * c, a * b, b * d, c * d\n",
    "    return np.array([[aa + bb - cc - dd, 2 * (bc + ad), 2 * (bd - ac)],\n",
    "                     [2 * (bc - ad), aa + cc - bb - dd, 2 * (cd + ab)],\n",
    "                     [2 * (bd + ac), 2 * (cd - ab), aa + dd - bb - cc]])\n",
    "\n",
    "def sample_wave_MO_complex(r_grid, k_mean, k_cov, n_wave = 100, kappa=1e8):\n",
    "    rho = np.zeros_like(r_grid[0]).astype('complex64')\n",
    "    r_grid = [r.astype(np.float32) for r in r_grid]\n",
    "    for i in range(n_wave):\n",
    "        k_sample = sample_k(k_mean,k_cov)\n",
    "\n",
    "        # misorientation\n",
    "        \"\"\"\n",
    "        https://en.wikipedia.org/wiki/Von_Mises%E2%80%93Fisher_distribution\n",
    "        https://doi.org/10.1080/03610919408813161\n",
    "        \"\"\"\n",
    "        sigma = 1e-6\n",
    "        xi = np.random.rand()\n",
    "        theta = np.random.rand()*2*np.pi\n",
    "        W = 1+1/kappa*(np.log(xi*(1-(xi-1)/xi*np.exp(-2*kappa))))\n",
    "        phi = np.arccos(W)\n",
    "        axis = [np.cos(theta),np.sin(theta),0]\n",
    "        R = rotation_matrix(axis,phi)\n",
    "        k_sample_rot = R@k_sample\n",
    "\n",
    "        k_dot_r = np.sum([r_grid[x]*k_sample_rot[x] for x in range(3)],axis=0)\n",
    "        phi_r = np.random.rand()*2*np.pi # random phase\n",
    "        rho_i = np.exp(1j*(k_dot_r + phi_r)) # cos(k_n.r + phi_n)\n",
    "        rho += rho_i.astype('complex64')\n",
    "\n",
    "    rho = np.sqrt(2/n_wave)*rho\n",
    "    \n",
    "    return rho\n",
    "\n",
    "def scale_rho(rho, xyz, scale):\n",
    "    rho = ndimage.zoom(rho, scale, order=1)\n",
    "    # r_grid = np.array([ndimage.zoom(r, scale, order=1) for r in r_grid]) \n",
    "    x = xyz[0]\n",
    "    y = xyz[1]\n",
    "    z = xyz[2]\n",
    "    x_zoom = ndimage.zoom(x, scale, order=1)\n",
    "    y_zoom = ndimage.zoom(y, scale, order=1)\n",
    "    z_zoom = ndimage.zoom(z, scale, order=1)\n",
    "    r_grid = np.meshgrid(x_zoom,y_zoom,z_zoom)\n",
    "    return rho, r_grid"
   ]
  },
  {
   "cell_type": "markdown",
   "metadata": {},
   "source": [
    "### Identify vortex lines"
   ]
  },
  {
   "cell_type": "code",
   "execution_count": 3,
   "metadata": {},
   "outputs": [],
   "source": [
    "## identify vortex line (slice of plane)\n",
    "def vortex_slice(phase_slice):\n",
    "    '''\n",
    "    Input\n",
    "    phase_slice: 2D array of phase field (floats, -pi to pi).\n",
    "\n",
    "    Output\n",
    "    vortex_array: 2D array of vortex locations (binary)\n",
    "    ----------------------------------------------------------------\n",
    "     --- --- ---\n",
    "    | 1 | 8 | 7 |\n",
    "    --- --- --- \n",
    "    | 2 | p | 6 |\n",
    "    --- --- ---\n",
    "    | 3 | 4 | 5 |\n",
    "    --- --- ---\n",
    "    A pixel is identified as a vortex if the phase difference along \n",
    "    the encircling path exceeds pi for an odd number of times.\n",
    "    '''\n",
    "    # list_cells = np.array([[-1,1], [-1,0], [-1,-1], [0,-1], [1,-1], [1,0], [1,1], [0,1]])\n",
    "\n",
    "    vortex_array = np.zeros_like(phase_slice)\n",
    "    # evaluate the phase difference\n",
    "    pd_u = phase_slice[:,1:]-phase_slice[:,0:-1]\n",
    "    pd_d = phase_slice[:,0:-1]-phase_slice[:,1:]\n",
    "    pd_l = phase_slice[0:-1,:]-phase_slice[1:,:]\n",
    "    pd_r = phase_slice[1:,:]-phase_slice[0:-1,:]\n",
    "\n",
    "    ## vectorized\n",
    "    ib_i = np.arange(phase_slice.shape[0]-2)\n",
    "    ib_j = np.arange(phase_slice.shape[0]-2)\n",
    "    phase_diff = np.array([pd_d[np.ix_(ib_i+1-1,ib_j+1)],pd_d[np.ix_(ib_i+1-1,ib_j)],\n",
    "                           pd_r[np.ix_(ib_i,ib_j+1-1)],pd_r[np.ix_(ib_i+1,ib_j+1-1)],\n",
    "                           pd_u[np.ix_(ib_i+1+1,ib_j)],pd_u[np.ix_(ib_i+1+1,ib_j+1)], \n",
    "                           pd_l[np.ix_(ib_i+1,ib_j+1+1)],pd_l[np.ix_(ib_i,ib_j+1+1)]])\n",
    "    index_defect = np.sum(np.abs(phase_diff)>np.pi,axis=0)%2>0\n",
    "    index_defect = np.pad(index_defect, ((1,1), (1,1)))\n",
    "    vortex_array[index_defect] = 1\n",
    "    \n",
    "    ## for loop\n",
    "    # for i in range(phase_slice.shape[0]-2):\n",
    "    #     for j in range(phase_slice.shape[0]-2):\n",
    "    #         # center_coord = np.array([i+1,j+1])\n",
    "    #         # cells_coord = center_coord + list_cells\n",
    "    #         # phase_coord = [phase_slice[k] for k in zip(*cells_coord.T)]\n",
    "    #         # phase_diff = np.array([(phase_coord[(i+1)%8]-phase_coord[i%8]) for i in range(8)])\n",
    "    #         phase_diff = np.array([pd_d[i+1-1,j+1],pd_d[i+1-1,j],\n",
    "    #                                pd_r[i,j+1-1],pd_r[i+1,j+1-1],\n",
    "    #                                pd_u[i+1+1,j],pd_u[i+1+1,j+1], \n",
    "    #                                pd_l[i+1,j+1+1],pd_l[i,j+1+1]])\n",
    "\n",
    "    #         if np.sum(np.abs(phase_diff)>np.pi)%2>0:\n",
    "    #             vortex_array[i+1,j+1] = 1\n",
    "\n",
    "    return vortex_array\n",
    "\n",
    "def vortex_phase(rho_phase):\n",
    "    \"\"\"\n",
    "    Scan over the simulation cell and identify defects.\n",
    "\n",
    "    Input:\n",
    "        rho_phase: The 3D density phase array.\n",
    "\n",
    "    Output:\n",
    "        vortex_volume: The 3D array identifying defect position.\n",
    "    \"\"\"\n",
    "\n",
    "    ## scanning over the simulation cell\n",
    "    n_slices = rho_phase.shape[1]\n",
    "    vortex_volume = np.ones_like(rho_phase)\n",
    "    for ax in range(3):\n",
    "        axis_slice = ax\n",
    "        vortex_array_list = []\n",
    "        for i in range(n_slices):\n",
    "            rho_phase_slices = rho_phase.take(indices = i, axis=axis_slice)\n",
    "            vortex_array = vortex_slice(rho_phase_slices)\n",
    "            vortex_array_list.append(vortex_array)\n",
    "\n",
    "        vortex_volume_ax = np.array(vortex_array_list)\n",
    "        vortex_volume_ax = np.moveaxis(vortex_volume_ax,0,axis_slice)\n",
    "        vortex_volume = vortex_volume*(1-vortex_volume_ax)\n",
    "\n",
    "    vortex_volume = 1-vortex_volume\n",
    "\n",
    "    return vortex_volume\n",
    "\n",
    "def defect_density(vortex_volume, r_grid):\n",
    "    d_voxel = r_grid[0][0,1,0]-r_grid[0][0,0,0]\n",
    "    d_cell = [(r_grid[0][0,-1,0]-r_grid[0][0,0,0]),\n",
    "              (r_grid[1][-1,0,0]-r_grid[1][0,0,0]),\n",
    "              (r_grid[2][0,0,-1]-r_grid[2][0,0,0])] \n",
    "    sum_voxel = np.sum(vortex_volume) # total volume of defective voxels (pixel^3)\n",
    "    cross_voxel = 4 # crossection of defective voxels (pixel^2)\n",
    "    length = sum_voxel/cross_voxel # length of defect line (pixel)\n",
    "\n",
    "    cell_volume = d_cell[0]*d_cell[1]*d_cell[2]\n",
    "    line_density = length*d_voxel/cell_volume\n",
    "\n",
    "    return(line_density)\n"
   ]
  },
  {
   "cell_type": "markdown",
   "metadata": {},
   "source": [
    "### Visualization"
   ]
  },
  {
   "cell_type": "code",
   "execution_count": 4,
   "metadata": {},
   "outputs": [],
   "source": [
    "def visualize_lamellar(rho_real,vortex_volume,\n",
    "                       lamellar=True,isometric=False,close=False,\n",
    "                       filename = './test_lamellar_vortex.png'):\n",
    "    # pyvista\n",
    "    # https://stackoverflow.com/questions/6030098\n",
    "    grid = pv.StructuredGrid(r_grid[0], r_grid[1], r_grid[2])\n",
    "    grid[\"vol\"] = rho_real.flatten('F')\n",
    "    mesh = grid.contour([alpha])\n",
    "\n",
    "    grid[\"vol\"] = vortex_volume.flatten('F')\n",
    "    mesh2 = grid.contour([0.5])\n",
    "\n",
    "    # Visualization\n",
    "    pv.set_plot_theme('document')\n",
    "    pl = pv.Plotter(window_size=[600, 600])\n",
    "    pl.enable_anti_aliasing('fxaa')\n",
    "\n",
    "    if lamellar:\n",
    "        backface_params = dict(color='#303030',\n",
    "                            ambient=0.2, diffuse=0.8, specular=0.1, specular_power=10,\n",
    "                            opacity=1\n",
    "                            )\n",
    "        pl.add_mesh(mesh, show_scalar_bar=False, color='#A0A0A0',  \n",
    "                    ambient=0.2, diffuse=0.8, specular=0.1, specular_power=10,\n",
    "                    backface_params=backface_params, \n",
    "                    smooth_shading=True, \n",
    "                    opacity=1\n",
    "                    )\n",
    "\n",
    "    pl.add_mesh(mesh, opacity=0, show_scalar_bar=False)\n",
    "\n",
    "    backface_params_defect = dict(color='#FF0000',\n",
    "                        ambient=0.2, diffuse=0.8, specular=0.1, specular_power=10,\n",
    "                        opacity=0.5\n",
    "                        )\n",
    "    pl.add_mesh(mesh2, show_scalar_bar=False, color='#FF0000',  \n",
    "                ambient=0.2, diffuse=0.8, specular=0.1, specular_power=10,\n",
    "                backface_params=backface_params_defect, \n",
    "                smooth_shading=True, \n",
    "                opacity=0.5\n",
    "                )\n",
    "\n",
    "    if isometric:\n",
    "        # camera setting\n",
    "        pl.enable_parallel_projection()\n",
    "        pl.camera_position = 'yz'\n",
    "        pl.camera.reset_clipping_range()\n",
    "    else:\n",
    "        # camera setting\n",
    "        pl.camera_position = 'yz'\n",
    "        pl.camera.azimuth = -60.0\n",
    "        pl.camera.elevation = 24.0\n",
    "        pl.camera.reset_clipping_range()\n",
    "\n",
    "    # light setting\n",
    "    light = pv.Light()\n",
    "    light.set_direction_angle(21, -55.0)\n",
    "    light.attenuation_values = (0,0,2)\n",
    "    pl.add_light(light)\n",
    "\n",
    "    pl.add_bounding_box()\n",
    "    pl.show(screenshot=filename)\n",
    "\n",
    "    if close:\n",
    "        pl.close(render=False)"
   ]
  },
  {
   "cell_type": "code",
   "execution_count": 5,
   "metadata": {},
   "outputs": [],
   "source": [
    "## Fig. 2 Defect density - parameter"
   ]
  },
  {
   "cell_type": "code",
   "execution_count": 6,
   "metadata": {},
   "outputs": [
    {
     "name": "stderr",
     "output_type": "stream",
     "text": [
      "  0%|          | 0/21 [00:00<?, ?it/s]"
     ]
    },
    {
     "name": "stdout",
     "output_type": "stream",
     "text": [
      "parameters = [0.2_0.25_0.00]\n"
     ]
    },
    {
     "name": "stderr",
     "output_type": "stream",
     "text": [
      "  5%|▍         | 1/21 [01:15<25:01, 75.09s/it]"
     ]
    },
    {
     "name": "stdout",
     "output_type": "stream",
     "text": [
      "parameters = [0.2_0.35_0.00]\n"
     ]
    },
    {
     "name": "stderr",
     "output_type": "stream",
     "text": [
      " 10%|▉         | 2/21 [02:31<23:57, 75.63s/it]"
     ]
    },
    {
     "name": "stdout",
     "output_type": "stream",
     "text": [
      "parameters = [0.2_0.50_0.00]\n"
     ]
    },
    {
     "name": "stderr",
     "output_type": "stream",
     "text": [
      " 14%|█▍        | 3/21 [03:47<22:47, 75.98s/it]"
     ]
    },
    {
     "name": "stdout",
     "output_type": "stream",
     "text": [
      "parameters = [0.2_0.71_0.00]\n"
     ]
    },
    {
     "name": "stderr",
     "output_type": "stream",
     "text": [
      " 19%|█▉        | 4/21 [05:03<21:33, 76.10s/it]"
     ]
    },
    {
     "name": "stdout",
     "output_type": "stream",
     "text": [
      "parameters = [0.2_1.00_0.00]\n"
     ]
    },
    {
     "name": "stderr",
     "output_type": "stream",
     "text": [
      " 24%|██▍       | 5/21 [06:20<20:22, 76.38s/it]"
     ]
    },
    {
     "name": "stdout",
     "output_type": "stream",
     "text": [
      "parameters = [0.2_1.41_0.00]\n"
     ]
    },
    {
     "name": "stderr",
     "output_type": "stream",
     "text": [
      " 29%|██▊       | 6/21 [07:39<19:18, 77.24s/it]"
     ]
    },
    {
     "name": "stdout",
     "output_type": "stream",
     "text": [
      "parameters = [0.2_2.00_0.00]\n"
     ]
    },
    {
     "name": "stderr",
     "output_type": "stream",
     "text": [
      " 33%|███▎      | 7/21 [08:56<18:01, 77.27s/it]"
     ]
    },
    {
     "name": "stdout",
     "output_type": "stream",
     "text": [
      "parameters = [0.2_2.83_0.00]\n"
     ]
    },
    {
     "name": "stderr",
     "output_type": "stream",
     "text": [
      " 38%|███▊      | 8/21 [10:13<16:42, 77.14s/it]"
     ]
    },
    {
     "name": "stdout",
     "output_type": "stream",
     "text": [
      "parameters = [0.2_4.00_0.00]\n"
     ]
    },
    {
     "name": "stderr",
     "output_type": "stream",
     "text": [
      " 43%|████▎     | 9/21 [11:30<15:24, 77.06s/it]"
     ]
    },
    {
     "name": "stdout",
     "output_type": "stream",
     "text": [
      "parameters = [0.2_5.66_0.00]\n"
     ]
    },
    {
     "name": "stderr",
     "output_type": "stream",
     "text": [
      " 48%|████▊     | 10/21 [12:47<14:05, 76.90s/it]"
     ]
    },
    {
     "name": "stdout",
     "output_type": "stream",
     "text": [
      "parameters = [0.2_8.00_0.00]\n"
     ]
    },
    {
     "name": "stderr",
     "output_type": "stream",
     "text": [
      " 52%|█████▏    | 11/21 [14:03<12:46, 76.61s/it]"
     ]
    },
    {
     "name": "stdout",
     "output_type": "stream",
     "text": [
      "parameters = [0.2_11.31_0.00]\n"
     ]
    },
    {
     "name": "stderr",
     "output_type": "stream",
     "text": [
      " 57%|█████▋    | 12/21 [15:19<11:29, 76.64s/it]"
     ]
    },
    {
     "name": "stdout",
     "output_type": "stream",
     "text": [
      "parameters = [0.2_16.00_0.00]\n"
     ]
    },
    {
     "name": "stderr",
     "output_type": "stream",
     "text": [
      " 62%|██████▏   | 13/21 [16:36<10:12, 76.51s/it]"
     ]
    },
    {
     "name": "stdout",
     "output_type": "stream",
     "text": [
      "parameters = [0.2_22.63_0.00]\n"
     ]
    },
    {
     "name": "stderr",
     "output_type": "stream",
     "text": [
      " 67%|██████▋   | 14/21 [17:52<08:54, 76.39s/it]"
     ]
    },
    {
     "name": "stdout",
     "output_type": "stream",
     "text": [
      "parameters = [0.2_32.00_0.00]\n"
     ]
    },
    {
     "name": "stderr",
     "output_type": "stream",
     "text": [
      " 71%|███████▏  | 15/21 [19:08<07:38, 76.39s/it]"
     ]
    },
    {
     "name": "stdout",
     "output_type": "stream",
     "text": [
      "parameters = [0.2_45.25_0.00]\n"
     ]
    },
    {
     "name": "stderr",
     "output_type": "stream",
     "text": [
      " 76%|███████▌  | 16/21 [20:24<06:20, 76.17s/it]"
     ]
    },
    {
     "name": "stdout",
     "output_type": "stream",
     "text": [
      "parameters = [0.2_64.00_0.00]\n"
     ]
    },
    {
     "name": "stderr",
     "output_type": "stream",
     "text": [
      " 81%|████████  | 17/21 [21:39<05:03, 75.98s/it]"
     ]
    },
    {
     "name": "stdout",
     "output_type": "stream",
     "text": [
      "parameters = [0.2_90.51_0.00]\n"
     ]
    },
    {
     "name": "stderr",
     "output_type": "stream",
     "text": [
      " 86%|████████▌ | 18/21 [22:55<03:47, 75.91s/it]"
     ]
    },
    {
     "name": "stdout",
     "output_type": "stream",
     "text": [
      "parameters = [0.2_128.00_0.00]\n"
     ]
    },
    {
     "name": "stderr",
     "output_type": "stream",
     "text": [
      " 90%|█████████ | 19/21 [24:11<02:31, 75.80s/it]"
     ]
    },
    {
     "name": "stdout",
     "output_type": "stream",
     "text": [
      "parameters = [0.2_181.02_0.00]\n"
     ]
    },
    {
     "name": "stderr",
     "output_type": "stream",
     "text": [
      " 95%|█████████▌| 20/21 [25:26<01:15, 75.76s/it]"
     ]
    },
    {
     "name": "stdout",
     "output_type": "stream",
     "text": [
      "parameters = [0.2_256.00_0.00]\n"
     ]
    },
    {
     "name": "stderr",
     "output_type": "stream",
     "text": [
      "100%|██████████| 21/21 [26:42<00:00, 76.30s/it]\n"
     ]
    }
   ],
   "source": [
    "## Meshgrid\n",
    "n_grid = 128\n",
    "x = np.linspace(-1,1,n_grid+1)\n",
    "y = np.linspace(-1,1,n_grid+1)\n",
    "z = np.linspace(-1,1,n_grid+1)\n",
    "\n",
    "r_grid = np.meshgrid(x,y,z) \n",
    "\n",
    "parameters_list = []\n",
    "line_density_list = []\n",
    "rho_list = []\n",
    "\n",
    "n_sample = 8\n",
    "\n",
    "for i_kappa in trange(21):\n",
    "    ## Random wave\n",
    "    sigma_k = 0.2\n",
    "    kappa = 2**((i_kappa-4)/2)\n",
    "    alpha = 0\n",
    "\n",
    "    parameters = [sigma_k,kappa,alpha]\n",
    "    parameters_list.append(parameters)\n",
    "\n",
    "    print('parameters = [{:0.1f}_{:3.2f}_{:0.2f}]'.format(*parameters))\n",
    "\n",
    "    #### Wave vector distribution ####\n",
    "    scale = 5\n",
    "    k_mean_z = np.array([0,0,scale])*2*np.pi # lamellar perpendicular to z axis \n",
    "    # k_mean_x = np.array([0,0,0])*np.pi # lamellar perpendicular to z axis \n",
    "    k_var  = (np.array([0,0,sigma_k*scale])*2*np.pi)**2\n",
    "    k_cov  = np.diagflat(k_var)\n",
    "\n",
    "    line_density = 0\n",
    "    for i in range(n_sample):\n",
    "        rho = sample_wave_MO_complex(r_grid,k_mean_z,k_cov,n_wave = 100, kappa=kappa)\n",
    "\n",
    "        # rho_list.append(rho)\n",
    "\n",
    "        # ## scale the data\n",
    "        # n_grid_scale = 400\n",
    "        # scale_zoom = n_grid_scale/rho.shape[0]\n",
    "        # rho, r_grid = scale_rho(rho, [x,y,z], scale_zoom)\n",
    "\n",
    "        rho_phase = np.angle(rho)\n",
    "\n",
    "        ## identify vortex_lines\n",
    "        vortex_volume = vortex_phase(rho_phase)\n",
    "        line_density += defect_density(vortex_volume, r_grid)\n",
    "\n",
    "    line_density = line_density/n_sample\n",
    "\n",
    "    line_density_list.append(line_density)"
   ]
  },
  {
   "cell_type": "code",
   "execution_count": 7,
   "metadata": {},
   "outputs": [
    {
     "data": {
      "image/png": "[encoded data removed]",
      "text/plain": [
       "<Figure size 600x600 with 1 Axes>"
      ]
     },
     "metadata": {},
     "output_type": "display_data"
    }
   ],
   "source": [
    "#### plotting\n",
    "fig = plt.figure(figsize=(6,6))\n",
    "ax = fig.add_subplot(1, 1, 1)\n",
    "\n",
    "kappa = np.array(parameters_list)[:,1]\n",
    "line_density_list = np.array(line_density_list)\n",
    "ax.plot(kappa,line_density_list/scale**2,'or',fillstyle='none')\n",
    "    \n",
    "# ax.set_xlim([0,1.5])\n",
    "# ax.set_ylim([0,30])\n",
    "\n",
    "ax.set_xlabel(r'$\\Gamma$',fontsize=20)\n",
    "ax.set_ylabel(r'$\\rho d^2$',fontsize=20)\n",
    "ax.set_yscale('log')\n",
    "ax.set_xscale('log')\n",
    "ax.set_xlim([1e-1,500])\n",
    "ax.set_ylim([1e-2,5])\n",
    "ax.tick_params(direction='in', axis='both', which='both', labelsize=18, pad=10)"
   ]
  },
  {
   "cell_type": "code",
   "execution_count": 8,
   "metadata": {},
   "outputs": [],
   "source": [
    "## save results\n",
    "mdic = {'scale': scale,\n",
    "        'line_density_list': line_density_list,\n",
    "        'parameters_list': parameters_list}\n",
    "\n",
    "filename = 'results_density_0.2.mat'\n",
    "savemat(filename, mdic)"
   ]
  },
  {
   "cell_type": "code",
   "execution_count": 19,
   "metadata": {},
   "outputs": [
    {
     "data": {
      "image/png": "[encoded data removed]",
      "text/plain": [
       "<Figure size 600x600 with 1 Axes>"
      ]
     },
     "metadata": {},
     "output_type": "display_data"
    }
   ],
   "source": [
    "#### plotting\n",
    "fig = plt.figure(figsize=(6,6))\n",
    "ax = fig.add_subplot(1, 1, 1)\n",
    "\n",
    "for i in range(3):\n",
    "    filename = 'results_density_0.{:d}.mat'.format(i)\n",
    "    data = loadmat(filename)\n",
    "    parameters_list = data['parameters_list']\n",
    "    line_density_list = data['line_density_list'][0]\n",
    "\n",
    "    kappa = np.array(parameters_list)[:,1]\n",
    "    line_density_list = np.array(line_density_list)\n",
    "    ax.plot(kappa,line_density_list/scale**2,\n",
    "            '-o',fillstyle='none',label=r'$\\sigma_k=0.{:d}$'.format(i))\n",
    "        \n",
    "    # ax.set_xlim([0,1.5])\n",
    "    # ax.set_ylim([0,30])\n",
    "\n",
    "    ax.set_xlabel(r'$\\Gamma$',fontsize=20)\n",
    "    ax.set_ylabel(r'$\\rho d^2$',fontsize=20)\n",
    "    ax.set_yscale('log')\n",
    "    ax.set_xscale('log')\n",
    "    ax.set_xlim([1e-1,500])\n",
    "    ax.set_ylim([1e-2,5])\n",
    "    ax.legend(fontsize=18,frameon=False,loc='lower left',)\n",
    "    ax.tick_params(direction='in', axis='both', which='both', labelsize=18, pad=10)"
   ]
  }
 ],
 "metadata": {
  "kernelspec": {
   "display_name": "tf-gpu",
   "language": "python",
   "name": "python3"
  },
  "language_info": {
   "codemirror_mode": {
    "name": "ipython",
    "version": 3
   },
   "file_extension": ".py",
   "mimetype": "text/x-python",
   "name": "python",
   "nbconvert_exporter": "python",
   "pygments_lexer": "ipython3",
   "version": "3.9.17"
  }
 },
 "nbformat": 4,
 "nbformat_minor": 2
}
